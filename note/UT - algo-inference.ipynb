{
 "cells": [
  {
   "cell_type": "markdown",
   "metadata": {},
   "source": [
    "# Unittests - mercs/algo/inference"
   ]
  },
  {
   "cell_type": "markdown",
   "metadata": {},
   "source": [
    "## Imports"
   ]
  },
  {
   "cell_type": "code",
   "execution_count": 2,
   "metadata": {},
   "outputs": [
    {
     "name": "stderr",
     "output_type": "stream",
     "text": [
      "/home/elia/Software/anaconda3/lib/python3.6/site-packages/sklearn/ensemble/weight_boosting.py:29: DeprecationWarning: numpy.core.umath_tests is an internal NumPy module and should not be imported. It will be removed in a future NumPy release.\n",
      "  from numpy.core.umath_tests import inner1d\n"
     ]
    }
   ],
   "source": [
    "# Standard imports\n",
    "import os\n",
    "import sys\n",
    "from os.path import dirname\n",
    "\n",
    "\n",
    "# Custom imports\n",
    "root_directory = dirname(os.getcwd())\n",
    "for dname in {'src'}:\n",
    "    sys.path.insert(0, os.path.join(root_directory, dname))\n",
    "\n",
    "from mercs.algo.inference import *\n",
    "from mercs.utils.utils import encode_attribute\n",
    "\n",
    "import datasets as ds\n",
    "from sklearn.preprocessing import Imputer"
   ]
  },
  {
   "cell_type": "markdown",
   "metadata": {},
   "source": [
    "## Actual Tests"
   ]
  },
  {
   "cell_type": "markdown",
   "metadata": {
    "heading_collapsed": true
   },
   "source": [
    "### Perform Imputation"
   ]
  },
  {
   "cell_type": "code",
   "execution_count": 3,
   "metadata": {
    "hidden": true
   },
   "outputs": [
    {
     "name": "stdout",
     "output_type": "stream",
     "text": [
      "load_example_dataset is loading fname: /cw/dtailocal/Files/git/mercs-v5/resc/data/nursery_train.csv\n",
      "\n",
      "load_example_dataset is loading fname: /cw/dtailocal/Files/git/mercs-v5/resc/data/nursery_test.csv\n",
      "\n"
     ]
    }
   ],
   "source": [
    "train, test = ds.load_nursery()"
   ]
  },
  {
   "cell_type": "code",
   "execution_count": 4,
   "metadata": {
    "collapsed": true,
    "hidden": true
   },
   "outputs": [],
   "source": [
    "query_code = [0,-1,-1,0,0,0,0,0,1]"
   ]
  },
  {
   "cell_type": "code",
   "execution_count": 5,
   "metadata": {
    "hidden": true
   },
   "outputs": [
    {
     "data": {
      "text/plain": [
       "Imputer(axis=0, copy=True, missing_values='NaN', strategy='most_frequent',\n",
       "    verbose=0)"
      ]
     },
     "execution_count": 5,
     "metadata": {},
     "output_type": "execute_result"
    }
   ],
   "source": [
    "imputator = Imputer(missing_values='NaN',\n",
    "                    strategy='most_frequent',\n",
    "                    axis=0)\n",
    "imputator.fit(train)"
   ]
  },
  {
   "cell_type": "code",
   "execution_count": 6,
   "metadata": {
    "collapsed": true,
    "hidden": true
   },
   "outputs": [],
   "source": [
    "obs = perform_imputation(train, query_code, imputator)"
   ]
  },
  {
   "cell_type": "code",
   "execution_count": 7,
   "metadata": {
    "hidden": true
   },
   "outputs": [
    {
     "data": {
      "text/plain": [
       "(11680, 9)"
      ]
     },
     "execution_count": 7,
     "metadata": {},
     "output_type": "execute_result"
    }
   ],
   "source": [
    "obs.shape"
   ]
  },
  {
   "cell_type": "code",
   "execution_count": 8,
   "metadata": {
    "hidden": true
   },
   "outputs": [
    {
     "data": {
      "text/plain": [
       "(11680, 9)"
      ]
     },
     "execution_count": 8,
     "metadata": {},
     "output_type": "execute_result"
    }
   ],
   "source": [
    "train.shape"
   ]
  },
  {
   "cell_type": "code",
   "execution_count": 9,
   "metadata": {
    "collapsed": true,
    "hidden": true
   },
   "outputs": [],
   "source": [
    "assert train.shape == obs.shape"
   ]
  },
  {
   "cell_type": "code",
   "execution_count": 10,
   "metadata": {
    "hidden": true
   },
   "outputs": [
    {
     "data": {
      "text/plain": [
       "array([False, False, False, False, False, False, False, False,  True])"
      ]
     },
     "execution_count": 10,
     "metadata": {},
     "output_type": "execute_result"
    }
   ],
   "source": [
    "np.array(query_code)==1"
   ]
  },
  {
   "cell_type": "code",
   "execution_count": 11,
   "metadata": {
    "hidden": true
   },
   "outputs": [
    {
     "data": {
      "text/plain": [
       "array([[2., 4., 1., ..., 0., 2., 2.],\n",
       "       [2., 4., 1., ..., 0., 1., 1.],\n",
       "       [2., 4., 1., ..., 0., 0., 0.],\n",
       "       ...,\n",
       "       [0., 4., 1., ..., 1., 2., 3.],\n",
       "       [0., 4., 1., ..., 1., 1., 3.],\n",
       "       [0., 4., 1., ..., 1., 0., 0.]])"
      ]
     },
     "execution_count": 11,
     "metadata": {},
     "output_type": "execute_result"
    }
   ],
   "source": [
    "obs"
   ]
  },
  {
   "cell_type": "code",
   "execution_count": 12,
   "metadata": {
    "collapsed": true,
    "hidden": true
   },
   "outputs": [],
   "source": [
    "missing_attribute_encoding = encode_attribute(0, [1], [2])"
   ]
  },
  {
   "cell_type": "code",
   "execution_count": 13,
   "metadata": {
    "hidden": true
   },
   "outputs": [
    {
     "data": {
      "text/plain": [
       "array([False,  True,  True, False, False, False, False, False, False])"
      ]
     },
     "execution_count": 13,
     "metadata": {},
     "output_type": "execute_result"
    }
   ],
   "source": [
    "boolean_missing = np.array(query_code)== missing_attribute_encoding\n",
    "boolean_missing"
   ]
  },
  {
   "cell_type": "code",
   "execution_count": 14,
   "metadata": {
    "hidden": true
   },
   "outputs": [
    {
     "data": {
      "text/plain": [
       "2"
      ]
     },
     "execution_count": 14,
     "metadata": {},
     "output_type": "execute_result"
    }
   ],
   "source": [
    "missing_count = np.sum(boolean_missing)\n",
    "missing_count"
   ]
  },
  {
   "cell_type": "code",
   "execution_count": 15,
   "metadata": {
    "collapsed": true,
    "hidden": true
   },
   "outputs": [],
   "source": [
    "for x in obs[:,boolean_missing].T:\n",
    "    assert len(np.unique(x)) == 1"
   ]
  },
  {
   "cell_type": "code",
   "execution_count": 16,
   "metadata": {
    "hidden": true
   },
   "outputs": [
    {
     "data": {
      "text/plain": [
       "True"
      ]
     },
     "execution_count": 16,
     "metadata": {},
     "output_type": "execute_result"
    }
   ],
   "source": [
    "len(np.unique(obs[:,np.array(query_code)==-1])) <= missing_count"
   ]
  },
  {
   "cell_type": "code",
   "execution_count": 17,
   "metadata": {
    "hidden": true
   },
   "outputs": [
    {
     "data": {
      "text/plain": [
       "array([1., 4.])"
      ]
     },
     "execution_count": 17,
     "metadata": {},
     "output_type": "execute_result"
    }
   ],
   "source": [
    "np.unique(obs[:,np.array(query_code)==-1])"
   ]
  },
  {
   "cell_type": "code",
   "execution_count": 18,
   "metadata": {
    "collapsed": true,
    "hidden": true
   },
   "outputs": [],
   "source": [
    "def test_perform_imputation():\n",
    "    # Prelims\n",
    "    train, test = ds.load_nursery()\n",
    "    query_code = [0,-1,-1,-1,-1,-1,0,0,1]\n",
    "    \n",
    "    imputator = Imputer(missing_values='NaN',\n",
    "                    strategy='most_frequent',\n",
    "                    axis=0)\n",
    "    imputator.fit(train)\n",
    "    \n",
    "    # Actual test\n",
    "    obs = perform_imputation(test, query_code, imputator)\n",
    "    \n",
    "    assert test.shape == obs.shape\n",
    "    assert isinstance(obs, np.ndarray)\n",
    "    \n",
    "    boolean_missing = missing_attribute_encoding\n",
    "    \n",
    "    for row in obs[:,boolean_missing].T:\n",
    "        assert len(np.unique(x)) == 1"
   ]
  },
  {
   "cell_type": "markdown",
   "metadata": {
    "heading_collapsed": true
   },
   "source": [
    "### Init_predictions"
   ]
  },
  {
   "cell_type": "code",
   "execution_count": 19,
   "metadata": {
    "collapsed": true,
    "hidden": true
   },
   "outputs": [],
   "source": [
    "obs = init_predictions(10, 5, type=np.float64)"
   ]
  },
  {
   "cell_type": "code",
   "execution_count": 20,
   "metadata": {
    "hidden": true
   },
   "outputs": [
    {
     "data": {
      "text/plain": [
       "(10, 5)"
      ]
     },
     "execution_count": 20,
     "metadata": {},
     "output_type": "execute_result"
    }
   ],
   "source": [
    "obs.shape"
   ]
  },
  {
   "cell_type": "code",
   "execution_count": 21,
   "metadata": {
    "hidden": true
   },
   "outputs": [
    {
     "data": {
      "text/plain": [
       "True"
      ]
     },
     "execution_count": 21,
     "metadata": {},
     "output_type": "execute_result"
    }
   ],
   "source": [
    "obs.dtype == np.float64"
   ]
  },
  {
   "cell_type": "code",
   "execution_count": 22,
   "metadata": {
    "collapsed": true,
    "hidden": true
   },
   "outputs": [],
   "source": [
    "assert isinstance(obs[0,0], np.float64)"
   ]
  },
  {
   "cell_type": "code",
   "execution_count": 23,
   "metadata": {
    "collapsed": true,
    "hidden": true
   },
   "outputs": [],
   "source": [
    "act_att_idx = [4,5,6]"
   ]
  },
  {
   "cell_type": "code",
   "execution_count": 24,
   "metadata": {
    "hidden": true
   },
   "outputs": [
    {
     "data": {
      "text/plain": [
       "6"
      ]
     },
     "execution_count": 24,
     "metadata": {},
     "output_type": "execute_result"
    }
   ],
   "source": [
    "np.max(act_att_idx)"
   ]
  },
  {
   "cell_type": "code",
   "execution_count": 25,
   "metadata": {
    "hidden": true
   },
   "outputs": [
    {
     "data": {
      "text/plain": [
       "5"
      ]
     },
     "execution_count": 25,
     "metadata": {},
     "output_type": "execute_result"
    }
   ],
   "source": [
    "obs.shape[1]"
   ]
  },
  {
   "cell_type": "markdown",
   "metadata": {
    "heading_collapsed": true
   },
   "source": [
    "### Update_X"
   ]
  },
  {
   "cell_type": "code",
   "execution_count": 26,
   "metadata": {
    "collapsed": true,
    "hidden": true,
    "scrolled": true
   },
   "outputs": [],
   "source": [
    "X = np.zeros((100, 4), dtype=np.float64)\n",
    "Y = np.random.rand(100,2)\n",
    "act_att_idx = [1,2]"
   ]
  },
  {
   "cell_type": "code",
   "execution_count": 27,
   "metadata": {
    "hidden": true,
    "scrolled": true
   },
   "outputs": [
    {
     "data": {
      "text/plain": [
       "array([[0.        , 0.76383335, 0.4063331 , 0.        ],\n",
       "       [0.        , 0.98343888, 0.61796289, 0.        ],\n",
       "       [0.        , 0.17403495, 0.56241567, 0.        ],\n",
       "       [0.        , 0.48444454, 0.79068345, 0.        ],\n",
       "       [0.        , 0.81506049, 0.50436749, 0.        ],\n",
       "       [0.        , 0.94112584, 0.49981101, 0.        ],\n",
       "       [0.        , 0.28962284, 0.32620081, 0.        ],\n",
       "       [0.        , 0.441841  , 0.9273531 , 0.        ],\n",
       "       [0.        , 0.24372468, 0.09854359, 0.        ],\n",
       "       [0.        , 0.07616711, 0.36507717, 0.        ],\n",
       "       [0.        , 0.41333518, 0.81255102, 0.        ],\n",
       "       [0.        , 0.70897872, 0.18670529, 0.        ],\n",
       "       [0.        , 0.39747968, 0.01202911, 0.        ],\n",
       "       [0.        , 0.07279852, 0.83609838, 0.        ],\n",
       "       [0.        , 0.54624016, 0.76772894, 0.        ],\n",
       "       [0.        , 0.87583921, 0.15556332, 0.        ],\n",
       "       [0.        , 0.51756874, 0.75099103, 0.        ],\n",
       "       [0.        , 0.61112284, 0.65313364, 0.        ],\n",
       "       [0.        , 0.01418078, 0.40775501, 0.        ],\n",
       "       [0.        , 0.10307957, 0.07689145, 0.        ],\n",
       "       [0.        , 0.11534874, 0.62535868, 0.        ],\n",
       "       [0.        , 0.17525953, 0.65141734, 0.        ],\n",
       "       [0.        , 0.24588029, 0.55436763, 0.        ],\n",
       "       [0.        , 0.22566891, 0.75705172, 0.        ],\n",
       "       [0.        , 0.73370426, 0.21068401, 0.        ],\n",
       "       [0.        , 0.28417778, 0.75524438, 0.        ],\n",
       "       [0.        , 0.13394588, 0.36527653, 0.        ],\n",
       "       [0.        , 0.0009922 , 0.42139012, 0.        ],\n",
       "       [0.        , 0.70871771, 0.12197887, 0.        ],\n",
       "       [0.        , 0.05953217, 0.25216366, 0.        ],\n",
       "       [0.        , 0.50415619, 0.40211066, 0.        ],\n",
       "       [0.        , 0.10771128, 0.63718011, 0.        ],\n",
       "       [0.        , 0.51879773, 0.68453752, 0.        ],\n",
       "       [0.        , 0.96676229, 0.63860908, 0.        ],\n",
       "       [0.        , 0.92327001, 0.58069145, 0.        ],\n",
       "       [0.        , 0.64334286, 0.38884538, 0.        ],\n",
       "       [0.        , 0.90452951, 0.01365211, 0.        ],\n",
       "       [0.        , 0.22032882, 0.68916753, 0.        ],\n",
       "       [0.        , 0.96720868, 0.57801701, 0.        ],\n",
       "       [0.        , 0.71171444, 0.48662433, 0.        ],\n",
       "       [0.        , 0.95699531, 0.01564403, 0.        ],\n",
       "       [0.        , 0.65053667, 0.82609613, 0.        ],\n",
       "       [0.        , 0.59225171, 0.38235211, 0.        ],\n",
       "       [0.        , 0.44243715, 0.36480842, 0.        ],\n",
       "       [0.        , 0.8415216 , 0.22164516, 0.        ],\n",
       "       [0.        , 0.39154976, 0.54232033, 0.        ],\n",
       "       [0.        , 0.25549943, 0.3829507 , 0.        ],\n",
       "       [0.        , 0.72143113, 0.57617989, 0.        ],\n",
       "       [0.        , 0.56281062, 0.407905  , 0.        ],\n",
       "       [0.        , 0.79385697, 0.42234371, 0.        ],\n",
       "       [0.        , 0.22359615, 0.75853236, 0.        ],\n",
       "       [0.        , 0.55747828, 0.4128066 , 0.        ],\n",
       "       [0.        , 0.44501406, 0.52506987, 0.        ],\n",
       "       [0.        , 0.3520104 , 0.15340346, 0.        ],\n",
       "       [0.        , 0.21021853, 0.07536332, 0.        ],\n",
       "       [0.        , 0.62787367, 0.32435987, 0.        ],\n",
       "       [0.        , 0.76320754, 0.6260447 , 0.        ],\n",
       "       [0.        , 0.81985143, 0.86298139, 0.        ],\n",
       "       [0.        , 0.0444076 , 0.58714071, 0.        ],\n",
       "       [0.        , 0.40976899, 0.68727937, 0.        ],\n",
       "       [0.        , 0.49985493, 0.03308786, 0.        ],\n",
       "       [0.        , 0.20127682, 0.30469867, 0.        ],\n",
       "       [0.        , 0.26983254, 0.84509561, 0.        ],\n",
       "       [0.        , 0.89738727, 0.33948514, 0.        ],\n",
       "       [0.        , 0.1497456 , 0.5118433 , 0.        ],\n",
       "       [0.        , 0.40978508, 0.26795364, 0.        ],\n",
       "       [0.        , 0.49956127, 0.48440157, 0.        ],\n",
       "       [0.        , 0.63747032, 0.30983006, 0.        ],\n",
       "       [0.        , 0.49561471, 0.31907683, 0.        ],\n",
       "       [0.        , 0.56884852, 0.88131517, 0.        ],\n",
       "       [0.        , 0.42475413, 0.15181578, 0.        ],\n",
       "       [0.        , 0.93291588, 0.32593191, 0.        ],\n",
       "       [0.        , 0.31536909, 0.58955758, 0.        ],\n",
       "       [0.        , 0.15748179, 0.30383238, 0.        ],\n",
       "       [0.        , 0.30333655, 0.95046016, 0.        ],\n",
       "       [0.        , 0.71704468, 0.62544297, 0.        ],\n",
       "       [0.        , 0.33174209, 0.69795365, 0.        ],\n",
       "       [0.        , 0.638072  , 0.72154407, 0.        ],\n",
       "       [0.        , 0.48187877, 0.7323246 , 0.        ],\n",
       "       [0.        , 0.04646837, 0.75193023, 0.        ],\n",
       "       [0.        , 0.49065732, 0.87479784, 0.        ],\n",
       "       [0.        , 0.0243796 , 0.24228801, 0.        ],\n",
       "       [0.        , 0.28107079, 0.44435401, 0.        ],\n",
       "       [0.        , 0.63951929, 0.30436554, 0.        ],\n",
       "       [0.        , 0.43017248, 0.62477057, 0.        ],\n",
       "       [0.        , 0.92861675, 0.41877812, 0.        ],\n",
       "       [0.        , 0.84790893, 0.79119507, 0.        ],\n",
       "       [0.        , 0.46454651, 0.12382317, 0.        ],\n",
       "       [0.        , 0.70953781, 0.90329774, 0.        ],\n",
       "       [0.        , 0.51634875, 0.58195214, 0.        ],\n",
       "       [0.        , 0.86203904, 0.41566594, 0.        ],\n",
       "       [0.        , 0.58568196, 0.06282243, 0.        ],\n",
       "       [0.        , 0.43540242, 0.41162131, 0.        ],\n",
       "       [0.        , 0.60614777, 0.49807259, 0.        ],\n",
       "       [0.        , 0.54350502, 0.98231502, 0.        ],\n",
       "       [0.        , 0.31117326, 0.17216502, 0.        ],\n",
       "       [0.        , 0.31001475, 0.81919625, 0.        ],\n",
       "       [0.        , 0.74199338, 0.36642689, 0.        ],\n",
       "       [0.        , 0.45880645, 0.36686781, 0.        ],\n",
       "       [0.        , 0.16323844, 0.12470145, 0.        ]])"
      ]
     },
     "execution_count": 27,
     "metadata": {},
     "output_type": "execute_result"
    }
   ],
   "source": [
    "obs = update_X(X, Y, act_att_idx)\n",
    "obs"
   ]
  },
  {
   "cell_type": "code",
   "execution_count": 28,
   "metadata": {
    "collapsed": true,
    "hidden": true
   },
   "outputs": [],
   "source": [
    "test_col_0 = obs[:,act_att_idx[0]] == Y.T[0]\n",
    "test_col_1 = obs[:,act_att_idx[1]] == Y.T[1]\n",
    "\n",
    "assert obs.shape == X.shape\n",
    "assert test_col_0.all()\n",
    "assert test_col_1.all()\n"
   ]
  },
  {
   "cell_type": "markdown",
   "metadata": {},
   "source": [
    "### predict_values_from_numer"
   ]
  },
  {
   "cell_type": "code",
   "execution_count": 29,
   "metadata": {
    "collapsed": true
   },
   "outputs": [],
   "source": [
    "nb_atts=4\n",
    "numer_res = [None]*nb_atts\n",
    "\n",
    "for i in range(nb_atts):\n",
    "    numer_res[i]=np.random.rand(100,1)\n",
    "    \n",
    "counts = np.random.randint(1,10, size=(nb_atts))\n",
    "\n",
    "obs = predict_values_from_numer(numer_res, counts)\n",
    "\n",
    "assert obs.shape[0] == numer_res[0].shape[0]\n",
    "assert obs.shape[1] == nb_atts\n",
    "assert isinstance(obs, np.ndarray)"
   ]
  },
  {
   "cell_type": "markdown",
   "metadata": {
    "heading_collapsed": true
   },
   "source": [
    "### predict_values_from_proba"
   ]
  },
  {
   "cell_type": "code",
   "execution_count": 30,
   "metadata": {
    "collapsed": true,
    "hidden": true
   },
   "outputs": [],
   "source": [
    "nb_atts = 5\n",
    "nb_classes = 3\n",
    "nb_samples = 100\n",
    "proba_res = [None]*nb_atts\n",
    "lab_res = [None]*nb_atts\n",
    "\n",
    "for i in range(nb_atts):\n",
    "    proba_res[i]=np.random.rand(nb_samples, nb_classes)\n",
    "    \n",
    "for i in range(nb_atts):\n",
    "    lab_res[i]=np.random.choice(10, size=nb_classes, replace=False) "
   ]
  },
  {
   "cell_type": "code",
   "execution_count": 31,
   "metadata": {
    "hidden": true
   },
   "outputs": [
    {
     "data": {
      "text/plain": [
       "[array([5, 8, 9]),\n",
       " array([3, 2, 8]),\n",
       " array([4, 2, 9]),\n",
       " array([9, 6, 3]),\n",
       " array([2, 3, 1])]"
      ]
     },
     "execution_count": 31,
     "metadata": {},
     "output_type": "execute_result"
    }
   ],
   "source": [
    "lab_res"
   ]
  },
  {
   "cell_type": "code",
   "execution_count": 32,
   "metadata": {
    "collapsed": true,
    "hidden": true
   },
   "outputs": [],
   "source": [
    "obs = predict_values_from_proba(proba_res, lab_res)\n",
    "\n",
    "assert obs.shape == (nb_samples, nb_atts)\n",
    "\n",
    "for a in range(nb_atts):\n",
    "    assert np.array_equal(np.unique(obs[:,a]),np.unique(lab_res[a]))"
   ]
  },
  {
   "cell_type": "markdown",
   "metadata": {},
   "source": [
    "### merge_numer"
   ]
  },
  {
   "cell_type": "code",
   "execution_count": 33,
   "metadata": {},
   "outputs": [],
   "source": [
    "nb_samples = 100\n",
    "nb_targ_res = 6\n",
    "numer_res = [None]*nb_targ_res\n",
    "\n",
    "for i in range(nb_targ_res):\n",
    "    numer_res[i] = np.random.rand(nb_samples, 1)"
   ]
  },
  {
   "cell_type": "code",
   "execution_count": 36,
   "metadata": {
    "collapsed": true
   },
   "outputs": [],
   "source": [
    "# Multi-target sklearn output\n",
    "nb_targ_mod_a = 3\n",
    "numer_mod_a = np.random.rand(nb_samples, nb_targ_mod_a)\n",
    "\n",
    "# Single-target sklearn output\n",
    "nb_targ_mod_b = 1\n",
    "numer_mod_b = np.random.rand(nb_samples, nb_targ_mod_b) \n",
    "numer_mod_b = np.squeeze(numer_mod_b) \n",
    "\n",
    "# Our own output format\n",
    "nb_targ_mod_c = 2\n",
    "numer_mod_c = [None]*nb_targ_mod_c\n",
    "for i in range(nb_targ_mod_c):\n",
    "    numer_mod_c[i] = np.random.rand(100, 1)"
   ]
  },
  {
   "cell_type": "code",
   "execution_count": 38,
   "metadata": {
    "collapsed": true
   },
   "outputs": [],
   "source": [
    "t_idx_res = 2\n",
    "t_idx_mod = 0"
   ]
  },
  {
   "cell_type": "code",
   "execution_count": null,
   "metadata": {
    "collapsed": true
   },
   "outputs": [],
   "source": []
  }
 ],
 "metadata": {
  "kernelspec": {
   "display_name": "Python [default]",
   "language": "python",
   "name": "python3"
  },
  "language_info": {
   "codemirror_mode": {
    "name": "ipython",
    "version": 3
   },
   "file_extension": ".py",
   "mimetype": "text/x-python",
   "name": "python",
   "nbconvert_exporter": "python",
   "pygments_lexer": "ipython3",
   "version": "3.6.1"
  },
  "toc": {
   "nav_menu": {},
   "number_sections": true,
   "sideBar": true,
   "skip_h1_title": true,
   "toc_cell": false,
   "toc_position": {},
   "toc_section_display": "block",
   "toc_window_display": false
  }
 },
 "nbformat": 4,
 "nbformat_minor": 2
}
