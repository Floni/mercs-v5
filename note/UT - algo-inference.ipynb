{
 "cells": [
  {
   "cell_type": "markdown",
   "metadata": {},
   "source": [
    "# Unittests - mercs/algo/inference"
   ]
  },
  {
   "cell_type": "markdown",
   "metadata": {},
   "source": [
    "## Imports"
   ]
  },
  {
   "cell_type": "code",
   "execution_count": 1,
   "metadata": {},
   "outputs": [
    {
     "name": "stderr",
     "output_type": "stream",
     "text": [
      "/home/elia/Software/anaconda3/lib/python3.6/site-packages/sklearn/ensemble/weight_boosting.py:29: DeprecationWarning: numpy.core.umath_tests is an internal NumPy module and should not be imported. It will be removed in a future NumPy release.\n",
      "  from numpy.core.umath_tests import inner1d\n"
     ]
    }
   ],
   "source": [
    "# Standard imports\n",
    "import os\n",
    "import sys\n",
    "from os.path import dirname\n",
    "\n",
    "\n",
    "# Custom imports\n",
    "root_directory = dirname(os.getcwd())\n",
    "for dname in {'src'}:\n",
    "    sys.path.insert(0, os.path.join(root_directory, dname))\n",
    "\n",
    "from mercs.algo.inference import *\n",
    "from mercs.utils.utils import encode_attribute\n",
    "\n",
    "import datasets as ds\n",
    "from sklearn.preprocessing import Imputer"
   ]
  },
  {
   "cell_type": "markdown",
   "metadata": {},
   "source": [
    "## Actual Tests"
   ]
  },
  {
   "cell_type": "markdown",
   "metadata": {
    "heading_collapsed": true
   },
   "source": [
    "### Perform Imputation"
   ]
  },
  {
   "cell_type": "code",
   "execution_count": 2,
   "metadata": {
    "hidden": true
   },
   "outputs": [
    {
     "name": "stdout",
     "output_type": "stream",
     "text": [
      "load_example_dataset is loading fname: /cw/dtailocal/Files/git/mercs-v5/resc/data/nursery_train.csv\n",
      "\n",
      "load_example_dataset is loading fname: /cw/dtailocal/Files/git/mercs-v5/resc/data/nursery_test.csv\n",
      "\n"
     ]
    }
   ],
   "source": [
    "train, test = ds.load_nursery()"
   ]
  },
  {
   "cell_type": "code",
   "execution_count": 3,
   "metadata": {
    "collapsed": true,
    "hidden": true
   },
   "outputs": [],
   "source": [
    "query_code = [0,-1,-1,0,0,0,0,0,1]"
   ]
  },
  {
   "cell_type": "code",
   "execution_count": 4,
   "metadata": {
    "hidden": true
   },
   "outputs": [
    {
     "data": {
      "text/plain": [
       "Imputer(axis=0, copy=True, missing_values='NaN', strategy='most_frequent',\n",
       "    verbose=0)"
      ]
     },
     "execution_count": 4,
     "metadata": {},
     "output_type": "execute_result"
    }
   ],
   "source": [
    "imputator = Imputer(missing_values='NaN',\n",
    "                    strategy='most_frequent',\n",
    "                    axis=0)\n",
    "imputator.fit(train)"
   ]
  },
  {
   "cell_type": "code",
   "execution_count": 5,
   "metadata": {
    "collapsed": true,
    "hidden": true
   },
   "outputs": [],
   "source": [
    "obs = perform_imputation(train, query_code, imputator)"
   ]
  },
  {
   "cell_type": "code",
   "execution_count": 6,
   "metadata": {
    "hidden": true
   },
   "outputs": [
    {
     "data": {
      "text/plain": [
       "(11680, 9)"
      ]
     },
     "execution_count": 6,
     "metadata": {},
     "output_type": "execute_result"
    }
   ],
   "source": [
    "obs.shape"
   ]
  },
  {
   "cell_type": "code",
   "execution_count": 7,
   "metadata": {
    "hidden": true
   },
   "outputs": [
    {
     "data": {
      "text/plain": [
       "(11680, 9)"
      ]
     },
     "execution_count": 7,
     "metadata": {},
     "output_type": "execute_result"
    }
   ],
   "source": [
    "train.shape"
   ]
  },
  {
   "cell_type": "code",
   "execution_count": 8,
   "metadata": {
    "collapsed": true,
    "hidden": true
   },
   "outputs": [],
   "source": [
    "assert train.shape == obs.shape"
   ]
  },
  {
   "cell_type": "code",
   "execution_count": 9,
   "metadata": {
    "hidden": true
   },
   "outputs": [
    {
     "data": {
      "text/plain": [
       "array([False, False, False, False, False, False, False, False,  True])"
      ]
     },
     "execution_count": 9,
     "metadata": {},
     "output_type": "execute_result"
    }
   ],
   "source": [
    "np.array(query_code)==1"
   ]
  },
  {
   "cell_type": "code",
   "execution_count": 10,
   "metadata": {
    "hidden": true
   },
   "outputs": [
    {
     "data": {
      "text/plain": [
       "array([[2., 4., 1., ..., 0., 2., 2.],\n",
       "       [2., 4., 1., ..., 0., 1., 1.],\n",
       "       [2., 4., 1., ..., 0., 0., 0.],\n",
       "       ...,\n",
       "       [0., 4., 1., ..., 1., 2., 3.],\n",
       "       [0., 4., 1., ..., 1., 1., 3.],\n",
       "       [0., 4., 1., ..., 1., 0., 0.]])"
      ]
     },
     "execution_count": 10,
     "metadata": {},
     "output_type": "execute_result"
    }
   ],
   "source": [
    "obs"
   ]
  },
  {
   "cell_type": "code",
   "execution_count": 11,
   "metadata": {
    "collapsed": true,
    "hidden": true
   },
   "outputs": [],
   "source": [
    "missing_attribute_encoding = encode_attribute(0, [1], [2])"
   ]
  },
  {
   "cell_type": "code",
   "execution_count": 12,
   "metadata": {
    "hidden": true
   },
   "outputs": [
    {
     "data": {
      "text/plain": [
       "array([False,  True,  True, False, False, False, False, False, False])"
      ]
     },
     "execution_count": 12,
     "metadata": {},
     "output_type": "execute_result"
    }
   ],
   "source": [
    "boolean_missing = np.array(query_code)== missing_attribute_encoding\n",
    "boolean_missing"
   ]
  },
  {
   "cell_type": "code",
   "execution_count": 13,
   "metadata": {
    "hidden": true
   },
   "outputs": [
    {
     "data": {
      "text/plain": [
       "2"
      ]
     },
     "execution_count": 13,
     "metadata": {},
     "output_type": "execute_result"
    }
   ],
   "source": [
    "missing_count = np.sum(boolean_missing)\n",
    "missing_count"
   ]
  },
  {
   "cell_type": "code",
   "execution_count": 14,
   "metadata": {
    "collapsed": true,
    "hidden": true
   },
   "outputs": [],
   "source": [
    "for x in obs[:,boolean_missing].T:\n",
    "    assert len(np.unique(x)) == 1"
   ]
  },
  {
   "cell_type": "code",
   "execution_count": 15,
   "metadata": {
    "hidden": true
   },
   "outputs": [
    {
     "data": {
      "text/plain": [
       "True"
      ]
     },
     "execution_count": 15,
     "metadata": {},
     "output_type": "execute_result"
    }
   ],
   "source": [
    "len(np.unique(obs[:,np.array(query_code)==-1])) <= missing_count"
   ]
  },
  {
   "cell_type": "code",
   "execution_count": 16,
   "metadata": {
    "hidden": true
   },
   "outputs": [
    {
     "data": {
      "text/plain": [
       "array([1., 4.])"
      ]
     },
     "execution_count": 16,
     "metadata": {},
     "output_type": "execute_result"
    }
   ],
   "source": [
    "np.unique(obs[:,np.array(query_code)==-1])"
   ]
  },
  {
   "cell_type": "code",
   "execution_count": 17,
   "metadata": {
    "collapsed": true,
    "hidden": true
   },
   "outputs": [],
   "source": [
    "def test_perform_imputation():\n",
    "    # Prelims\n",
    "    train, test = ds.load_nursery()\n",
    "    query_code = [0,-1,-1,-1,-1,-1,0,0,1]\n",
    "    \n",
    "    imputator = Imputer(missing_values='NaN',\n",
    "                    strategy='most_frequent',\n",
    "                    axis=0)\n",
    "    imputator.fit(train)\n",
    "    \n",
    "    # Actual test\n",
    "    obs = perform_imputation(test, query_code, imputator)\n",
    "    \n",
    "    assert test.shape == obs.shape\n",
    "    assert isinstance(obs, np.ndarray)\n",
    "    \n",
    "    boolean_missing = missing_attribute_encoding\n",
    "    \n",
    "    for row in obs[:,boolean_missing].T:\n",
    "        assert len(np.unique(x)) == 1"
   ]
  },
  {
   "cell_type": "markdown",
   "metadata": {
    "heading_collapsed": true
   },
   "source": [
    "### Init_predictions"
   ]
  },
  {
   "cell_type": "code",
   "execution_count": 18,
   "metadata": {
    "collapsed": true,
    "hidden": true
   },
   "outputs": [],
   "source": [
    "obs = init_predictions(10, 5, type=np.float64)"
   ]
  },
  {
   "cell_type": "code",
   "execution_count": 19,
   "metadata": {
    "hidden": true
   },
   "outputs": [
    {
     "data": {
      "text/plain": [
       "(10, 5)"
      ]
     },
     "execution_count": 19,
     "metadata": {},
     "output_type": "execute_result"
    }
   ],
   "source": [
    "obs.shape"
   ]
  },
  {
   "cell_type": "code",
   "execution_count": 20,
   "metadata": {
    "hidden": true
   },
   "outputs": [
    {
     "data": {
      "text/plain": [
       "True"
      ]
     },
     "execution_count": 20,
     "metadata": {},
     "output_type": "execute_result"
    }
   ],
   "source": [
    "obs.dtype == np.float64"
   ]
  },
  {
   "cell_type": "code",
   "execution_count": 21,
   "metadata": {
    "collapsed": true,
    "hidden": true
   },
   "outputs": [],
   "source": [
    "assert isinstance(obs[0,0], np.float64)"
   ]
  },
  {
   "cell_type": "code",
   "execution_count": 22,
   "metadata": {
    "collapsed": true,
    "hidden": true
   },
   "outputs": [],
   "source": [
    "act_att_idx = [4,5,6]"
   ]
  },
  {
   "cell_type": "code",
   "execution_count": 23,
   "metadata": {
    "hidden": true
   },
   "outputs": [
    {
     "data": {
      "text/plain": [
       "6"
      ]
     },
     "execution_count": 23,
     "metadata": {},
     "output_type": "execute_result"
    }
   ],
   "source": [
    "np.max(act_att_idx)"
   ]
  },
  {
   "cell_type": "code",
   "execution_count": 24,
   "metadata": {
    "hidden": true
   },
   "outputs": [
    {
     "data": {
      "text/plain": [
       "5"
      ]
     },
     "execution_count": 24,
     "metadata": {},
     "output_type": "execute_result"
    }
   ],
   "source": [
    "obs.shape[1]"
   ]
  },
  {
   "cell_type": "markdown",
   "metadata": {
    "heading_collapsed": true
   },
   "source": [
    "### Update_X"
   ]
  },
  {
   "cell_type": "code",
   "execution_count": 25,
   "metadata": {
    "collapsed": true,
    "hidden": true,
    "scrolled": true
   },
   "outputs": [],
   "source": [
    "X = np.zeros((100, 4), dtype=np.float64)\n",
    "Y = np.random.rand(100,2)\n",
    "act_att_idx = [1,2]"
   ]
  },
  {
   "cell_type": "code",
   "execution_count": 26,
   "metadata": {
    "hidden": true,
    "scrolled": true
   },
   "outputs": [
    {
     "data": {
      "text/plain": [
       "array([[0.        , 0.02969722, 0.81935115, 0.        ],\n",
       "       [0.        , 0.0845069 , 0.73611983, 0.        ],\n",
       "       [0.        , 0.59915825, 0.89757915, 0.        ],\n",
       "       [0.        , 0.84219553, 0.66830062, 0.        ],\n",
       "       [0.        , 0.02888601, 0.90725451, 0.        ],\n",
       "       [0.        , 0.8022789 , 0.74753191, 0.        ],\n",
       "       [0.        , 0.45243222, 0.48395937, 0.        ],\n",
       "       [0.        , 0.90910255, 0.46809358, 0.        ],\n",
       "       [0.        , 0.99083558, 0.57805572, 0.        ],\n",
       "       [0.        , 0.06711018, 0.65172993, 0.        ],\n",
       "       [0.        , 0.59990963, 0.95507322, 0.        ],\n",
       "       [0.        , 0.57750233, 0.27903197, 0.        ],\n",
       "       [0.        , 0.08497976, 0.81534759, 0.        ],\n",
       "       [0.        , 0.31529603, 0.40999267, 0.        ],\n",
       "       [0.        , 0.29649419, 0.66480434, 0.        ],\n",
       "       [0.        , 0.13239602, 0.52344505, 0.        ],\n",
       "       [0.        , 0.20412116, 0.02186363, 0.        ],\n",
       "       [0.        , 0.17952995, 0.69803021, 0.        ],\n",
       "       [0.        , 0.39962712, 0.23805224, 0.        ],\n",
       "       [0.        , 0.37715451, 0.50012484, 0.        ],\n",
       "       [0.        , 0.17273083, 0.07286415, 0.        ],\n",
       "       [0.        , 0.7883081 , 0.3473094 , 0.        ],\n",
       "       [0.        , 0.11492021, 0.09205385, 0.        ],\n",
       "       [0.        , 0.20694017, 0.26521186, 0.        ],\n",
       "       [0.        , 0.32884121, 0.09038678, 0.        ],\n",
       "       [0.        , 0.3508128 , 0.74147734, 0.        ],\n",
       "       [0.        , 0.89252707, 0.70977617, 0.        ],\n",
       "       [0.        , 0.0214382 , 0.76664951, 0.        ],\n",
       "       [0.        , 0.10476414, 0.64074125, 0.        ],\n",
       "       [0.        , 0.49162919, 0.14223916, 0.        ],\n",
       "       [0.        , 0.49670622, 0.80084183, 0.        ],\n",
       "       [0.        , 0.51014848, 0.30858875, 0.        ],\n",
       "       [0.        , 0.98946846, 0.51570823, 0.        ],\n",
       "       [0.        , 0.15523699, 0.7605581 , 0.        ],\n",
       "       [0.        , 0.98950063, 0.52348651, 0.        ],\n",
       "       [0.        , 0.26179142, 0.09039225, 0.        ],\n",
       "       [0.        , 0.144556  , 0.96488623, 0.        ],\n",
       "       [0.        , 0.37471401, 0.41392904, 0.        ],\n",
       "       [0.        , 0.09341405, 0.30505664, 0.        ],\n",
       "       [0.        , 0.46851383, 0.84288246, 0.        ],\n",
       "       [0.        , 0.58019443, 0.56157087, 0.        ],\n",
       "       [0.        , 0.24772331, 0.63303413, 0.        ],\n",
       "       [0.        , 0.8076389 , 0.61256585, 0.        ],\n",
       "       [0.        , 0.31378179, 0.37453032, 0.        ],\n",
       "       [0.        , 0.24352666, 0.44231689, 0.        ],\n",
       "       [0.        , 0.58923237, 0.81020502, 0.        ],\n",
       "       [0.        , 0.15285579, 0.07639383, 0.        ],\n",
       "       [0.        , 0.53814079, 0.76948981, 0.        ],\n",
       "       [0.        , 0.23596456, 0.59373589, 0.        ],\n",
       "       [0.        , 0.73571818, 0.77188541, 0.        ],\n",
       "       [0.        , 0.82119937, 0.63440691, 0.        ],\n",
       "       [0.        , 0.97580241, 0.48231817, 0.        ],\n",
       "       [0.        , 0.9720616 , 0.30238835, 0.        ],\n",
       "       [0.        , 0.76029299, 0.71795926, 0.        ],\n",
       "       [0.        , 0.02283643, 0.92306686, 0.        ],\n",
       "       [0.        , 0.32096343, 0.65656841, 0.        ],\n",
       "       [0.        , 0.35694513, 0.98427131, 0.        ],\n",
       "       [0.        , 0.96504634, 0.48606068, 0.        ],\n",
       "       [0.        , 0.81873294, 0.41612997, 0.        ],\n",
       "       [0.        , 0.37151245, 0.17484752, 0.        ],\n",
       "       [0.        , 0.20451653, 0.24031883, 0.        ],\n",
       "       [0.        , 0.79081096, 0.62121032, 0.        ],\n",
       "       [0.        , 0.94479888, 0.45378436, 0.        ],\n",
       "       [0.        , 0.7472989 , 0.35020521, 0.        ],\n",
       "       [0.        , 0.16358346, 0.24372814, 0.        ],\n",
       "       [0.        , 0.95626237, 0.22489707, 0.        ],\n",
       "       [0.        , 0.28031503, 0.0943833 , 0.        ],\n",
       "       [0.        , 0.70989318, 0.61839755, 0.        ],\n",
       "       [0.        , 0.30126297, 0.15134295, 0.        ],\n",
       "       [0.        , 0.90675914, 0.37119952, 0.        ],\n",
       "       [0.        , 0.92978804, 0.31905559, 0.        ],\n",
       "       [0.        , 0.69380799, 0.4023564 , 0.        ],\n",
       "       [0.        , 0.74360686, 0.78264849, 0.        ],\n",
       "       [0.        , 0.16328265, 0.08808079, 0.        ],\n",
       "       [0.        , 0.58857846, 0.28852226, 0.        ],\n",
       "       [0.        , 0.466398  , 0.72216943, 0.        ],\n",
       "       [0.        , 0.17356187, 0.59309978, 0.        ],\n",
       "       [0.        , 0.86414871, 0.46805106, 0.        ],\n",
       "       [0.        , 0.58717159, 0.5382801 , 0.        ],\n",
       "       [0.        , 0.19690184, 0.30399934, 0.        ],\n",
       "       [0.        , 0.68365284, 0.29780708, 0.        ],\n",
       "       [0.        , 0.51518853, 0.59078025, 0.        ],\n",
       "       [0.        , 0.4708419 , 0.92530743, 0.        ],\n",
       "       [0.        , 0.90683578, 0.99359876, 0.        ],\n",
       "       [0.        , 0.12188021, 0.05381354, 0.        ],\n",
       "       [0.        , 0.41527628, 0.97700633, 0.        ],\n",
       "       [0.        , 0.34012789, 0.47849767, 0.        ],\n",
       "       [0.        , 0.83932989, 0.38312377, 0.        ],\n",
       "       [0.        , 0.33263137, 0.53886515, 0.        ],\n",
       "       [0.        , 0.14924835, 0.69277118, 0.        ],\n",
       "       [0.        , 0.60677578, 0.02112978, 0.        ],\n",
       "       [0.        , 0.35087366, 0.80886858, 0.        ],\n",
       "       [0.        , 0.56850481, 0.3137687 , 0.        ],\n",
       "       [0.        , 0.1716746 , 0.44858888, 0.        ],\n",
       "       [0.        , 0.55251651, 0.63278141, 0.        ],\n",
       "       [0.        , 0.98461785, 0.39511144, 0.        ],\n",
       "       [0.        , 0.72976321, 0.68504087, 0.        ],\n",
       "       [0.        , 0.19931102, 0.45739591, 0.        ],\n",
       "       [0.        , 0.09029824, 0.06398837, 0.        ],\n",
       "       [0.        , 0.30394102, 0.9735079 , 0.        ]])"
      ]
     },
     "execution_count": 26,
     "metadata": {},
     "output_type": "execute_result"
    }
   ],
   "source": [
    "obs = update_X(X, Y, act_att_idx)\n",
    "obs"
   ]
  },
  {
   "cell_type": "code",
   "execution_count": 27,
   "metadata": {
    "collapsed": true,
    "hidden": true
   },
   "outputs": [],
   "source": [
    "test_col_0 = obs[:,act_att_idx[0]] == Y.T[0]\n",
    "test_col_1 = obs[:,act_att_idx[1]] == Y.T[1]\n",
    "\n",
    "assert obs.shape == X.shape\n",
    "assert test_col_0.all()\n",
    "assert test_col_1.all()\n"
   ]
  },
  {
   "cell_type": "markdown",
   "metadata": {},
   "source": [
    "### predict_values_from_numer"
   ]
  },
  {
   "cell_type": "code",
   "execution_count": 28,
   "metadata": {
    "collapsed": true
   },
   "outputs": [],
   "source": [
    "nb_atts=4\n",
    "numer_res = [None]*nb_atts\n",
    "\n",
    "for i in range(nb_atts):\n",
    "    numer_res[i]=np.random.rand(100,1)\n",
    "    \n",
    "counts = np.random.randint(1,10, size=(nb_atts))\n",
    "\n",
    "obs = predict_values_from_numer(numer_res, counts)\n",
    "\n",
    "assert obs.shape[0] == numer_res[0].shape[0]\n",
    "assert obs.shape[1] == nb_atts\n",
    "assert isinstance(obs, np.ndarray)"
   ]
  },
  {
   "cell_type": "markdown",
   "metadata": {
    "heading_collapsed": true
   },
   "source": [
    "### predict_values_from_proba"
   ]
  },
  {
   "cell_type": "code",
   "execution_count": 29,
   "metadata": {
    "collapsed": true,
    "hidden": true
   },
   "outputs": [],
   "source": [
    "nb_atts = 5\n",
    "nb_classes = 3\n",
    "nb_samples = 100\n",
    "proba_res = [None]*nb_atts\n",
    "lab_res = [None]*nb_atts\n",
    "\n",
    "for i in range(nb_atts):\n",
    "    proba_res[i]=np.random.rand(nb_samples, nb_classes)\n",
    "    \n",
    "for i in range(nb_atts):\n",
    "    lab_res[i]=np.random.choice(10, size=nb_classes, replace=False) "
   ]
  },
  {
   "cell_type": "code",
   "execution_count": 30,
   "metadata": {
    "hidden": true
   },
   "outputs": [
    {
     "data": {
      "text/plain": [
       "[array([2, 6, 1]),\n",
       " array([3, 4, 2]),\n",
       " array([1, 3, 2]),\n",
       " array([3, 1, 0]),\n",
       " array([8, 7, 2])]"
      ]
     },
     "execution_count": 30,
     "metadata": {},
     "output_type": "execute_result"
    }
   ],
   "source": [
    "lab_res"
   ]
  },
  {
   "cell_type": "code",
   "execution_count": 31,
   "metadata": {
    "collapsed": true,
    "hidden": true
   },
   "outputs": [],
   "source": [
    "obs = predict_values_from_proba(proba_res, lab_res)\n",
    "\n",
    "assert obs.shape == (nb_samples, nb_atts)\n",
    "\n",
    "for a in range(nb_atts):\n",
    "    assert np.array_equal(np.unique(obs[:,a]),np.unique(lab_res[a]))"
   ]
  },
  {
   "cell_type": "markdown",
   "metadata": {},
   "source": [
    "### merge_numer"
   ]
  },
  {
   "cell_type": "code",
   "execution_count": 32,
   "metadata": {},
   "outputs": [],
   "source": [
    "nb_samples = 100\n",
    "nb_targ_res = 6\n",
    "numer_res = [None]*nb_targ_res\n",
    "\n",
    "for i in range(nb_targ_res):\n",
    "    numer_res[i] = np.random.rand(nb_samples, 1)"
   ]
  },
  {
   "cell_type": "code",
   "execution_count": 33,
   "metadata": {
    "collapsed": true
   },
   "outputs": [],
   "source": [
    "# Multi-target sklearn output\n",
    "nb_targ_mod_a = 3\n",
    "numer_mod_a = np.random.rand(nb_samples, nb_targ_mod_a)\n",
    "\n",
    "# Single-target sklearn output\n",
    "nb_targ_mod_b = 1\n",
    "numer_mod_b = np.random.rand(nb_samples, nb_targ_mod_b) \n",
    "numer_mod_b = np.squeeze(numer_mod_b) \n",
    "\n",
    "# Our own output format\n",
    "nb_targ_mod_c = 2\n",
    "numer_mod_c = [None]*nb_targ_mod_c\n",
    "for i in range(nb_targ_mod_c):\n",
    "    numer_mod_c[i] = np.random.rand(100, 1)"
   ]
  },
  {
   "cell_type": "code",
   "execution_count": 34,
   "metadata": {
    "collapsed": true
   },
   "outputs": [],
   "source": [
    "t_idx_res = 2\n",
    "t_idx_mod = 0"
   ]
  },
  {
   "cell_type": "code",
   "execution_count": 35,
   "metadata": {},
   "outputs": [
    {
     "name": "stdout",
     "output_type": "stream",
     "text": [
      "Type of numer_res: <class 'list'> \n",
      "And type of numer_res[0]: <class 'numpy.ndarray'>\n",
      "And shape of numer_res[0]: (100, 1)\n",
      "\n",
      "\n",
      "Type of numer_res: <class 'list'> \n",
      "And type of numer_res[0]: <class 'numpy.ndarray'>\n",
      "And shape of numer_res[0]: (100, 1)\n",
      "\n",
      "\n",
      "Type of numer_res: <class 'list'> \n",
      "And type of numer_res[0]: <class 'numpy.ndarray'>\n",
      "And shape of numer_res[0]: (100, 1)\n",
      "\n",
      "\n"
     ]
    }
   ],
   "source": [
    "for numer_mod in [numer_mod_a, numer_mod_b, numer_mod_c]:\n",
    "    obs = merge_numer(numer_res, numer_mod, t_idx_res, t_idx_mod)"
   ]
  },
  {
   "cell_type": "code",
   "execution_count": null,
   "metadata": {
    "collapsed": true
   },
   "outputs": [],
   "source": []
  }
 ],
 "metadata": {
  "kernelspec": {
   "display_name": "Python [default]",
   "language": "python",
   "name": "python3"
  },
  "language_info": {
   "codemirror_mode": {
    "name": "ipython",
    "version": 3
   },
   "file_extension": ".py",
   "mimetype": "text/x-python",
   "name": "python",
   "nbconvert_exporter": "python",
   "pygments_lexer": "ipython3",
   "version": "3.6.1"
  },
  "toc": {
   "nav_menu": {},
   "number_sections": true,
   "sideBar": true,
   "skip_h1_title": true,
   "toc_cell": false,
   "toc_position": {},
   "toc_section_display": "block",
   "toc_window_display": false
  }
 },
 "nbformat": 4,
 "nbformat_minor": 2
}
