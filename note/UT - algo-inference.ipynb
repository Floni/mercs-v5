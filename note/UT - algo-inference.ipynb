{
 "cells": [
  {
   "cell_type": "markdown",
   "metadata": {},
   "source": [
    "# Unittests - mercs/algo/inference"
   ]
  },
  {
   "cell_type": "markdown",
   "metadata": {
    "heading_collapsed": true
   },
   "source": [
    "## Imports"
   ]
  },
  {
   "cell_type": "code",
   "execution_count": 1,
   "metadata": {
    "hidden": true
   },
   "outputs": [],
   "source": [
    "# Standard imports\n",
    "import os\n",
    "import sys\n",
    "from os.path import dirname\n",
    "\n",
    "\n",
    "# Custom imports\n",
    "root_directory = dirname(os.getcwd())\n",
    "for dname in {'src'}:\n",
    "    sys.path.insert(0, os.path.join(root_directory, dname))\n",
    "\n",
    "from mercs.algo.inference import *\n",
    "from mercs.utils.utils import encode_attribute\n",
    "\n",
    "import datasets as ds\n",
    "from sklearn.preprocessing import Imputer"
   ]
  },
  {
   "cell_type": "markdown",
   "metadata": {},
   "source": [
    "## Actual Tests"
   ]
  },
  {
   "cell_type": "markdown",
   "metadata": {
    "heading_collapsed": true
   },
   "source": [
    "### Perform Imputation"
   ]
  },
  {
   "cell_type": "code",
   "execution_count": 2,
   "metadata": {
    "hidden": true
   },
   "outputs": [
    {
     "name": "stdout",
     "output_type": "stream",
     "text": [
      "load_example_dataset is loading fname: /home/zissou/git/mercs-v5/resc/data/nursery_train.csv\n",
      "\n",
      "load_example_dataset is loading fname: /home/zissou/git/mercs-v5/resc/data/nursery_test.csv\n",
      "\n"
     ]
    }
   ],
   "source": [
    "train, test = ds.load_nursery()"
   ]
  },
  {
   "cell_type": "code",
   "execution_count": 3,
   "metadata": {
    "hidden": true
   },
   "outputs": [],
   "source": [
    "query_code = [0,-1,-1,0,0,0,0,0,1]"
   ]
  },
  {
   "cell_type": "code",
   "execution_count": 4,
   "metadata": {
    "hidden": true
   },
   "outputs": [
    {
     "data": {
      "text/plain": [
       "Imputer(axis=0, copy=True, missing_values='NaN', strategy='most_frequent',\n",
       "    verbose=0)"
      ]
     },
     "execution_count": 4,
     "metadata": {},
     "output_type": "execute_result"
    }
   ],
   "source": [
    "imputator = Imputer(missing_values='NaN',\n",
    "                    strategy='most_frequent',\n",
    "                    axis=0)\n",
    "imputator.fit(train)"
   ]
  },
  {
   "cell_type": "code",
   "execution_count": 5,
   "metadata": {
    "hidden": true
   },
   "outputs": [],
   "source": [
    "obs = perform_imputation(train, query_code, imputator)"
   ]
  },
  {
   "cell_type": "code",
   "execution_count": 6,
   "metadata": {
    "hidden": true
   },
   "outputs": [
    {
     "data": {
      "text/plain": [
       "(11680, 9)"
      ]
     },
     "execution_count": 6,
     "metadata": {},
     "output_type": "execute_result"
    }
   ],
   "source": [
    "obs.shape"
   ]
  },
  {
   "cell_type": "code",
   "execution_count": 7,
   "metadata": {
    "hidden": true
   },
   "outputs": [
    {
     "data": {
      "text/plain": [
       "(11680, 9)"
      ]
     },
     "execution_count": 7,
     "metadata": {},
     "output_type": "execute_result"
    }
   ],
   "source": [
    "train.shape"
   ]
  },
  {
   "cell_type": "code",
   "execution_count": 8,
   "metadata": {
    "hidden": true
   },
   "outputs": [],
   "source": [
    "assert train.shape == obs.shape"
   ]
  },
  {
   "cell_type": "code",
   "execution_count": 9,
   "metadata": {
    "hidden": true
   },
   "outputs": [
    {
     "data": {
      "text/plain": [
       "array([False, False, False, False, False, False, False, False,  True])"
      ]
     },
     "execution_count": 9,
     "metadata": {},
     "output_type": "execute_result"
    }
   ],
   "source": [
    "np.array(query_code)==1"
   ]
  },
  {
   "cell_type": "code",
   "execution_count": 10,
   "metadata": {
    "hidden": true
   },
   "outputs": [
    {
     "data": {
      "text/plain": [
       "array([[2., 4., 1., ..., 0., 2., 2.],\n",
       "       [2., 4., 1., ..., 0., 1., 1.],\n",
       "       [2., 4., 1., ..., 0., 0., 0.],\n",
       "       ...,\n",
       "       [0., 4., 1., ..., 1., 2., 3.],\n",
       "       [0., 4., 1., ..., 1., 1., 3.],\n",
       "       [0., 4., 1., ..., 1., 0., 0.]])"
      ]
     },
     "execution_count": 10,
     "metadata": {},
     "output_type": "execute_result"
    }
   ],
   "source": [
    "obs"
   ]
  },
  {
   "cell_type": "code",
   "execution_count": 11,
   "metadata": {
    "hidden": true
   },
   "outputs": [],
   "source": [
    "missing_attribute_encoding = encode_attribute(0, [1], [2])"
   ]
  },
  {
   "cell_type": "code",
   "execution_count": 12,
   "metadata": {
    "hidden": true
   },
   "outputs": [
    {
     "data": {
      "text/plain": [
       "array([False,  True,  True, False, False, False, False, False, False])"
      ]
     },
     "execution_count": 12,
     "metadata": {},
     "output_type": "execute_result"
    }
   ],
   "source": [
    "boolean_missing = np.array(query_code)== missing_attribute_encoding\n",
    "boolean_missing"
   ]
  },
  {
   "cell_type": "code",
   "execution_count": 13,
   "metadata": {
    "hidden": true
   },
   "outputs": [
    {
     "data": {
      "text/plain": [
       "2"
      ]
     },
     "execution_count": 13,
     "metadata": {},
     "output_type": "execute_result"
    }
   ],
   "source": [
    "missing_count = np.sum(boolean_missing)\n",
    "missing_count"
   ]
  },
  {
   "cell_type": "code",
   "execution_count": 14,
   "metadata": {
    "hidden": true
   },
   "outputs": [],
   "source": [
    "for x in obs[:,boolean_missing].T:\n",
    "    assert len(np.unique(x)) == 1"
   ]
  },
  {
   "cell_type": "code",
   "execution_count": 15,
   "metadata": {
    "hidden": true
   },
   "outputs": [
    {
     "data": {
      "text/plain": [
       "True"
      ]
     },
     "execution_count": 15,
     "metadata": {},
     "output_type": "execute_result"
    }
   ],
   "source": [
    "len(np.unique(obs[:,np.array(query_code)==-1])) <= missing_count"
   ]
  },
  {
   "cell_type": "code",
   "execution_count": 16,
   "metadata": {
    "hidden": true
   },
   "outputs": [
    {
     "data": {
      "text/plain": [
       "array([1., 4.])"
      ]
     },
     "execution_count": 16,
     "metadata": {},
     "output_type": "execute_result"
    }
   ],
   "source": [
    "np.unique(obs[:,np.array(query_code)==-1])"
   ]
  },
  {
   "cell_type": "code",
   "execution_count": 17,
   "metadata": {
    "hidden": true
   },
   "outputs": [],
   "source": [
    "def test_perform_imputation():\n",
    "    # Prelims\n",
    "    train, test = ds.load_nursery()\n",
    "    query_code = [0,-1,-1,-1,-1,-1,0,0,1]\n",
    "    \n",
    "    imputator = Imputer(missing_values='NaN',\n",
    "                    strategy='most_frequent',\n",
    "                    axis=0)\n",
    "    imputator.fit(train)\n",
    "    \n",
    "    # Actual test\n",
    "    obs = perform_imputation(test, query_code, imputator)\n",
    "    \n",
    "    assert test.shape == obs.shape\n",
    "    assert isinstance(obs, np.ndarray)\n",
    "    \n",
    "    boolean_missing = missing_attribute_encoding\n",
    "    \n",
    "    for row in obs[:,boolean_missing].T:\n",
    "        assert len(np.unique(x)) == 1"
   ]
  },
  {
   "cell_type": "markdown",
   "metadata": {
    "heading_collapsed": true
   },
   "source": [
    "### Init_predictions"
   ]
  },
  {
   "cell_type": "code",
   "execution_count": 18,
   "metadata": {
    "hidden": true
   },
   "outputs": [],
   "source": [
    "obs = init_predictions(10, 5, type=np.float64)"
   ]
  },
  {
   "cell_type": "code",
   "execution_count": 19,
   "metadata": {
    "hidden": true
   },
   "outputs": [
    {
     "data": {
      "text/plain": [
       "(10, 5)"
      ]
     },
     "execution_count": 19,
     "metadata": {},
     "output_type": "execute_result"
    }
   ],
   "source": [
    "obs.shape"
   ]
  },
  {
   "cell_type": "code",
   "execution_count": 20,
   "metadata": {
    "hidden": true
   },
   "outputs": [
    {
     "data": {
      "text/plain": [
       "True"
      ]
     },
     "execution_count": 20,
     "metadata": {},
     "output_type": "execute_result"
    }
   ],
   "source": [
    "obs.dtype == np.float64"
   ]
  },
  {
   "cell_type": "code",
   "execution_count": 21,
   "metadata": {
    "hidden": true
   },
   "outputs": [],
   "source": [
    "assert isinstance(obs[0,0], np.float64)"
   ]
  },
  {
   "cell_type": "code",
   "execution_count": 22,
   "metadata": {
    "hidden": true
   },
   "outputs": [],
   "source": [
    "act_att_idx = [4,5,6]"
   ]
  },
  {
   "cell_type": "code",
   "execution_count": 23,
   "metadata": {
    "hidden": true
   },
   "outputs": [
    {
     "data": {
      "text/plain": [
       "6"
      ]
     },
     "execution_count": 23,
     "metadata": {},
     "output_type": "execute_result"
    }
   ],
   "source": [
    "np.max(act_att_idx)"
   ]
  },
  {
   "cell_type": "code",
   "execution_count": 24,
   "metadata": {
    "hidden": true
   },
   "outputs": [
    {
     "data": {
      "text/plain": [
       "5"
      ]
     },
     "execution_count": 24,
     "metadata": {},
     "output_type": "execute_result"
    }
   ],
   "source": [
    "obs.shape[1]"
   ]
  },
  {
   "cell_type": "markdown",
   "metadata": {
    "heading_collapsed": true
   },
   "source": [
    "### Update_X"
   ]
  },
  {
   "cell_type": "code",
   "execution_count": 25,
   "metadata": {
    "hidden": true,
    "scrolled": true
   },
   "outputs": [],
   "source": [
    "X = np.zeros((100, 4), dtype=np.float64)\n",
    "Y = np.random.rand(100,2)\n",
    "act_att_idx = [1,2]"
   ]
  },
  {
   "cell_type": "code",
   "execution_count": 26,
   "metadata": {
    "hidden": true,
    "scrolled": true
   },
   "outputs": [
    {
     "data": {
      "text/plain": [
       "array([[0.00000000e+00, 6.58105509e-01, 7.65320161e-01, 0.00000000e+00],\n",
       "       [0.00000000e+00, 4.84116074e-01, 4.17162384e-01, 0.00000000e+00],\n",
       "       [0.00000000e+00, 2.68242836e-01, 5.78096784e-01, 0.00000000e+00],\n",
       "       [0.00000000e+00, 7.22888096e-01, 9.98163824e-01, 0.00000000e+00],\n",
       "       [0.00000000e+00, 6.66385483e-01, 1.03322199e-01, 0.00000000e+00],\n",
       "       [0.00000000e+00, 2.22286766e-01, 8.90160680e-01, 0.00000000e+00],\n",
       "       [0.00000000e+00, 5.92012757e-01, 2.29787930e-01, 0.00000000e+00],\n",
       "       [0.00000000e+00, 2.51511608e-01, 6.33150062e-01, 0.00000000e+00],\n",
       "       [0.00000000e+00, 4.23088450e-01, 1.89938815e-01, 0.00000000e+00],\n",
       "       [0.00000000e+00, 6.41031859e-01, 4.21255379e-01, 0.00000000e+00],\n",
       "       [0.00000000e+00, 2.93251798e-01, 5.83478153e-01, 0.00000000e+00],\n",
       "       [0.00000000e+00, 2.30318159e-01, 1.44653514e-01, 0.00000000e+00],\n",
       "       [0.00000000e+00, 6.14577575e-01, 6.74302327e-01, 0.00000000e+00],\n",
       "       [0.00000000e+00, 8.14218890e-01, 3.29925519e-01, 0.00000000e+00],\n",
       "       [0.00000000e+00, 2.67517965e-01, 1.56641763e-01, 0.00000000e+00],\n",
       "       [0.00000000e+00, 5.23946436e-01, 9.51193515e-01, 0.00000000e+00],\n",
       "       [0.00000000e+00, 3.53264216e-02, 5.32375113e-01, 0.00000000e+00],\n",
       "       [0.00000000e+00, 2.44477582e-01, 5.32177056e-01, 0.00000000e+00],\n",
       "       [0.00000000e+00, 4.53031799e-01, 7.76127139e-01, 0.00000000e+00],\n",
       "       [0.00000000e+00, 8.24283922e-01, 5.82075491e-01, 0.00000000e+00],\n",
       "       [0.00000000e+00, 2.52951123e-01, 8.90243044e-01, 0.00000000e+00],\n",
       "       [0.00000000e+00, 6.70014110e-01, 6.85006725e-01, 0.00000000e+00],\n",
       "       [0.00000000e+00, 9.93922760e-01, 5.41008643e-02, 0.00000000e+00],\n",
       "       [0.00000000e+00, 9.70587070e-01, 6.22340276e-01, 0.00000000e+00],\n",
       "       [0.00000000e+00, 5.06507972e-01, 8.51059903e-01, 0.00000000e+00],\n",
       "       [0.00000000e+00, 4.96737824e-01, 5.78909942e-01, 0.00000000e+00],\n",
       "       [0.00000000e+00, 9.77421205e-01, 1.06049122e-01, 0.00000000e+00],\n",
       "       [0.00000000e+00, 6.93758448e-01, 7.44381518e-01, 0.00000000e+00],\n",
       "       [0.00000000e+00, 7.18202358e-01, 1.81186117e-01, 0.00000000e+00],\n",
       "       [0.00000000e+00, 3.59596372e-02, 2.49927259e-01, 0.00000000e+00],\n",
       "       [0.00000000e+00, 8.51734896e-01, 3.31235852e-01, 0.00000000e+00],\n",
       "       [0.00000000e+00, 5.23027432e-01, 1.81526606e-01, 0.00000000e+00],\n",
       "       [0.00000000e+00, 3.81051985e-01, 7.24815113e-01, 0.00000000e+00],\n",
       "       [0.00000000e+00, 2.17334020e-01, 7.92572098e-01, 0.00000000e+00],\n",
       "       [0.00000000e+00, 1.25127016e-01, 9.39865033e-01, 0.00000000e+00],\n",
       "       [0.00000000e+00, 4.34575436e-01, 9.14627541e-01, 0.00000000e+00],\n",
       "       [0.00000000e+00, 4.53557247e-01, 9.29166275e-01, 0.00000000e+00],\n",
       "       [0.00000000e+00, 4.51474032e-01, 7.42266706e-01, 0.00000000e+00],\n",
       "       [0.00000000e+00, 2.93164562e-01, 5.25914555e-01, 0.00000000e+00],\n",
       "       [0.00000000e+00, 5.43545052e-01, 7.18918010e-01, 0.00000000e+00],\n",
       "       [0.00000000e+00, 1.95117558e-01, 4.52855132e-04, 0.00000000e+00],\n",
       "       [0.00000000e+00, 3.30781452e-01, 5.59516828e-02, 0.00000000e+00],\n",
       "       [0.00000000e+00, 7.93767089e-01, 9.97940279e-03, 0.00000000e+00],\n",
       "       [0.00000000e+00, 5.00578194e-01, 9.24786551e-01, 0.00000000e+00],\n",
       "       [0.00000000e+00, 6.04142966e-02, 4.72184699e-01, 0.00000000e+00],\n",
       "       [0.00000000e+00, 7.29518703e-01, 5.27530107e-01, 0.00000000e+00],\n",
       "       [0.00000000e+00, 2.49292421e-01, 7.98588746e-01, 0.00000000e+00],\n",
       "       [0.00000000e+00, 4.84709853e-01, 8.79242223e-01, 0.00000000e+00],\n",
       "       [0.00000000e+00, 8.85617041e-01, 9.07707947e-01, 0.00000000e+00],\n",
       "       [0.00000000e+00, 5.43484134e-01, 5.06996453e-01, 0.00000000e+00],\n",
       "       [0.00000000e+00, 1.99515319e-01, 8.99427654e-01, 0.00000000e+00],\n",
       "       [0.00000000e+00, 5.55065929e-01, 8.71247518e-02, 0.00000000e+00],\n",
       "       [0.00000000e+00, 5.47478645e-01, 3.65284472e-01, 0.00000000e+00],\n",
       "       [0.00000000e+00, 9.40247403e-01, 6.76137051e-01, 0.00000000e+00],\n",
       "       [0.00000000e+00, 6.92426259e-01, 6.21605205e-02, 0.00000000e+00],\n",
       "       [0.00000000e+00, 2.85073817e-01, 7.65177402e-03, 0.00000000e+00],\n",
       "       [0.00000000e+00, 4.43651112e-01, 1.77386620e-01, 0.00000000e+00],\n",
       "       [0.00000000e+00, 1.31893124e-02, 4.18934828e-01, 0.00000000e+00],\n",
       "       [0.00000000e+00, 4.99434310e-01, 6.35478824e-01, 0.00000000e+00],\n",
       "       [0.00000000e+00, 2.34127428e-01, 6.67971165e-01, 0.00000000e+00],\n",
       "       [0.00000000e+00, 2.50579046e-01, 5.27958934e-01, 0.00000000e+00],\n",
       "       [0.00000000e+00, 2.95068439e-01, 2.36047843e-01, 0.00000000e+00],\n",
       "       [0.00000000e+00, 1.24867424e-01, 1.47264926e-01, 0.00000000e+00],\n",
       "       [0.00000000e+00, 4.35620961e-01, 6.07577904e-01, 0.00000000e+00],\n",
       "       [0.00000000e+00, 3.42555629e-01, 7.84241553e-01, 0.00000000e+00],\n",
       "       [0.00000000e+00, 9.29126720e-01, 8.55159942e-01, 0.00000000e+00],\n",
       "       [0.00000000e+00, 4.88355264e-01, 4.65386633e-01, 0.00000000e+00],\n",
       "       [0.00000000e+00, 5.79479465e-01, 1.32297344e-01, 0.00000000e+00],\n",
       "       [0.00000000e+00, 1.46342264e-01, 5.73567866e-01, 0.00000000e+00],\n",
       "       [0.00000000e+00, 1.69763672e-01, 4.77790850e-02, 0.00000000e+00],\n",
       "       [0.00000000e+00, 9.98712219e-01, 2.08736458e-02, 0.00000000e+00],\n",
       "       [0.00000000e+00, 4.05110726e-01, 6.18552231e-01, 0.00000000e+00],\n",
       "       [0.00000000e+00, 3.31045090e-01, 1.11901593e-01, 0.00000000e+00],\n",
       "       [0.00000000e+00, 6.76638598e-01, 4.91534831e-01, 0.00000000e+00],\n",
       "       [0.00000000e+00, 6.36655915e-02, 7.32192983e-01, 0.00000000e+00],\n",
       "       [0.00000000e+00, 6.53576110e-01, 5.39522615e-01, 0.00000000e+00],\n",
       "       [0.00000000e+00, 9.82562297e-01, 3.39319331e-01, 0.00000000e+00],\n",
       "       [0.00000000e+00, 7.26841851e-03, 2.31082514e-01, 0.00000000e+00],\n",
       "       [0.00000000e+00, 3.00875519e-01, 8.81171962e-01, 0.00000000e+00],\n",
       "       [0.00000000e+00, 8.82009145e-01, 2.10098880e-01, 0.00000000e+00],\n",
       "       [0.00000000e+00, 6.34027490e-01, 4.45485860e-01, 0.00000000e+00],\n",
       "       [0.00000000e+00, 1.77688651e-01, 3.91277781e-01, 0.00000000e+00],\n",
       "       [0.00000000e+00, 7.82537678e-01, 9.75638203e-02, 0.00000000e+00],\n",
       "       [0.00000000e+00, 7.86090429e-01, 7.15899881e-01, 0.00000000e+00],\n",
       "       [0.00000000e+00, 5.91383356e-01, 7.22384636e-01, 0.00000000e+00],\n",
       "       [0.00000000e+00, 9.61735772e-01, 9.41450154e-01, 0.00000000e+00],\n",
       "       [0.00000000e+00, 8.85121215e-02, 5.98405561e-01, 0.00000000e+00],\n",
       "       [0.00000000e+00, 7.09523527e-01, 1.26803586e-01, 0.00000000e+00],\n",
       "       [0.00000000e+00, 6.95892180e-01, 6.58123681e-01, 0.00000000e+00],\n",
       "       [0.00000000e+00, 9.62982628e-01, 4.14714678e-01, 0.00000000e+00],\n",
       "       [0.00000000e+00, 8.82541918e-01, 8.56887277e-01, 0.00000000e+00],\n",
       "       [0.00000000e+00, 6.01449088e-01, 1.02199548e-01, 0.00000000e+00],\n",
       "       [0.00000000e+00, 8.91731516e-01, 8.64711076e-01, 0.00000000e+00],\n",
       "       [0.00000000e+00, 9.87922405e-01, 4.87753439e-01, 0.00000000e+00],\n",
       "       [0.00000000e+00, 9.80456509e-01, 6.15679935e-01, 0.00000000e+00],\n",
       "       [0.00000000e+00, 8.40121536e-01, 5.74478167e-01, 0.00000000e+00],\n",
       "       [0.00000000e+00, 1.03140060e-01, 2.88239126e-01, 0.00000000e+00],\n",
       "       [0.00000000e+00, 9.19723037e-01, 5.93269857e-02, 0.00000000e+00],\n",
       "       [0.00000000e+00, 3.15598681e-01, 1.28637135e-01, 0.00000000e+00],\n",
       "       [0.00000000e+00, 9.87702276e-01, 1.81681640e-01, 0.00000000e+00]])"
      ]
     },
     "execution_count": 26,
     "metadata": {},
     "output_type": "execute_result"
    }
   ],
   "source": [
    "obs = update_X(X, Y, act_att_idx)\n",
    "obs"
   ]
  },
  {
   "cell_type": "code",
   "execution_count": 27,
   "metadata": {
    "hidden": true
   },
   "outputs": [],
   "source": [
    "test_col_0 = obs[:,act_att_idx[0]] == Y.T[0]\n",
    "test_col_1 = obs[:,act_att_idx[1]] == Y.T[1]\n",
    "\n",
    "assert obs.shape == X.shape\n",
    "assert test_col_0.all()\n",
    "assert test_col_1.all()\n"
   ]
  },
  {
   "cell_type": "markdown",
   "metadata": {},
   "source": [
    "### predict_values_from_numer"
   ]
  },
  {
   "cell_type": "code",
   "execution_count": 28,
   "metadata": {},
   "outputs": [],
   "source": [
    "nb_atts=4\n",
    "numer_res = [None]*nb_atts\n",
    "\n",
    "for i in range(nb_atts):\n",
    "    numer_res[i]=np.random.rand(100,1)\n",
    "    \n",
    "counts = np.random.randint(1,10, size=(nb_atts))\n",
    "\n",
    "obs = predict_values_from_numer(numer_res, counts)\n",
    "\n",
    "assert obs.shape[0] == numer_res[0].shape[0]\n",
    "assert obs.shape[1] == nb_atts\n",
    "assert isinstance(obs, np.ndarray)"
   ]
  },
  {
   "cell_type": "markdown",
   "metadata": {
    "heading_collapsed": true
   },
   "source": [
    "### predict_values_from_proba"
   ]
  },
  {
   "cell_type": "code",
   "execution_count": 29,
   "metadata": {
    "hidden": true
   },
   "outputs": [],
   "source": [
    "nb_atts = 5\n",
    "nb_classes = 3\n",
    "nb_samples = 100\n",
    "proba_res = [None]*nb_atts\n",
    "lab_res = [None]*nb_atts\n",
    "\n",
    "for i in range(nb_atts):\n",
    "    proba_res[i]=np.random.rand(nb_samples, nb_classes)\n",
    "    \n",
    "for i in range(nb_atts):\n",
    "    lab_res[i]=np.random.choice(10, size=nb_classes, replace=False) "
   ]
  },
  {
   "cell_type": "code",
   "execution_count": 30,
   "metadata": {
    "hidden": true
   },
   "outputs": [
    {
     "data": {
      "text/plain": [
       "[array([1, 3, 4]),\n",
       " array([9, 7, 3]),\n",
       " array([8, 3, 6]),\n",
       " array([3, 5, 7]),\n",
       " array([7, 1, 9])]"
      ]
     },
     "execution_count": 30,
     "metadata": {},
     "output_type": "execute_result"
    }
   ],
   "source": [
    "lab_res"
   ]
  },
  {
   "cell_type": "code",
   "execution_count": 31,
   "metadata": {
    "hidden": true
   },
   "outputs": [],
   "source": [
    "obs = predict_values_from_proba(proba_res, lab_res)\n",
    "\n",
    "assert obs.shape == (nb_samples, nb_atts)\n",
    "\n",
    "for a in range(nb_atts):\n",
    "    assert np.array_equal(np.unique(obs[:,a]),np.unique(lab_res[a]))"
   ]
  },
  {
   "cell_type": "markdown",
   "metadata": {},
   "source": [
    "### merge_numer"
   ]
  },
  {
   "cell_type": "code",
   "execution_count": 32,
   "metadata": {},
   "outputs": [],
   "source": [
    "nb_samples = 100\n",
    "nb_targ_res = 6\n",
    "numer_res = [None]*nb_targ_res\n",
    "\n",
    "for i in range(nb_targ_res):\n",
    "    numer_res[i] = np.random.rand(nb_samples, 1)"
   ]
  },
  {
   "cell_type": "code",
   "execution_count": 33,
   "metadata": {},
   "outputs": [],
   "source": [
    "# Multi-target sklearn output\n",
    "nb_targ_mod_a = 3\n",
    "numer_mod_a = np.random.rand(nb_samples, nb_targ_mod_a)\n",
    "\n",
    "# Single-target sklearn output\n",
    "nb_targ_mod_b = 1\n",
    "numer_mod_b = np.random.rand(nb_samples, nb_targ_mod_b) \n",
    "numer_mod_b = np.squeeze(numer_mod_b) \n",
    "\n",
    "# Our own output format\n",
    "nb_targ_mod_c = 2\n",
    "numer_mod_c = [None]*nb_targ_mod_c\n",
    "for i in range(nb_targ_mod_c):\n",
    "    numer_mod_c[i] = np.random.rand(100, 1)"
   ]
  },
  {
   "cell_type": "code",
   "execution_count": 34,
   "metadata": {},
   "outputs": [],
   "source": [
    "t_idx_res = 2\n",
    "t_idx_mod = 0"
   ]
  },
  {
   "cell_type": "code",
   "execution_count": 41,
   "metadata": {},
   "outputs": [
    {
     "name": "stdout",
     "output_type": "stream",
     "text": [
      "Type of numer_res: <class 'list'> \n",
      "And type of numer_res[0]: <class 'numpy.ndarray'>\n",
      "And shape of numer_res[0]: (100, 1)\n",
      "\n",
      "\n",
      "Type of numer_res: <class 'list'> \n",
      "And type of numer_res[0]: <class 'numpy.ndarray'>\n",
      "And shape of numer_res[0]: (100, 1)\n",
      "\n",
      "\n",
      "Type of numer_res: <class 'list'> \n",
      "And type of numer_res[0]: <class 'numpy.ndarray'>\n",
      "And shape of numer_res[0]: (100, 1)\n",
      "\n",
      "\n"
     ]
    }
   ],
   "source": [
    "for numer_mod in [numer_mod_a, numer_mod_b, numer_mod_c]:\n",
    "    obs = merge_numer(numer_res, numer_mod, t_idx_res, t_idx_mod)\n",
    "    \n",
    "    assert isinstance(obs, list)\n",
    "    assert len(obs) == nb_targ_res"
   ]
  },
  {
   "cell_type": "markdown",
   "metadata": {},
   "source": [
    "### merge_proba"
   ]
  },
  {
   "cell_type": "code",
   "execution_count": null,
   "metadata": {},
   "outputs": [],
   "source": []
  }
 ],
 "metadata": {
  "kernelspec": {
   "display_name": "Python 3",
   "language": "python",
   "name": "python3"
  },
  "language_info": {
   "codemirror_mode": {
    "name": "ipython",
    "version": 3
   },
   "file_extension": ".py",
   "mimetype": "text/x-python",
   "name": "python",
   "nbconvert_exporter": "python",
   "pygments_lexer": "ipython3",
   "version": "3.6.4"
  },
  "toc": {
   "nav_menu": {},
   "number_sections": true,
   "sideBar": true,
   "skip_h1_title": true,
   "title_cell": "Table of Contents",
   "title_sidebar": "Contents",
   "toc_cell": false,
   "toc_position": {},
   "toc_section_display": "block",
   "toc_window_display": false
  }
 },
 "nbformat": 4,
 "nbformat_minor": 2
}
