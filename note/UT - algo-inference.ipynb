{
 "cells": [
  {
   "cell_type": "markdown",
   "metadata": {},
   "source": [
    "# Unittests - mercs/algo/inference"
   ]
  },
  {
   "cell_type": "markdown",
   "metadata": {},
   "source": [
    "## Imports"
   ]
  },
  {
   "cell_type": "code",
   "execution_count": 1,
   "metadata": {
    "collapsed": true
   },
   "outputs": [],
   "source": [
    "# Standard imports\n",
    "import os\n",
    "import sys\n",
    "from os.path import dirname\n",
    "\n",
    "\n",
    "# Custom imports\n",
    "root_directory = dirname(os.getcwd())\n",
    "for dname in {'src'}:\n",
    "    sys.path.insert(0, os.path.join(root_directory, dname))\n",
    "\n",
    "from mercs.algo.inference import *\n",
    "from mercs.utils.utils import encode_attribute\n",
    "\n",
    "import datasets as ds\n",
    "from sklearn.preprocessing import Imputer"
   ]
  },
  {
   "cell_type": "markdown",
   "metadata": {},
   "source": [
    "## Actual Tests"
   ]
  },
  {
   "cell_type": "markdown",
   "metadata": {
    "heading_collapsed": true
   },
   "source": [
    "### Perform Imputation"
   ]
  },
  {
   "cell_type": "code",
   "execution_count": 2,
   "metadata": {
    "hidden": true
   },
   "outputs": [
    {
     "name": "stdout",
     "output_type": "stream",
     "text": [
      "load_example_dataset is loading fname: /cw/dtailocal/Files/git/mercs-v5/resc/data/nursery_train.csv\n",
      "\n",
      "load_example_dataset is loading fname: /cw/dtailocal/Files/git/mercs-v5/resc/data/nursery_test.csv\n",
      "\n"
     ]
    }
   ],
   "source": [
    "train, test = ds.load_nursery()"
   ]
  },
  {
   "cell_type": "code",
   "execution_count": 3,
   "metadata": {
    "collapsed": true,
    "hidden": true
   },
   "outputs": [],
   "source": [
    "query_code = [0,-1,-1,0,0,0,0,0,1]"
   ]
  },
  {
   "cell_type": "code",
   "execution_count": 4,
   "metadata": {
    "hidden": true
   },
   "outputs": [
    {
     "data": {
      "text/plain": [
       "Imputer(axis=0, copy=True, missing_values='NaN', strategy='most_frequent',\n",
       "    verbose=0)"
      ]
     },
     "execution_count": 4,
     "metadata": {},
     "output_type": "execute_result"
    }
   ],
   "source": [
    "imputator = Imputer(missing_values='NaN',\n",
    "                    strategy='most_frequent',\n",
    "                    axis=0)\n",
    "imputator.fit(train)"
   ]
  },
  {
   "cell_type": "code",
   "execution_count": 5,
   "metadata": {
    "hidden": true
   },
   "outputs": [],
   "source": [
    "obs = perform_imputation(train, query_code, imputator)"
   ]
  },
  {
   "cell_type": "code",
   "execution_count": 6,
   "metadata": {
    "hidden": true
   },
   "outputs": [
    {
     "data": {
      "text/plain": [
       "(11680, 9)"
      ]
     },
     "execution_count": 6,
     "metadata": {},
     "output_type": "execute_result"
    }
   ],
   "source": [
    "obs.shape"
   ]
  },
  {
   "cell_type": "code",
   "execution_count": 7,
   "metadata": {
    "hidden": true
   },
   "outputs": [
    {
     "data": {
      "text/plain": [
       "(11680, 9)"
      ]
     },
     "execution_count": 7,
     "metadata": {},
     "output_type": "execute_result"
    }
   ],
   "source": [
    "train.shape"
   ]
  },
  {
   "cell_type": "code",
   "execution_count": 8,
   "metadata": {
    "collapsed": true,
    "hidden": true
   },
   "outputs": [],
   "source": [
    "assert train.shape == obs.shape"
   ]
  },
  {
   "cell_type": "code",
   "execution_count": 9,
   "metadata": {
    "hidden": true
   },
   "outputs": [
    {
     "data": {
      "text/plain": [
       "array([False, False, False, False, False, False, False, False,  True])"
      ]
     },
     "execution_count": 9,
     "metadata": {},
     "output_type": "execute_result"
    }
   ],
   "source": [
    "np.array(query_code)==1"
   ]
  },
  {
   "cell_type": "code",
   "execution_count": 10,
   "metadata": {
    "hidden": true
   },
   "outputs": [
    {
     "data": {
      "text/plain": [
       "array([[2., 4., 1., ..., 0., 2., 2.],\n",
       "       [2., 4., 1., ..., 0., 1., 1.],\n",
       "       [2., 4., 1., ..., 0., 0., 0.],\n",
       "       ...,\n",
       "       [0., 4., 1., ..., 1., 2., 3.],\n",
       "       [0., 4., 1., ..., 1., 1., 3.],\n",
       "       [0., 4., 1., ..., 1., 0., 0.]])"
      ]
     },
     "execution_count": 10,
     "metadata": {},
     "output_type": "execute_result"
    }
   ],
   "source": [
    "obs"
   ]
  },
  {
   "cell_type": "code",
   "execution_count": 11,
   "metadata": {
    "collapsed": true,
    "hidden": true
   },
   "outputs": [],
   "source": [
    "missing_attribute_encoding = encode_attribute(0, [1], [2])"
   ]
  },
  {
   "cell_type": "code",
   "execution_count": 12,
   "metadata": {
    "hidden": true
   },
   "outputs": [
    {
     "data": {
      "text/plain": [
       "array([False,  True,  True, False, False, False, False, False, False])"
      ]
     },
     "execution_count": 12,
     "metadata": {},
     "output_type": "execute_result"
    }
   ],
   "source": [
    "boolean_missing = np.array(query_code)== missing_attribute_encoding\n",
    "boolean_missing"
   ]
  },
  {
   "cell_type": "code",
   "execution_count": 13,
   "metadata": {
    "hidden": true
   },
   "outputs": [
    {
     "data": {
      "text/plain": [
       "2"
      ]
     },
     "execution_count": 13,
     "metadata": {},
     "output_type": "execute_result"
    }
   ],
   "source": [
    "missing_count = np.sum(boolean_missing)\n",
    "missing_count"
   ]
  },
  {
   "cell_type": "code",
   "execution_count": 14,
   "metadata": {
    "hidden": true
   },
   "outputs": [],
   "source": [
    "for x in obs[:,boolean_missing].T:\n",
    "    assert len(np.unique(x)) == 1"
   ]
  },
  {
   "cell_type": "code",
   "execution_count": 15,
   "metadata": {
    "hidden": true
   },
   "outputs": [
    {
     "data": {
      "text/plain": [
       "True"
      ]
     },
     "execution_count": 15,
     "metadata": {},
     "output_type": "execute_result"
    }
   ],
   "source": [
    "len(np.unique(obs[:,np.array(query_code)==-1])) <= missing_count"
   ]
  },
  {
   "cell_type": "code",
   "execution_count": 16,
   "metadata": {
    "hidden": true
   },
   "outputs": [
    {
     "data": {
      "text/plain": [
       "array([1., 4.])"
      ]
     },
     "execution_count": 16,
     "metadata": {},
     "output_type": "execute_result"
    }
   ],
   "source": [
    "np.unique(obs[:,np.array(query_code)==-1])"
   ]
  },
  {
   "cell_type": "code",
   "execution_count": 17,
   "metadata": {
    "collapsed": true,
    "hidden": true
   },
   "outputs": [],
   "source": [
    "def test_perform_imputation():\n",
    "    # Prelims\n",
    "    train, test = ds.load_nursery()\n",
    "    query_code = [0,-1,-1,-1,-1,-1,0,0,1]\n",
    "    \n",
    "    imputator = Imputer(missing_values='NaN',\n",
    "                    strategy='most_frequent',\n",
    "                    axis=0)\n",
    "    imputator.fit(train)\n",
    "    \n",
    "    # Actual test\n",
    "    obs = perform_imputation(test, query_code, imputator)\n",
    "    \n",
    "    assert test.shape == obs.shape\n",
    "    assert isinstance(obs, np.ndarray)\n",
    "    \n",
    "    boolean_missing = missing_attribute_encoding\n",
    "    \n",
    "    for row in obs[:,boolean_missing].T:\n",
    "        assert len(np.unique(x)) == 1"
   ]
  },
  {
   "cell_type": "markdown",
   "metadata": {
    "heading_collapsed": true
   },
   "source": [
    "### Init_predictions"
   ]
  },
  {
   "cell_type": "code",
   "execution_count": 18,
   "metadata": {
    "hidden": true
   },
   "outputs": [],
   "source": [
    "obs = init_predictions(10, 5, type=np.float64)"
   ]
  },
  {
   "cell_type": "code",
   "execution_count": 19,
   "metadata": {
    "hidden": true
   },
   "outputs": [
    {
     "data": {
      "text/plain": [
       "(10, 5)"
      ]
     },
     "execution_count": 19,
     "metadata": {},
     "output_type": "execute_result"
    }
   ],
   "source": [
    "obs.shape"
   ]
  },
  {
   "cell_type": "code",
   "execution_count": 21,
   "metadata": {
    "hidden": true
   },
   "outputs": [
    {
     "data": {
      "text/plain": [
       "True"
      ]
     },
     "execution_count": 21,
     "metadata": {},
     "output_type": "execute_result"
    }
   ],
   "source": [
    "obs.dtype == np.float64"
   ]
  },
  {
   "cell_type": "code",
   "execution_count": 22,
   "metadata": {
    "hidden": true
   },
   "outputs": [],
   "source": [
    "assert isinstance(obs[0,0], np.float64)"
   ]
  },
  {
   "cell_type": "code",
   "execution_count": null,
   "metadata": {
    "collapsed": true,
    "hidden": true
   },
   "outputs": [],
   "source": [
    "act_att_idx = [4,5,6]"
   ]
  },
  {
   "cell_type": "code",
   "execution_count": null,
   "metadata": {
    "hidden": true
   },
   "outputs": [],
   "source": [
    "np.max(act_att_idx)"
   ]
  },
  {
   "cell_type": "code",
   "execution_count": null,
   "metadata": {
    "hidden": true
   },
   "outputs": [],
   "source": [
    "obs.shape[1]"
   ]
  },
  {
   "cell_type": "markdown",
   "metadata": {
    "heading_collapsed": true
   },
   "source": [
    "### Update_X"
   ]
  },
  {
   "cell_type": "code",
   "execution_count": 30,
   "metadata": {
    "hidden": true,
    "scrolled": true
   },
   "outputs": [],
   "source": [
    "X = np.zeros((100, 4), dtype=np.float64)\n",
    "Y = np.random.rand(100,2)\n",
    "act_att_idx = [1,2]"
   ]
  },
  {
   "cell_type": "code",
   "execution_count": 31,
   "metadata": {
    "hidden": true,
    "scrolled": true
   },
   "outputs": [
    {
     "data": {
      "text/plain": [
       "array([[0.00000000e+00, 6.05718611e-01, 7.88301472e-01, 0.00000000e+00],\n",
       "       [0.00000000e+00, 3.10960914e-01, 1.49315912e-01, 0.00000000e+00],\n",
       "       [0.00000000e+00, 2.18049073e-01, 3.40194977e-01, 0.00000000e+00],\n",
       "       [0.00000000e+00, 7.56018419e-01, 6.64330171e-02, 0.00000000e+00],\n",
       "       [0.00000000e+00, 5.30758250e-01, 9.97458888e-01, 0.00000000e+00],\n",
       "       [0.00000000e+00, 2.37794678e-01, 5.80214702e-01, 0.00000000e+00],\n",
       "       [0.00000000e+00, 3.12743298e-01, 7.87082174e-01, 0.00000000e+00],\n",
       "       [0.00000000e+00, 8.08604461e-01, 4.60060939e-01, 0.00000000e+00],\n",
       "       [0.00000000e+00, 2.52478001e-01, 2.17323879e-01, 0.00000000e+00],\n",
       "       [0.00000000e+00, 4.70062894e-01, 7.28507809e-01, 0.00000000e+00],\n",
       "       [0.00000000e+00, 9.75526060e-01, 2.92934149e-01, 0.00000000e+00],\n",
       "       [0.00000000e+00, 6.27731269e-01, 1.36658308e-01, 0.00000000e+00],\n",
       "       [0.00000000e+00, 4.31176502e-01, 9.58404287e-01, 0.00000000e+00],\n",
       "       [0.00000000e+00, 6.65809647e-01, 9.55138851e-02, 0.00000000e+00],\n",
       "       [0.00000000e+00, 5.26801000e-01, 4.93942965e-01, 0.00000000e+00],\n",
       "       [0.00000000e+00, 9.12833950e-01, 1.30026613e-01, 0.00000000e+00],\n",
       "       [0.00000000e+00, 5.93539198e-01, 5.78870997e-01, 0.00000000e+00],\n",
       "       [0.00000000e+00, 5.73070275e-01, 6.86832222e-01, 0.00000000e+00],\n",
       "       [0.00000000e+00, 5.51818443e-01, 3.63651575e-01, 0.00000000e+00],\n",
       "       [0.00000000e+00, 2.24374061e-01, 9.27502578e-01, 0.00000000e+00],\n",
       "       [0.00000000e+00, 7.04580962e-02, 4.62517546e-01, 0.00000000e+00],\n",
       "       [0.00000000e+00, 2.36061509e-01, 1.09154850e-01, 0.00000000e+00],\n",
       "       [0.00000000e+00, 3.68594501e-01, 5.38549301e-01, 0.00000000e+00],\n",
       "       [0.00000000e+00, 3.00001831e-01, 4.45673550e-01, 0.00000000e+00],\n",
       "       [0.00000000e+00, 3.39760463e-01, 7.09520977e-01, 0.00000000e+00],\n",
       "       [0.00000000e+00, 8.98695301e-01, 8.59236685e-01, 0.00000000e+00],\n",
       "       [0.00000000e+00, 2.36060718e-01, 2.21735252e-01, 0.00000000e+00],\n",
       "       [0.00000000e+00, 4.26437831e-01, 2.59759287e-01, 0.00000000e+00],\n",
       "       [0.00000000e+00, 5.17136529e-01, 3.15565668e-01, 0.00000000e+00],\n",
       "       [0.00000000e+00, 5.58168052e-01, 2.61340651e-01, 0.00000000e+00],\n",
       "       [0.00000000e+00, 1.89690453e-01, 4.83776457e-01, 0.00000000e+00],\n",
       "       [0.00000000e+00, 4.15804449e-02, 1.45710366e-01, 0.00000000e+00],\n",
       "       [0.00000000e+00, 8.59944508e-01, 9.68100958e-01, 0.00000000e+00],\n",
       "       [0.00000000e+00, 3.28172959e-01, 5.82472911e-01, 0.00000000e+00],\n",
       "       [0.00000000e+00, 7.58836005e-01, 1.88495557e-01, 0.00000000e+00],\n",
       "       [0.00000000e+00, 5.51080113e-01, 3.70379500e-01, 0.00000000e+00],\n",
       "       [0.00000000e+00, 9.68549855e-01, 2.35713015e-01, 0.00000000e+00],\n",
       "       [0.00000000e+00, 5.77381956e-01, 6.54992910e-01, 0.00000000e+00],\n",
       "       [0.00000000e+00, 7.65519220e-01, 8.16496147e-01, 0.00000000e+00],\n",
       "       [0.00000000e+00, 1.77956860e-01, 6.49910190e-01, 0.00000000e+00],\n",
       "       [0.00000000e+00, 1.99566613e-01, 8.91923534e-01, 0.00000000e+00],\n",
       "       [0.00000000e+00, 3.59903806e-01, 6.51397761e-01, 0.00000000e+00],\n",
       "       [0.00000000e+00, 4.83712611e-01, 2.63201926e-01, 0.00000000e+00],\n",
       "       [0.00000000e+00, 3.33137324e-01, 7.43800093e-02, 0.00000000e+00],\n",
       "       [0.00000000e+00, 3.35599828e-01, 4.51074441e-02, 0.00000000e+00],\n",
       "       [0.00000000e+00, 4.30164386e-01, 1.04669715e-01, 0.00000000e+00],\n",
       "       [0.00000000e+00, 3.09013971e-02, 8.43861371e-01, 0.00000000e+00],\n",
       "       [0.00000000e+00, 8.15197126e-01, 9.58959959e-01, 0.00000000e+00],\n",
       "       [0.00000000e+00, 2.94101928e-01, 2.32840704e-02, 0.00000000e+00],\n",
       "       [0.00000000e+00, 7.43840969e-02, 8.10317222e-01, 0.00000000e+00],\n",
       "       [0.00000000e+00, 1.80694334e-01, 8.59019118e-02, 0.00000000e+00],\n",
       "       [0.00000000e+00, 5.57075330e-01, 6.04227816e-01, 0.00000000e+00],\n",
       "       [0.00000000e+00, 9.24805721e-01, 6.52819985e-01, 0.00000000e+00],\n",
       "       [0.00000000e+00, 3.20392409e-01, 9.63118657e-01, 0.00000000e+00],\n",
       "       [0.00000000e+00, 2.55581060e-01, 5.73160939e-01, 0.00000000e+00],\n",
       "       [0.00000000e+00, 2.30192101e-01, 7.02294955e-01, 0.00000000e+00],\n",
       "       [0.00000000e+00, 6.07216402e-01, 7.14742376e-02, 0.00000000e+00],\n",
       "       [0.00000000e+00, 8.68037247e-01, 9.67091103e-01, 0.00000000e+00],\n",
       "       [0.00000000e+00, 5.40538356e-01, 3.27472119e-04, 0.00000000e+00],\n",
       "       [0.00000000e+00, 1.29303927e-01, 6.67343649e-01, 0.00000000e+00],\n",
       "       [0.00000000e+00, 3.30434092e-01, 3.59709605e-01, 0.00000000e+00],\n",
       "       [0.00000000e+00, 7.72273039e-01, 5.15534549e-01, 0.00000000e+00],\n",
       "       [0.00000000e+00, 9.96514050e-01, 5.40120215e-02, 0.00000000e+00],\n",
       "       [0.00000000e+00, 3.87141341e-01, 2.40770173e-01, 0.00000000e+00],\n",
       "       [0.00000000e+00, 4.49829750e-01, 1.25574390e-01, 0.00000000e+00],\n",
       "       [0.00000000e+00, 1.56215628e-01, 2.60516718e-01, 0.00000000e+00],\n",
       "       [0.00000000e+00, 8.83440470e-01, 9.18719021e-01, 0.00000000e+00],\n",
       "       [0.00000000e+00, 5.10873315e-01, 9.93606127e-01, 0.00000000e+00],\n",
       "       [0.00000000e+00, 5.32515360e-01, 9.39466584e-02, 0.00000000e+00],\n",
       "       [0.00000000e+00, 3.80205464e-01, 9.43289558e-01, 0.00000000e+00],\n",
       "       [0.00000000e+00, 2.99250543e-01, 7.92214775e-01, 0.00000000e+00],\n",
       "       [0.00000000e+00, 6.41456235e-01, 7.15177932e-01, 0.00000000e+00],\n",
       "       [0.00000000e+00, 6.95574613e-01, 8.34735566e-01, 0.00000000e+00],\n",
       "       [0.00000000e+00, 6.62074706e-01, 1.88361635e-01, 0.00000000e+00],\n",
       "       [0.00000000e+00, 4.59958510e-01, 1.37796137e-01, 0.00000000e+00],\n",
       "       [0.00000000e+00, 5.67906702e-01, 1.30343000e-01, 0.00000000e+00],\n",
       "       [0.00000000e+00, 1.94840775e-01, 2.42352477e-01, 0.00000000e+00],\n",
       "       [0.00000000e+00, 2.14762879e-01, 8.23716350e-01, 0.00000000e+00],\n",
       "       [0.00000000e+00, 5.96564441e-01, 3.07698134e-01, 0.00000000e+00],\n",
       "       [0.00000000e+00, 9.48863566e-01, 2.79993034e-01, 0.00000000e+00],\n",
       "       [0.00000000e+00, 9.69566954e-01, 5.91439652e-01, 0.00000000e+00],\n",
       "       [0.00000000e+00, 3.87635043e-01, 9.85970459e-01, 0.00000000e+00],\n",
       "       [0.00000000e+00, 9.98967425e-01, 5.38849612e-01, 0.00000000e+00],\n",
       "       [0.00000000e+00, 2.89201090e-02, 2.31597756e-02, 0.00000000e+00],\n",
       "       [0.00000000e+00, 3.36588928e-01, 8.81014066e-02, 0.00000000e+00],\n",
       "       [0.00000000e+00, 3.27681963e-01, 5.89110999e-03, 0.00000000e+00],\n",
       "       [0.00000000e+00, 7.30052866e-01, 1.70241042e-01, 0.00000000e+00],\n",
       "       [0.00000000e+00, 2.93545953e-01, 3.45201838e-01, 0.00000000e+00],\n",
       "       [0.00000000e+00, 3.50457734e-01, 5.11613337e-01, 0.00000000e+00],\n",
       "       [0.00000000e+00, 6.22826711e-01, 5.13625444e-01, 0.00000000e+00],\n",
       "       [0.00000000e+00, 6.04071033e-01, 3.03362597e-01, 0.00000000e+00],\n",
       "       [0.00000000e+00, 3.68540623e-01, 4.19935038e-01, 0.00000000e+00],\n",
       "       [0.00000000e+00, 6.27721550e-01, 1.27550063e-01, 0.00000000e+00],\n",
       "       [0.00000000e+00, 5.01984317e-01, 2.81200361e-01, 0.00000000e+00],\n",
       "       [0.00000000e+00, 4.20654301e-01, 2.08720497e-01, 0.00000000e+00],\n",
       "       [0.00000000e+00, 5.86711223e-01, 5.39037701e-02, 0.00000000e+00],\n",
       "       [0.00000000e+00, 4.39794347e-01, 5.89299751e-01, 0.00000000e+00],\n",
       "       [0.00000000e+00, 8.40813085e-01, 8.64226465e-01, 0.00000000e+00],\n",
       "       [0.00000000e+00, 2.79476415e-01, 4.95333215e-01, 0.00000000e+00],\n",
       "       [0.00000000e+00, 5.19837859e-01, 8.39884066e-01, 0.00000000e+00]])"
      ]
     },
     "execution_count": 31,
     "metadata": {},
     "output_type": "execute_result"
    }
   ],
   "source": [
    "obs = update_X(X, Y, act_att_idx)\n",
    "obs"
   ]
  },
  {
   "cell_type": "code",
   "execution_count": 50,
   "metadata": {
    "collapsed": true,
    "hidden": true
   },
   "outputs": [],
   "source": [
    "test_col_0 = obs[:,act_att_idx[0]] == Y.T[0]\n",
    "test_col_1 = obs[:,act_att_idx[1]] == Y.T[1]\n",
    "\n",
    "assert obs.shape == X.shape\n",
    "assert test_col_0.all()\n",
    "assert test_col_1.all()\n"
   ]
  },
  {
   "cell_type": "markdown",
   "metadata": {},
   "source": [
    "### predict_values_from_numer"
   ]
  },
  {
   "cell_type": "code",
   "execution_count": 73,
   "metadata": {},
   "outputs": [],
   "source": [
    "nb_atts=4\n",
    "numer_res = [None]*nb_atts\n",
    "\n",
    "for i in range(nb_atts):\n",
    "    numer_res[i]=np.random.rand(100,1)\n",
    "    \n",
    "counts = np.random.randint(1,10, size=(nb_atts))\n",
    "\n",
    "obs = predict_values_from_numer(numer_res, counts)\n",
    "\n",
    "assert obs.shape[0] == numer_res[0].shape[0]\n",
    "assert obs.shape[1] == nb_atts\n",
    "assert isinstance(obs, np.ndarray)"
   ]
  },
  {
   "cell_type": "markdown",
   "metadata": {},
   "source": [
    "### predict_values_from_proba"
   ]
  },
  {
   "cell_type": "code",
   "execution_count": 114,
   "metadata": {},
   "outputs": [],
   "source": [
    "nb_atts = 5\n",
    "nb_classes = 3\n",
    "nb_samples = 100\n",
    "proba_res = [None]*nb_atts\n",
    "lab_res = [None]*nb_atts\n",
    "\n",
    "for i in range(nb_atts):\n",
    "    proba_res[i]=np.random.rand(nb_samples, nb_classes)\n",
    "    \n",
    "for i in range(nb_atts):\n",
    "    lab_res[i]=np.random.choice(10, size=nb_classes, replace=False) "
   ]
  },
  {
   "cell_type": "code",
   "execution_count": 98,
   "metadata": {},
   "outputs": [
    {
     "data": {
      "text/plain": [
       "[array([8, 5, 9]),\n",
       " array([0, 1, 5]),\n",
       " array([2, 6, 4]),\n",
       " array([5, 0, 4]),\n",
       " array([5, 8, 1])]"
      ]
     },
     "execution_count": 98,
     "metadata": {},
     "output_type": "execute_result"
    }
   ],
   "source": [
    "lab_res"
   ]
  },
  {
   "cell_type": "code",
   "execution_count": 132,
   "metadata": {},
   "outputs": [],
   "source": [
    "obs = predict_values_from_proba(proba_res, lab_res)\n",
    "\n",
    "assert obs.shape == (nb_samples, nb_atts)\n",
    "\n",
    "for a in range(nb_atts):\n",
    "    assert np.array_equal(np.unique(obs[:,a]),np.unique(lab_res[a]))"
   ]
  },
  {
   "cell_type": "markdown",
   "metadata": {},
   "source": [
    "### merge_pred"
   ]
  },
  {
   "cell_type": "code",
   "execution_count": 147,
   "metadata": {
    "collapsed": true
   },
   "outputs": [],
   "source": [
    "nb_atts=4\n",
    "numer_res = [None]*nb_atts\n",
    "\n",
    "for i in range(nb_atts):\n",
    "    numer_res[i]=np.random.rand(100,1)"
   ]
  },
  {
   "cell_type": "code",
   "execution_count": 148,
   "metadata": {},
   "outputs": [
    {
     "data": {
      "text/plain": [
       "[array([[0.20889244],\n",
       "        [0.19722998],\n",
       "        [0.28629263],\n",
       "        [0.24496771],\n",
       "        [0.75569686],\n",
       "        [0.59548719],\n",
       "        [0.53319486],\n",
       "        [0.87021361],\n",
       "        [0.12352275],\n",
       "        [0.12953857],\n",
       "        [0.67332668],\n",
       "        [0.47183706],\n",
       "        [0.09964374],\n",
       "        [0.74372462],\n",
       "        [0.49301346],\n",
       "        [0.60723261],\n",
       "        [0.95774639],\n",
       "        [0.98541843],\n",
       "        [0.9670405 ],\n",
       "        [0.30374843],\n",
       "        [0.53954427],\n",
       "        [0.79674259],\n",
       "        [0.5222921 ],\n",
       "        [0.34828827],\n",
       "        [0.81116799],\n",
       "        [0.2783769 ],\n",
       "        [0.08758629],\n",
       "        [0.2389028 ],\n",
       "        [0.90150662],\n",
       "        [0.39203931],\n",
       "        [0.76634079],\n",
       "        [0.76696341],\n",
       "        [0.52465226],\n",
       "        [0.52617394],\n",
       "        [0.26734642],\n",
       "        [0.19935837],\n",
       "        [0.36375564],\n",
       "        [0.31261435],\n",
       "        [0.70644904],\n",
       "        [0.93834282],\n",
       "        [0.61071676],\n",
       "        [0.57323787],\n",
       "        [0.96348548],\n",
       "        [0.56278892],\n",
       "        [0.25665727],\n",
       "        [0.36715912],\n",
       "        [0.22912542],\n",
       "        [0.55176912],\n",
       "        [0.27501887],\n",
       "        [0.25249929],\n",
       "        [0.23235266],\n",
       "        [0.10480913],\n",
       "        [0.14752637],\n",
       "        [0.56529017],\n",
       "        [0.44228722],\n",
       "        [0.12297177],\n",
       "        [0.23794315],\n",
       "        [0.16828049],\n",
       "        [0.45465653],\n",
       "        [0.34453327],\n",
       "        [0.17652347],\n",
       "        [0.21797124],\n",
       "        [0.85647546],\n",
       "        [0.65284153],\n",
       "        [0.80986128],\n",
       "        [0.46175717],\n",
       "        [0.97101749],\n",
       "        [0.42372366],\n",
       "        [0.28440772],\n",
       "        [0.90017735],\n",
       "        [0.32857927],\n",
       "        [0.90334344],\n",
       "        [0.8354454 ],\n",
       "        [0.8405275 ],\n",
       "        [0.86336245],\n",
       "        [0.87091393],\n",
       "        [0.92642877],\n",
       "        [0.38271523],\n",
       "        [0.16656217],\n",
       "        [0.82362933],\n",
       "        [0.72115289],\n",
       "        [0.78074887],\n",
       "        [0.11991827],\n",
       "        [0.23873847],\n",
       "        [0.18192041],\n",
       "        [0.8629754 ],\n",
       "        [0.07262039],\n",
       "        [0.47637407],\n",
       "        [0.2479925 ],\n",
       "        [0.22848546],\n",
       "        [0.64055745],\n",
       "        [0.87355743],\n",
       "        [0.49084553],\n",
       "        [0.29544262],\n",
       "        [0.04082211],\n",
       "        [0.50917283],\n",
       "        [0.57307851],\n",
       "        [0.82504717],\n",
       "        [0.52128732],\n",
       "        [0.44105556]]), array([[0.72647617],\n",
       "        [0.06646346],\n",
       "        [0.54571337],\n",
       "        [0.64938032],\n",
       "        [0.84205732],\n",
       "        [0.20295181],\n",
       "        [0.37568866],\n",
       "        [0.94094962],\n",
       "        [0.3465767 ],\n",
       "        [0.40478038],\n",
       "        [0.25877632],\n",
       "        [0.7684111 ],\n",
       "        [0.46115601],\n",
       "        [0.6966483 ],\n",
       "        [0.00255401],\n",
       "        [0.06636405],\n",
       "        [0.39042095],\n",
       "        [0.42886582],\n",
       "        [0.700849  ],\n",
       "        [0.19161429],\n",
       "        [0.78400762],\n",
       "        [0.11301107],\n",
       "        [0.87033499],\n",
       "        [0.64307076],\n",
       "        [0.99067925],\n",
       "        [0.38902242],\n",
       "        [0.44279318],\n",
       "        [0.01250863],\n",
       "        [0.10604159],\n",
       "        [0.31439635],\n",
       "        [0.82585231],\n",
       "        [0.67644881],\n",
       "        [0.05140299],\n",
       "        [0.90429971],\n",
       "        [0.66209964],\n",
       "        [0.8286439 ],\n",
       "        [0.87322385],\n",
       "        [0.93955047],\n",
       "        [0.00349652],\n",
       "        [0.10266181],\n",
       "        [0.32751295],\n",
       "        [0.75830118],\n",
       "        [0.67764574],\n",
       "        [0.74724777],\n",
       "        [0.99859719],\n",
       "        [0.7655582 ],\n",
       "        [0.47098791],\n",
       "        [0.14026167],\n",
       "        [0.3842857 ],\n",
       "        [0.22162175],\n",
       "        [0.78244358],\n",
       "        [0.18779613],\n",
       "        [0.11232596],\n",
       "        [0.66902334],\n",
       "        [0.45926307],\n",
       "        [0.43404939],\n",
       "        [0.20979911],\n",
       "        [0.20879533],\n",
       "        [0.56375659],\n",
       "        [0.93116398],\n",
       "        [0.51190523],\n",
       "        [0.06809913],\n",
       "        [0.35971169],\n",
       "        [0.72281142],\n",
       "        [0.06563356],\n",
       "        [0.04031005],\n",
       "        [0.02341847],\n",
       "        [0.83215483],\n",
       "        [0.4854592 ],\n",
       "        [0.14804185],\n",
       "        [0.11440237],\n",
       "        [0.0788451 ],\n",
       "        [0.92970818],\n",
       "        [0.39038838],\n",
       "        [0.10272196],\n",
       "        [0.4833437 ],\n",
       "        [0.25728295],\n",
       "        [0.98947979],\n",
       "        [0.85417242],\n",
       "        [0.84367521],\n",
       "        [0.30233669],\n",
       "        [0.90559763],\n",
       "        [0.53161112],\n",
       "        [0.33515957],\n",
       "        [0.68902175],\n",
       "        [0.25733424],\n",
       "        [0.9229057 ],\n",
       "        [0.6311221 ],\n",
       "        [0.3057674 ],\n",
       "        [0.4443358 ],\n",
       "        [0.95433027],\n",
       "        [0.69340346],\n",
       "        [0.31952472],\n",
       "        [0.52289508],\n",
       "        [0.81781464],\n",
       "        [0.99362933],\n",
       "        [0.53721944],\n",
       "        [0.24767897],\n",
       "        [0.28690484],\n",
       "        [0.66162731]]), array([[0.97548232],\n",
       "        [0.80052836],\n",
       "        [0.58854241],\n",
       "        [0.99401929],\n",
       "        [0.90677485],\n",
       "        [0.66041519],\n",
       "        [0.35071581],\n",
       "        [0.97963194],\n",
       "        [0.90752173],\n",
       "        [0.3252345 ],\n",
       "        [0.27961812],\n",
       "        [0.57816343],\n",
       "        [0.83699903],\n",
       "        [0.8117247 ],\n",
       "        [0.62347685],\n",
       "        [0.46637891],\n",
       "        [0.58784927],\n",
       "        [0.98403895],\n",
       "        [0.50539317],\n",
       "        [0.496013  ],\n",
       "        [0.81046852],\n",
       "        [0.8035994 ],\n",
       "        [0.61230731],\n",
       "        [0.94784891],\n",
       "        [0.25938958],\n",
       "        [0.25719323],\n",
       "        [0.76439786],\n",
       "        [0.89901563],\n",
       "        [0.99420562],\n",
       "        [0.95845311],\n",
       "        [0.31963099],\n",
       "        [0.50842381],\n",
       "        [0.06480059],\n",
       "        [0.91788439],\n",
       "        [0.58093488],\n",
       "        [0.14156815],\n",
       "        [0.16389554],\n",
       "        [0.39137639],\n",
       "        [0.21805292],\n",
       "        [0.30637281],\n",
       "        [0.35651642],\n",
       "        [0.73852999],\n",
       "        [0.09753151],\n",
       "        [0.19518827],\n",
       "        [0.73605893],\n",
       "        [0.06490794],\n",
       "        [0.70408481],\n",
       "        [0.42670995],\n",
       "        [0.73101964],\n",
       "        [0.08742938],\n",
       "        [0.24368351],\n",
       "        [0.18348613],\n",
       "        [0.7082361 ],\n",
       "        [0.0232726 ],\n",
       "        [0.06084152],\n",
       "        [0.59381826],\n",
       "        [0.61810997],\n",
       "        [0.98018934],\n",
       "        [0.35753004],\n",
       "        [0.67001596],\n",
       "        [0.67036068],\n",
       "        [0.38283846],\n",
       "        [0.05042084],\n",
       "        [0.17282951],\n",
       "        [0.06361969],\n",
       "        [0.82035513],\n",
       "        [0.63030781],\n",
       "        [0.55789264],\n",
       "        [0.79300652],\n",
       "        [0.33168205],\n",
       "        [0.09672445],\n",
       "        [0.72005173],\n",
       "        [0.4844244 ],\n",
       "        [0.0045078 ],\n",
       "        [0.72837096],\n",
       "        [0.36665872],\n",
       "        [0.85673952],\n",
       "        [0.78365084],\n",
       "        [0.20572276],\n",
       "        [0.23680434],\n",
       "        [0.8450869 ],\n",
       "        [0.50414776],\n",
       "        [0.55035853],\n",
       "        [0.40652862],\n",
       "        [0.23465037],\n",
       "        [0.0102228 ],\n",
       "        [0.90855815],\n",
       "        [0.35221106],\n",
       "        [0.36937253],\n",
       "        [0.97428267],\n",
       "        [0.22348607],\n",
       "        [0.01503791],\n",
       "        [0.1243784 ],\n",
       "        [0.72773475],\n",
       "        [0.04044901],\n",
       "        [0.62186538],\n",
       "        [0.77214887],\n",
       "        [0.04478529],\n",
       "        [0.74556436],\n",
       "        [0.07406436]]), array([[0.98683063],\n",
       "        [0.53403295],\n",
       "        [0.29333411],\n",
       "        [0.4224591 ],\n",
       "        [0.62583296],\n",
       "        [0.15677214],\n",
       "        [0.89610988],\n",
       "        [0.30418421],\n",
       "        [0.60108126],\n",
       "        [0.80616719],\n",
       "        [0.18896291],\n",
       "        [0.93446224],\n",
       "        [0.81060373],\n",
       "        [0.35239152],\n",
       "        [0.10979421],\n",
       "        [0.93348819],\n",
       "        [0.81812664],\n",
       "        [0.36434576],\n",
       "        [0.10447497],\n",
       "        [0.26824741],\n",
       "        [0.90508953],\n",
       "        [0.12112544],\n",
       "        [0.23688993],\n",
       "        [0.59974287],\n",
       "        [0.99745909],\n",
       "        [0.3940639 ],\n",
       "        [0.01345784],\n",
       "        [0.84589611],\n",
       "        [0.09898785],\n",
       "        [0.61302462],\n",
       "        [0.24709396],\n",
       "        [0.57956958],\n",
       "        [0.47853419],\n",
       "        [0.22576926],\n",
       "        [0.34999942],\n",
       "        [0.29751951],\n",
       "        [0.49287011],\n",
       "        [0.39982469],\n",
       "        [0.11671616],\n",
       "        [0.75091725],\n",
       "        [0.9717742 ],\n",
       "        [0.94557047],\n",
       "        [0.9014294 ],\n",
       "        [0.7388468 ],\n",
       "        [0.29261561],\n",
       "        [0.57559903],\n",
       "        [0.2195967 ],\n",
       "        [0.08974886],\n",
       "        [0.40720935],\n",
       "        [0.21653784],\n",
       "        [0.97697335],\n",
       "        [0.7037076 ],\n",
       "        [0.59690965],\n",
       "        [0.50641027],\n",
       "        [0.58039131],\n",
       "        [0.65877041],\n",
       "        [0.91842016],\n",
       "        [0.55811832],\n",
       "        [0.73899284],\n",
       "        [0.91917117],\n",
       "        [0.32230062],\n",
       "        [0.8930293 ],\n",
       "        [0.63361014],\n",
       "        [0.08773454],\n",
       "        [0.57470921],\n",
       "        [0.39643542],\n",
       "        [0.02933294],\n",
       "        [0.60093606],\n",
       "        [0.64109673],\n",
       "        [0.56620357],\n",
       "        [0.7725838 ],\n",
       "        [0.20803932],\n",
       "        [0.47974032],\n",
       "        [0.54154926],\n",
       "        [0.35346589],\n",
       "        [0.72791575],\n",
       "        [0.50600832],\n",
       "        [0.05369136],\n",
       "        [0.23405395],\n",
       "        [0.56565421],\n",
       "        [0.12409604],\n",
       "        [0.61966123],\n",
       "        [0.47142685],\n",
       "        [0.39479735],\n",
       "        [0.62906421],\n",
       "        [0.73736727],\n",
       "        [0.60896714],\n",
       "        [0.58053855],\n",
       "        [0.95437314],\n",
       "        [0.85267141],\n",
       "        [0.64381968],\n",
       "        [0.00805209],\n",
       "        [0.59693252],\n",
       "        [0.40940436],\n",
       "        [0.45920083],\n",
       "        [0.25288707],\n",
       "        [0.49233337],\n",
       "        [0.2293195 ],\n",
       "        [0.83205332],\n",
       "        [0.43398453]])]"
      ]
     },
     "execution_count": 148,
     "metadata": {},
     "output_type": "execute_result"
    }
   ],
   "source": [
    "numer_res"
   ]
  },
  {
   "cell_type": "code",
   "execution_count": 139,
   "metadata": {},
   "outputs": [
    {
     "data": {
      "text/plain": [
       "(100, 1)"
      ]
     },
     "execution_count": 139,
     "metadata": {},
     "output_type": "execute_result"
    }
   ],
   "source": [
    "numer_res[0].shape"
   ]
  },
  {
   "cell_type": "code",
   "execution_count": 157,
   "metadata": {},
   "outputs": [
    {
     "data": {
      "text/plain": [
       "(100, 4)"
      ]
     },
     "execution_count": 157,
     "metadata": {},
     "output_type": "execute_result"
    }
   ],
   "source": [
    "reformat = np.squeeze(np.atleast_2d(numer_res).T)\n",
    "reformat.shape"
   ]
  },
  {
   "cell_type": "code",
   "execution_count": 159,
   "metadata": {},
   "outputs": [],
   "source": [
    "x = reformat[:, [2]]"
   ]
  },
  {
   "cell_type": "code",
   "execution_count": 160,
   "metadata": {},
   "outputs": [
    {
     "data": {
      "text/plain": [
       "(100, 1)"
      ]
     },
     "execution_count": 160,
     "metadata": {},
     "output_type": "execute_result"
    }
   ],
   "source": [
    "x.shape"
   ]
  },
  {
   "cell_type": "code",
   "execution_count": null,
   "metadata": {
    "collapsed": true
   },
   "outputs": [],
   "source": []
  }
 ],
 "metadata": {
  "kernelspec": {
   "display_name": "Python [default]",
   "language": "python",
   "name": "python3"
  },
  "language_info": {
   "codemirror_mode": {
    "name": "ipython",
    "version": 3
   },
   "file_extension": ".py",
   "mimetype": "text/x-python",
   "name": "python",
   "nbconvert_exporter": "python",
   "pygments_lexer": "ipython3",
   "version": "3.6.1"
  },
  "toc": {
   "nav_menu": {},
   "number_sections": true,
   "sideBar": true,
   "skip_h1_title": true,
   "toc_cell": false,
   "toc_position": {},
   "toc_section_display": "block",
   "toc_window_display": false
  }
 },
 "nbformat": 4,
 "nbformat_minor": 2
}
