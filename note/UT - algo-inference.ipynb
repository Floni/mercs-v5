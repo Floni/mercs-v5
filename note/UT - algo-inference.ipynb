{
 "cells": [
  {
   "cell_type": "markdown",
   "metadata": {},
   "source": [
    "# Unittests - mercs/algo/inference"
   ]
  },
  {
   "cell_type": "markdown",
   "metadata": {},
   "source": [
    "## Imports"
   ]
  },
  {
   "cell_type": "code",
   "execution_count": 1,
   "metadata": {
    "collapsed": true
   },
   "outputs": [],
   "source": [
    "# Standard imports\n",
    "import os\n",
    "import sys\n",
    "from os.path import dirname\n",
    "\n",
    "\n",
    "# Custom imports\n",
    "root_directory = dirname(os.getcwd())\n",
    "for dname in {'src'}:\n",
    "    sys.path.insert(0, os.path.join(root_directory, dname))\n",
    "\n",
    "from mercs.algo.inference import *\n",
    "from mercs.utils.utils import encode_attribute\n",
    "\n",
    "import datasets as ds\n",
    "from sklearn.preprocessing import Imputer"
   ]
  },
  {
   "cell_type": "markdown",
   "metadata": {},
   "source": [
    "## Actual Tests"
   ]
  },
  {
   "cell_type": "markdown",
   "metadata": {},
   "source": [
    "### Perform Imputation"
   ]
  },
  {
   "cell_type": "code",
   "execution_count": 2,
   "metadata": {},
   "outputs": [
    {
     "name": "stdout",
     "output_type": "stream",
     "text": [
      "load_example_dataset is loading fname: /cw/dtailocal/Files/git/mercs-v5/resc/data/nursery_train.csv\n",
      "\n",
      "load_example_dataset is loading fname: /cw/dtailocal/Files/git/mercs-v5/resc/data/nursery_test.csv\n",
      "\n"
     ]
    }
   ],
   "source": [
    "train, test = ds.load_nursery()"
   ]
  },
  {
   "cell_type": "code",
   "execution_count": 3,
   "metadata": {
    "collapsed": true
   },
   "outputs": [],
   "source": [
    "query_code = [0,-1,-1,0,0,0,0,0,1]"
   ]
  },
  {
   "cell_type": "code",
   "execution_count": 4,
   "metadata": {},
   "outputs": [
    {
     "data": {
      "text/plain": [
       "Imputer(axis=0, copy=True, missing_values='NaN', strategy='most_frequent',\n",
       "    verbose=0)"
      ]
     },
     "execution_count": 4,
     "metadata": {},
     "output_type": "execute_result"
    }
   ],
   "source": [
    "imputator = Imputer(missing_values='NaN',\n",
    "                    strategy='most_frequent',\n",
    "                    axis=0)\n",
    "imputator.fit(train)"
   ]
  },
  {
   "cell_type": "code",
   "execution_count": 5,
   "metadata": {},
   "outputs": [],
   "source": [
    "obs = perform_imputation(train, query_code, imputator)"
   ]
  },
  {
   "cell_type": "code",
   "execution_count": 6,
   "metadata": {},
   "outputs": [
    {
     "data": {
      "text/plain": [
       "(11680, 9)"
      ]
     },
     "execution_count": 6,
     "metadata": {},
     "output_type": "execute_result"
    }
   ],
   "source": [
    "obs.shape"
   ]
  },
  {
   "cell_type": "code",
   "execution_count": 7,
   "metadata": {},
   "outputs": [
    {
     "data": {
      "text/plain": [
       "(11680, 9)"
      ]
     },
     "execution_count": 7,
     "metadata": {},
     "output_type": "execute_result"
    }
   ],
   "source": [
    "train.shape"
   ]
  },
  {
   "cell_type": "code",
   "execution_count": 8,
   "metadata": {
    "collapsed": true
   },
   "outputs": [],
   "source": [
    "assert train.shape == obs.shape"
   ]
  },
  {
   "cell_type": "code",
   "execution_count": 9,
   "metadata": {},
   "outputs": [
    {
     "data": {
      "text/plain": [
       "array([False, False, False, False, False, False, False, False,  True])"
      ]
     },
     "execution_count": 9,
     "metadata": {},
     "output_type": "execute_result"
    }
   ],
   "source": [
    "np.array(query_code)==1"
   ]
  },
  {
   "cell_type": "code",
   "execution_count": 10,
   "metadata": {},
   "outputs": [
    {
     "data": {
      "text/plain": [
       "array([[2., 4., 1., ..., 0., 2., 2.],\n",
       "       [2., 4., 1., ..., 0., 1., 1.],\n",
       "       [2., 4., 1., ..., 0., 0., 0.],\n",
       "       ...,\n",
       "       [0., 4., 1., ..., 1., 2., 3.],\n",
       "       [0., 4., 1., ..., 1., 1., 3.],\n",
       "       [0., 4., 1., ..., 1., 0., 0.]])"
      ]
     },
     "execution_count": 10,
     "metadata": {},
     "output_type": "execute_result"
    }
   ],
   "source": [
    "obs"
   ]
  },
  {
   "cell_type": "code",
   "execution_count": 11,
   "metadata": {
    "collapsed": true
   },
   "outputs": [],
   "source": [
    "missing_attribute_encoding = encode_attribute(0, [1], [2])"
   ]
  },
  {
   "cell_type": "code",
   "execution_count": 12,
   "metadata": {},
   "outputs": [
    {
     "data": {
      "text/plain": [
       "array([False,  True,  True, False, False, False, False, False, False])"
      ]
     },
     "execution_count": 12,
     "metadata": {},
     "output_type": "execute_result"
    }
   ],
   "source": [
    "boolean_missing = np.array(query_code)== missing_attribute_encoding\n",
    "boolean_missing"
   ]
  },
  {
   "cell_type": "code",
   "execution_count": 13,
   "metadata": {},
   "outputs": [
    {
     "data": {
      "text/plain": [
       "2"
      ]
     },
     "execution_count": 13,
     "metadata": {},
     "output_type": "execute_result"
    }
   ],
   "source": [
    "missing_count = np.sum(boolean_missing)\n",
    "missing_count"
   ]
  },
  {
   "cell_type": "code",
   "execution_count": 14,
   "metadata": {},
   "outputs": [],
   "source": [
    "for x in obs[:,boolean_missing].T:\n",
    "    assert len(np.unique(x)) == 1"
   ]
  },
  {
   "cell_type": "code",
   "execution_count": 15,
   "metadata": {},
   "outputs": [
    {
     "data": {
      "text/plain": [
       "True"
      ]
     },
     "execution_count": 15,
     "metadata": {},
     "output_type": "execute_result"
    }
   ],
   "source": [
    "len(np.unique(obs[:,np.array(query_code)==-1])) <= missing_count"
   ]
  },
  {
   "cell_type": "code",
   "execution_count": 16,
   "metadata": {},
   "outputs": [
    {
     "data": {
      "text/plain": [
       "array([1., 4.])"
      ]
     },
     "execution_count": 16,
     "metadata": {},
     "output_type": "execute_result"
    }
   ],
   "source": [
    "np.unique(obs[:,np.array(query_code)==-1])"
   ]
  },
  {
   "cell_type": "code",
   "execution_count": 17,
   "metadata": {
    "collapsed": true
   },
   "outputs": [],
   "source": [
    "def test_perform_imputation():\n",
    "    # Prelims\n",
    "    train, test = ds.load_nursery()\n",
    "    query_code = [0,-1,-1,-1,-1,-1,0,0,1]\n",
    "    \n",
    "    imputator = Imputer(missing_values='NaN',\n",
    "                    strategy='most_frequent',\n",
    "                    axis=0)\n",
    "    imputator.fit(train)\n",
    "    \n",
    "    # Actual test\n",
    "    obs = perform_imputation(test, query_code, imputator)\n",
    "    \n",
    "    assert test.shape == obs.shape\n",
    "    assert isinstance(obs, np.ndarray)\n",
    "    \n",
    "    boolean_missing = missing_attribute_encoding\n",
    "    \n",
    "    for row in obs[:,boolean_missing].T:\n",
    "        assert len(np.unique(x)) == 1"
   ]
  },
  {
   "cell_type": "markdown",
   "metadata": {},
   "source": [
    "### Init_predictions"
   ]
  },
  {
   "cell_type": "code",
   "execution_count": 18,
   "metadata": {},
   "outputs": [],
   "source": [
    "obs = init_predictions(10, 5, type=np.float64)"
   ]
  },
  {
   "cell_type": "code",
   "execution_count": 19,
   "metadata": {},
   "outputs": [
    {
     "data": {
      "text/plain": [
       "(10, 5)"
      ]
     },
     "execution_count": 19,
     "metadata": {},
     "output_type": "execute_result"
    }
   ],
   "source": [
    "obs.shape"
   ]
  },
  {
   "cell_type": "code",
   "execution_count": 21,
   "metadata": {},
   "outputs": [
    {
     "data": {
      "text/plain": [
       "True"
      ]
     },
     "execution_count": 21,
     "metadata": {},
     "output_type": "execute_result"
    }
   ],
   "source": [
    "obs.dtype == np.float64"
   ]
  },
  {
   "cell_type": "code",
   "execution_count": 22,
   "metadata": {},
   "outputs": [],
   "source": [
    "assert isinstance(obs[0,0], np.float64)"
   ]
  },
  {
   "cell_type": "code",
   "execution_count": null,
   "metadata": {
    "collapsed": true
   },
   "outputs": [],
   "source": [
    "act_att_idx = [4,5,6]"
   ]
  },
  {
   "cell_type": "code",
   "execution_count": null,
   "metadata": {},
   "outputs": [],
   "source": [
    "np.max(act_att_idx)"
   ]
  },
  {
   "cell_type": "code",
   "execution_count": null,
   "metadata": {},
   "outputs": [],
   "source": [
    "obs.shape[1]"
   ]
  },
  {
   "cell_type": "markdown",
   "metadata": {},
   "source": [
    "### Update_X"
   ]
  },
  {
   "cell_type": "code",
   "execution_count": 30,
   "metadata": {
    "scrolled": true
   },
   "outputs": [],
   "source": [
    "X = np.zeros((100, 4), dtype=np.float64)\n",
    "Y = np.random.rand(100,2)\n",
    "act_att_idx = [1,2]"
   ]
  },
  {
   "cell_type": "code",
   "execution_count": 31,
   "metadata": {
    "scrolled": true
   },
   "outputs": [
    {
     "data": {
      "text/plain": [
       "array([[0.00000000e+00, 6.05718611e-01, 7.88301472e-01, 0.00000000e+00],\n",
       "       [0.00000000e+00, 3.10960914e-01, 1.49315912e-01, 0.00000000e+00],\n",
       "       [0.00000000e+00, 2.18049073e-01, 3.40194977e-01, 0.00000000e+00],\n",
       "       [0.00000000e+00, 7.56018419e-01, 6.64330171e-02, 0.00000000e+00],\n",
       "       [0.00000000e+00, 5.30758250e-01, 9.97458888e-01, 0.00000000e+00],\n",
       "       [0.00000000e+00, 2.37794678e-01, 5.80214702e-01, 0.00000000e+00],\n",
       "       [0.00000000e+00, 3.12743298e-01, 7.87082174e-01, 0.00000000e+00],\n",
       "       [0.00000000e+00, 8.08604461e-01, 4.60060939e-01, 0.00000000e+00],\n",
       "       [0.00000000e+00, 2.52478001e-01, 2.17323879e-01, 0.00000000e+00],\n",
       "       [0.00000000e+00, 4.70062894e-01, 7.28507809e-01, 0.00000000e+00],\n",
       "       [0.00000000e+00, 9.75526060e-01, 2.92934149e-01, 0.00000000e+00],\n",
       "       [0.00000000e+00, 6.27731269e-01, 1.36658308e-01, 0.00000000e+00],\n",
       "       [0.00000000e+00, 4.31176502e-01, 9.58404287e-01, 0.00000000e+00],\n",
       "       [0.00000000e+00, 6.65809647e-01, 9.55138851e-02, 0.00000000e+00],\n",
       "       [0.00000000e+00, 5.26801000e-01, 4.93942965e-01, 0.00000000e+00],\n",
       "       [0.00000000e+00, 9.12833950e-01, 1.30026613e-01, 0.00000000e+00],\n",
       "       [0.00000000e+00, 5.93539198e-01, 5.78870997e-01, 0.00000000e+00],\n",
       "       [0.00000000e+00, 5.73070275e-01, 6.86832222e-01, 0.00000000e+00],\n",
       "       [0.00000000e+00, 5.51818443e-01, 3.63651575e-01, 0.00000000e+00],\n",
       "       [0.00000000e+00, 2.24374061e-01, 9.27502578e-01, 0.00000000e+00],\n",
       "       [0.00000000e+00, 7.04580962e-02, 4.62517546e-01, 0.00000000e+00],\n",
       "       [0.00000000e+00, 2.36061509e-01, 1.09154850e-01, 0.00000000e+00],\n",
       "       [0.00000000e+00, 3.68594501e-01, 5.38549301e-01, 0.00000000e+00],\n",
       "       [0.00000000e+00, 3.00001831e-01, 4.45673550e-01, 0.00000000e+00],\n",
       "       [0.00000000e+00, 3.39760463e-01, 7.09520977e-01, 0.00000000e+00],\n",
       "       [0.00000000e+00, 8.98695301e-01, 8.59236685e-01, 0.00000000e+00],\n",
       "       [0.00000000e+00, 2.36060718e-01, 2.21735252e-01, 0.00000000e+00],\n",
       "       [0.00000000e+00, 4.26437831e-01, 2.59759287e-01, 0.00000000e+00],\n",
       "       [0.00000000e+00, 5.17136529e-01, 3.15565668e-01, 0.00000000e+00],\n",
       "       [0.00000000e+00, 5.58168052e-01, 2.61340651e-01, 0.00000000e+00],\n",
       "       [0.00000000e+00, 1.89690453e-01, 4.83776457e-01, 0.00000000e+00],\n",
       "       [0.00000000e+00, 4.15804449e-02, 1.45710366e-01, 0.00000000e+00],\n",
       "       [0.00000000e+00, 8.59944508e-01, 9.68100958e-01, 0.00000000e+00],\n",
       "       [0.00000000e+00, 3.28172959e-01, 5.82472911e-01, 0.00000000e+00],\n",
       "       [0.00000000e+00, 7.58836005e-01, 1.88495557e-01, 0.00000000e+00],\n",
       "       [0.00000000e+00, 5.51080113e-01, 3.70379500e-01, 0.00000000e+00],\n",
       "       [0.00000000e+00, 9.68549855e-01, 2.35713015e-01, 0.00000000e+00],\n",
       "       [0.00000000e+00, 5.77381956e-01, 6.54992910e-01, 0.00000000e+00],\n",
       "       [0.00000000e+00, 7.65519220e-01, 8.16496147e-01, 0.00000000e+00],\n",
       "       [0.00000000e+00, 1.77956860e-01, 6.49910190e-01, 0.00000000e+00],\n",
       "       [0.00000000e+00, 1.99566613e-01, 8.91923534e-01, 0.00000000e+00],\n",
       "       [0.00000000e+00, 3.59903806e-01, 6.51397761e-01, 0.00000000e+00],\n",
       "       [0.00000000e+00, 4.83712611e-01, 2.63201926e-01, 0.00000000e+00],\n",
       "       [0.00000000e+00, 3.33137324e-01, 7.43800093e-02, 0.00000000e+00],\n",
       "       [0.00000000e+00, 3.35599828e-01, 4.51074441e-02, 0.00000000e+00],\n",
       "       [0.00000000e+00, 4.30164386e-01, 1.04669715e-01, 0.00000000e+00],\n",
       "       [0.00000000e+00, 3.09013971e-02, 8.43861371e-01, 0.00000000e+00],\n",
       "       [0.00000000e+00, 8.15197126e-01, 9.58959959e-01, 0.00000000e+00],\n",
       "       [0.00000000e+00, 2.94101928e-01, 2.32840704e-02, 0.00000000e+00],\n",
       "       [0.00000000e+00, 7.43840969e-02, 8.10317222e-01, 0.00000000e+00],\n",
       "       [0.00000000e+00, 1.80694334e-01, 8.59019118e-02, 0.00000000e+00],\n",
       "       [0.00000000e+00, 5.57075330e-01, 6.04227816e-01, 0.00000000e+00],\n",
       "       [0.00000000e+00, 9.24805721e-01, 6.52819985e-01, 0.00000000e+00],\n",
       "       [0.00000000e+00, 3.20392409e-01, 9.63118657e-01, 0.00000000e+00],\n",
       "       [0.00000000e+00, 2.55581060e-01, 5.73160939e-01, 0.00000000e+00],\n",
       "       [0.00000000e+00, 2.30192101e-01, 7.02294955e-01, 0.00000000e+00],\n",
       "       [0.00000000e+00, 6.07216402e-01, 7.14742376e-02, 0.00000000e+00],\n",
       "       [0.00000000e+00, 8.68037247e-01, 9.67091103e-01, 0.00000000e+00],\n",
       "       [0.00000000e+00, 5.40538356e-01, 3.27472119e-04, 0.00000000e+00],\n",
       "       [0.00000000e+00, 1.29303927e-01, 6.67343649e-01, 0.00000000e+00],\n",
       "       [0.00000000e+00, 3.30434092e-01, 3.59709605e-01, 0.00000000e+00],\n",
       "       [0.00000000e+00, 7.72273039e-01, 5.15534549e-01, 0.00000000e+00],\n",
       "       [0.00000000e+00, 9.96514050e-01, 5.40120215e-02, 0.00000000e+00],\n",
       "       [0.00000000e+00, 3.87141341e-01, 2.40770173e-01, 0.00000000e+00],\n",
       "       [0.00000000e+00, 4.49829750e-01, 1.25574390e-01, 0.00000000e+00],\n",
       "       [0.00000000e+00, 1.56215628e-01, 2.60516718e-01, 0.00000000e+00],\n",
       "       [0.00000000e+00, 8.83440470e-01, 9.18719021e-01, 0.00000000e+00],\n",
       "       [0.00000000e+00, 5.10873315e-01, 9.93606127e-01, 0.00000000e+00],\n",
       "       [0.00000000e+00, 5.32515360e-01, 9.39466584e-02, 0.00000000e+00],\n",
       "       [0.00000000e+00, 3.80205464e-01, 9.43289558e-01, 0.00000000e+00],\n",
       "       [0.00000000e+00, 2.99250543e-01, 7.92214775e-01, 0.00000000e+00],\n",
       "       [0.00000000e+00, 6.41456235e-01, 7.15177932e-01, 0.00000000e+00],\n",
       "       [0.00000000e+00, 6.95574613e-01, 8.34735566e-01, 0.00000000e+00],\n",
       "       [0.00000000e+00, 6.62074706e-01, 1.88361635e-01, 0.00000000e+00],\n",
       "       [0.00000000e+00, 4.59958510e-01, 1.37796137e-01, 0.00000000e+00],\n",
       "       [0.00000000e+00, 5.67906702e-01, 1.30343000e-01, 0.00000000e+00],\n",
       "       [0.00000000e+00, 1.94840775e-01, 2.42352477e-01, 0.00000000e+00],\n",
       "       [0.00000000e+00, 2.14762879e-01, 8.23716350e-01, 0.00000000e+00],\n",
       "       [0.00000000e+00, 5.96564441e-01, 3.07698134e-01, 0.00000000e+00],\n",
       "       [0.00000000e+00, 9.48863566e-01, 2.79993034e-01, 0.00000000e+00],\n",
       "       [0.00000000e+00, 9.69566954e-01, 5.91439652e-01, 0.00000000e+00],\n",
       "       [0.00000000e+00, 3.87635043e-01, 9.85970459e-01, 0.00000000e+00],\n",
       "       [0.00000000e+00, 9.98967425e-01, 5.38849612e-01, 0.00000000e+00],\n",
       "       [0.00000000e+00, 2.89201090e-02, 2.31597756e-02, 0.00000000e+00],\n",
       "       [0.00000000e+00, 3.36588928e-01, 8.81014066e-02, 0.00000000e+00],\n",
       "       [0.00000000e+00, 3.27681963e-01, 5.89110999e-03, 0.00000000e+00],\n",
       "       [0.00000000e+00, 7.30052866e-01, 1.70241042e-01, 0.00000000e+00],\n",
       "       [0.00000000e+00, 2.93545953e-01, 3.45201838e-01, 0.00000000e+00],\n",
       "       [0.00000000e+00, 3.50457734e-01, 5.11613337e-01, 0.00000000e+00],\n",
       "       [0.00000000e+00, 6.22826711e-01, 5.13625444e-01, 0.00000000e+00],\n",
       "       [0.00000000e+00, 6.04071033e-01, 3.03362597e-01, 0.00000000e+00],\n",
       "       [0.00000000e+00, 3.68540623e-01, 4.19935038e-01, 0.00000000e+00],\n",
       "       [0.00000000e+00, 6.27721550e-01, 1.27550063e-01, 0.00000000e+00],\n",
       "       [0.00000000e+00, 5.01984317e-01, 2.81200361e-01, 0.00000000e+00],\n",
       "       [0.00000000e+00, 4.20654301e-01, 2.08720497e-01, 0.00000000e+00],\n",
       "       [0.00000000e+00, 5.86711223e-01, 5.39037701e-02, 0.00000000e+00],\n",
       "       [0.00000000e+00, 4.39794347e-01, 5.89299751e-01, 0.00000000e+00],\n",
       "       [0.00000000e+00, 8.40813085e-01, 8.64226465e-01, 0.00000000e+00],\n",
       "       [0.00000000e+00, 2.79476415e-01, 4.95333215e-01, 0.00000000e+00],\n",
       "       [0.00000000e+00, 5.19837859e-01, 8.39884066e-01, 0.00000000e+00]])"
      ]
     },
     "execution_count": 31,
     "metadata": {},
     "output_type": "execute_result"
    }
   ],
   "source": [
    "obs = update_X(X, Y, act_att_idx)\n",
    "obs"
   ]
  },
  {
   "cell_type": "code",
   "execution_count": 50,
   "metadata": {
    "collapsed": true
   },
   "outputs": [],
   "source": [
    "test_col_0 = obs[:,act_att_idx[0]] == Y.T[0]\n",
    "test_col_1 = obs[:,act_att_idx[1]] == Y.T[1]\n",
    "\n",
    "assert obs.shape == X.shape\n",
    "assert test_col_0.all()\n",
    "assert test_col_1.all()\n"
   ]
  },
  {
   "cell_type": "code",
   "execution_count": 49,
   "metadata": {},
   "outputs": [
    {
     "data": {
      "text/plain": [
       "True"
      ]
     },
     "execution_count": 49,
     "metadata": {},
     "output_type": "execute_result"
    }
   ],
   "source": [
    "test_col_0 = obs[:,act_att_idx[0]] == Y.T[0]\n",
    "test_col_1 = obs[:,act_att_idx[1]] == Y.T[1]\n",
    "test_col_1.all()"
   ]
  },
  {
   "cell_type": "code",
   "execution_count": 45,
   "metadata": {},
   "outputs": [
    {
     "data": {
      "text/plain": [
       "True"
      ]
     },
     "execution_count": 45,
     "metadata": {},
     "output_type": "execute_result"
    }
   ],
   "source": [
    "obs[:,act_att_idx[0]] == Y.T[0].all()"
   ]
  },
  {
   "cell_type": "code",
   "execution_count": 38,
   "metadata": {},
   "outputs": [
    {
     "data": {
      "text/plain": [
       "array([0.60571861, 0.31096091, 0.21804907, 0.75601842, 0.53075825,\n",
       "       0.23779468, 0.3127433 , 0.80860446, 0.252478  , 0.47006289,\n",
       "       0.97552606, 0.62773127, 0.4311765 , 0.66580965, 0.526801  ,\n",
       "       0.91283395, 0.5935392 , 0.57307027, 0.55181844, 0.22437406,\n",
       "       0.0704581 , 0.23606151, 0.3685945 , 0.30000183, 0.33976046,\n",
       "       0.8986953 , 0.23606072, 0.42643783, 0.51713653, 0.55816805,\n",
       "       0.18969045, 0.04158044, 0.85994451, 0.32817296, 0.75883601,\n",
       "       0.55108011, 0.96854986, 0.57738196, 0.76551922, 0.17795686,\n",
       "       0.19956661, 0.35990381, 0.48371261, 0.33313732, 0.33559983,\n",
       "       0.43016439, 0.0309014 , 0.81519713, 0.29410193, 0.0743841 ,\n",
       "       0.18069433, 0.55707533, 0.92480572, 0.32039241, 0.25558106,\n",
       "       0.2301921 , 0.6072164 , 0.86803725, 0.54053836, 0.12930393,\n",
       "       0.33043409, 0.77227304, 0.99651405, 0.38714134, 0.44982975,\n",
       "       0.15621563, 0.88344047, 0.51087332, 0.53251536, 0.38020546,\n",
       "       0.29925054, 0.64145624, 0.69557461, 0.66207471, 0.45995851,\n",
       "       0.5679067 , 0.19484078, 0.21476288, 0.59656444, 0.94886357,\n",
       "       0.96956695, 0.38763504, 0.99896742, 0.02892011, 0.33658893,\n",
       "       0.32768196, 0.73005287, 0.29354595, 0.35045773, 0.62282671,\n",
       "       0.60407103, 0.36854062, 0.62772155, 0.50198432, 0.4206543 ,\n",
       "       0.58671122, 0.43979435, 0.84081308, 0.27947642, 0.51983786])"
      ]
     },
     "execution_count": 38,
     "metadata": {},
     "output_type": "execute_result"
    }
   ],
   "source": []
  },
  {
   "cell_type": "code",
   "execution_count": 34,
   "metadata": {},
   "outputs": [
    {
     "ename": "TypeError",
     "evalue": "only integer scalar arrays can be converted to a scalar index",
     "output_type": "error",
     "traceback": [
      "\u001b[0;31m---------------------------------------------------------------------------\u001b[0m",
      "\u001b[0;31mTypeError\u001b[0m                                 Traceback (most recent call last)",
      "\u001b[0;32m<ipython-input-34-74a1ae46fb24>\u001b[0m in \u001b[0;36m<module>\u001b[0;34m()\u001b[0m\n\u001b[0;32m----> 1\u001b[0;31m \u001b[0;32massert\u001b[0m \u001b[0mobs\u001b[0m\u001b[0;34m[\u001b[0m\u001b[0;34m:\u001b[0m\u001b[0;34m,\u001b[0m\u001b[0mact_att_idx\u001b[0m\u001b[0;34m[\u001b[0m\u001b[0;36m0\u001b[0m\u001b[0;34m]\u001b[0m\u001b[0;34m]\u001b[0m\u001b[0;34m.\u001b[0m\u001b[0mall\u001b[0m\u001b[0;34m(\u001b[0m\u001b[0mY\u001b[0m\u001b[0;34m[\u001b[0m\u001b[0;34m:\u001b[0m\u001b[0;34m,\u001b[0m\u001b[0;36m0\u001b[0m\u001b[0;34m]\u001b[0m\u001b[0;34m)\u001b[0m\u001b[0;34m\u001b[0m\u001b[0m\n\u001b[0m",
      "\u001b[0;32m/home/elia/Software/anaconda3/lib/python3.6/site-packages/numpy/core/_methods.py\u001b[0m in \u001b[0;36m_all\u001b[0;34m(a, axis, dtype, out, keepdims)\u001b[0m\n\u001b[1;32m     39\u001b[0m \u001b[0;34m\u001b[0m\u001b[0m\n\u001b[1;32m     40\u001b[0m \u001b[0;32mdef\u001b[0m \u001b[0m_all\u001b[0m\u001b[0;34m(\u001b[0m\u001b[0ma\u001b[0m\u001b[0;34m,\u001b[0m \u001b[0maxis\u001b[0m\u001b[0;34m=\u001b[0m\u001b[0;32mNone\u001b[0m\u001b[0;34m,\u001b[0m \u001b[0mdtype\u001b[0m\u001b[0;34m=\u001b[0m\u001b[0;32mNone\u001b[0m\u001b[0;34m,\u001b[0m \u001b[0mout\u001b[0m\u001b[0;34m=\u001b[0m\u001b[0;32mNone\u001b[0m\u001b[0;34m,\u001b[0m \u001b[0mkeepdims\u001b[0m\u001b[0;34m=\u001b[0m\u001b[0;32mFalse\u001b[0m\u001b[0;34m)\u001b[0m\u001b[0;34m:\u001b[0m\u001b[0;34m\u001b[0m\u001b[0m\n\u001b[0;32m---> 41\u001b[0;31m     \u001b[0;32mreturn\u001b[0m \u001b[0mumr_all\u001b[0m\u001b[0;34m(\u001b[0m\u001b[0ma\u001b[0m\u001b[0;34m,\u001b[0m \u001b[0maxis\u001b[0m\u001b[0;34m,\u001b[0m \u001b[0mdtype\u001b[0m\u001b[0;34m,\u001b[0m \u001b[0mout\u001b[0m\u001b[0;34m,\u001b[0m \u001b[0mkeepdims\u001b[0m\u001b[0;34m)\u001b[0m\u001b[0;34m\u001b[0m\u001b[0m\n\u001b[0m\u001b[1;32m     42\u001b[0m \u001b[0;34m\u001b[0m\u001b[0m\n\u001b[1;32m     43\u001b[0m \u001b[0;32mdef\u001b[0m \u001b[0m_count_reduce_items\u001b[0m\u001b[0;34m(\u001b[0m\u001b[0marr\u001b[0m\u001b[0;34m,\u001b[0m \u001b[0maxis\u001b[0m\u001b[0;34m)\u001b[0m\u001b[0;34m:\u001b[0m\u001b[0;34m\u001b[0m\u001b[0m\n",
      "\u001b[0;31mTypeError\u001b[0m: only integer scalar arrays can be converted to a scalar index"
     ]
    }
   ],
   "source": [
    "assert "
   ]
  }
 ],
 "metadata": {
  "kernelspec": {
   "display_name": "Python [default]",
   "language": "python",
   "name": "python3"
  },
  "language_info": {
   "codemirror_mode": {
    "name": "ipython",
    "version": 3
   },
   "file_extension": ".py",
   "mimetype": "text/x-python",
   "name": "python",
   "nbconvert_exporter": "python",
   "pygments_lexer": "ipython3",
   "version": "3.6.1"
  },
  "toc": {
   "nav_menu": {},
   "number_sections": true,
   "sideBar": true,
   "skip_h1_title": true,
   "toc_cell": false,
   "toc_position": {},
   "toc_section_display": "block",
   "toc_window_display": false
  }
 },
 "nbformat": 4,
 "nbformat_minor": 2
}
