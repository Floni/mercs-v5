{
 "cells": [
  {
   "cell_type": "markdown",
   "metadata": {},
   "source": [
    "# Unittests - mercs/algo/inference"
   ]
  },
  {
   "cell_type": "markdown",
   "metadata": {
    "heading_collapsed": true
   },
   "source": [
    "## Imports"
   ]
  },
  {
   "cell_type": "code",
   "execution_count": 1,
   "metadata": {
    "hidden": true
   },
   "outputs": [
    {
     "name": "stderr",
     "output_type": "stream",
     "text": [
      "/home/elia/Software/anaconda3/lib/python3.6/site-packages/sklearn/ensemble/weight_boosting.py:29: DeprecationWarning: numpy.core.umath_tests is an internal NumPy module and should not be imported. It will be removed in a future NumPy release.\n",
      "  from numpy.core.umath_tests import inner1d\n"
     ]
    }
   ],
   "source": [
    "# Standard imports\n",
    "import os\n",
    "import sys\n",
    "from os.path import dirname\n",
    "\n",
    "\n",
    "# Custom imports\n",
    "root_directory = dirname(os.getcwd())\n",
    "for dname in {'src'}:\n",
    "    sys.path.insert(0, os.path.join(root_directory, dname))\n",
    "\n",
    "from mercs.algo.inference import *\n",
    "from mercs.utils.utils import encode_attribute\n",
    "\n",
    "import datasets as ds\n",
    "from sklearn.preprocessing import Imputer"
   ]
  },
  {
   "cell_type": "markdown",
   "metadata": {},
   "source": [
    "## Actual Tests"
   ]
  },
  {
   "cell_type": "markdown",
   "metadata": {
    "heading_collapsed": true
   },
   "source": [
    "### Perform Imputation"
   ]
  },
  {
   "cell_type": "code",
   "execution_count": 2,
   "metadata": {
    "hidden": true
   },
   "outputs": [
    {
     "name": "stdout",
     "output_type": "stream",
     "text": [
      "load_example_dataset is loading fname: /cw/dtailocal/Files/git/mercs-v5/resc/data/nursery_train.csv\n",
      "\n",
      "load_example_dataset is loading fname: /cw/dtailocal/Files/git/mercs-v5/resc/data/nursery_test.csv\n",
      "\n"
     ]
    }
   ],
   "source": [
    "train, test = ds.load_nursery()"
   ]
  },
  {
   "cell_type": "code",
   "execution_count": 3,
   "metadata": {
    "collapsed": true,
    "hidden": true
   },
   "outputs": [],
   "source": [
    "query_code = [0,-1,-1,0,0,0,0,0,1]"
   ]
  },
  {
   "cell_type": "code",
   "execution_count": 4,
   "metadata": {
    "hidden": true
   },
   "outputs": [
    {
     "data": {
      "text/plain": [
       "Imputer(axis=0, copy=True, missing_values='NaN', strategy='most_frequent',\n",
       "    verbose=0)"
      ]
     },
     "execution_count": 4,
     "metadata": {},
     "output_type": "execute_result"
    }
   ],
   "source": [
    "imputator = Imputer(missing_values='NaN',\n",
    "                    strategy='most_frequent',\n",
    "                    axis=0)\n",
    "imputator.fit(train)"
   ]
  },
  {
   "cell_type": "code",
   "execution_count": 5,
   "metadata": {
    "collapsed": true,
    "hidden": true
   },
   "outputs": [],
   "source": [
    "obs = perform_imputation(train, query_code, imputator)"
   ]
  },
  {
   "cell_type": "code",
   "execution_count": 6,
   "metadata": {
    "hidden": true
   },
   "outputs": [
    {
     "data": {
      "text/plain": [
       "(11680, 9)"
      ]
     },
     "execution_count": 6,
     "metadata": {},
     "output_type": "execute_result"
    }
   ],
   "source": [
    "obs.shape"
   ]
  },
  {
   "cell_type": "code",
   "execution_count": 7,
   "metadata": {
    "hidden": true
   },
   "outputs": [
    {
     "data": {
      "text/plain": [
       "(11680, 9)"
      ]
     },
     "execution_count": 7,
     "metadata": {},
     "output_type": "execute_result"
    }
   ],
   "source": [
    "train.shape"
   ]
  },
  {
   "cell_type": "code",
   "execution_count": 8,
   "metadata": {
    "collapsed": true,
    "hidden": true
   },
   "outputs": [],
   "source": [
    "assert train.shape == obs.shape"
   ]
  },
  {
   "cell_type": "code",
   "execution_count": 9,
   "metadata": {
    "hidden": true
   },
   "outputs": [
    {
     "data": {
      "text/plain": [
       "array([False, False, False, False, False, False, False, False,  True])"
      ]
     },
     "execution_count": 9,
     "metadata": {},
     "output_type": "execute_result"
    }
   ],
   "source": [
    "np.array(query_code)==1"
   ]
  },
  {
   "cell_type": "code",
   "execution_count": 10,
   "metadata": {
    "hidden": true
   },
   "outputs": [
    {
     "data": {
      "text/plain": [
       "array([[2., 4., 1., ..., 0., 2., 2.],\n",
       "       [2., 4., 1., ..., 0., 1., 1.],\n",
       "       [2., 4., 1., ..., 0., 0., 0.],\n",
       "       ...,\n",
       "       [0., 4., 1., ..., 1., 2., 3.],\n",
       "       [0., 4., 1., ..., 1., 1., 3.],\n",
       "       [0., 4., 1., ..., 1., 0., 0.]])"
      ]
     },
     "execution_count": 10,
     "metadata": {},
     "output_type": "execute_result"
    }
   ],
   "source": [
    "obs"
   ]
  },
  {
   "cell_type": "code",
   "execution_count": 11,
   "metadata": {
    "collapsed": true,
    "hidden": true
   },
   "outputs": [],
   "source": [
    "missing_attribute_encoding = encode_attribute(0, [1], [2])"
   ]
  },
  {
   "cell_type": "code",
   "execution_count": 12,
   "metadata": {
    "hidden": true
   },
   "outputs": [
    {
     "data": {
      "text/plain": [
       "array([False,  True,  True, False, False, False, False, False, False])"
      ]
     },
     "execution_count": 12,
     "metadata": {},
     "output_type": "execute_result"
    }
   ],
   "source": [
    "boolean_missing = np.array(query_code)== missing_attribute_encoding\n",
    "boolean_missing"
   ]
  },
  {
   "cell_type": "code",
   "execution_count": 13,
   "metadata": {
    "hidden": true
   },
   "outputs": [
    {
     "data": {
      "text/plain": [
       "2"
      ]
     },
     "execution_count": 13,
     "metadata": {},
     "output_type": "execute_result"
    }
   ],
   "source": [
    "missing_count = np.sum(boolean_missing)\n",
    "missing_count"
   ]
  },
  {
   "cell_type": "code",
   "execution_count": 14,
   "metadata": {
    "collapsed": true,
    "hidden": true
   },
   "outputs": [],
   "source": [
    "for x in obs[:,boolean_missing].T:\n",
    "    assert len(np.unique(x)) == 1"
   ]
  },
  {
   "cell_type": "code",
   "execution_count": 15,
   "metadata": {
    "hidden": true
   },
   "outputs": [
    {
     "data": {
      "text/plain": [
       "True"
      ]
     },
     "execution_count": 15,
     "metadata": {},
     "output_type": "execute_result"
    }
   ],
   "source": [
    "len(np.unique(obs[:,np.array(query_code)==-1])) <= missing_count"
   ]
  },
  {
   "cell_type": "code",
   "execution_count": 16,
   "metadata": {
    "hidden": true
   },
   "outputs": [
    {
     "data": {
      "text/plain": [
       "array([1., 4.])"
      ]
     },
     "execution_count": 16,
     "metadata": {},
     "output_type": "execute_result"
    }
   ],
   "source": [
    "np.unique(obs[:,np.array(query_code)==-1])"
   ]
  },
  {
   "cell_type": "code",
   "execution_count": 17,
   "metadata": {
    "collapsed": true,
    "hidden": true
   },
   "outputs": [],
   "source": [
    "def test_perform_imputation():\n",
    "    # Prelims\n",
    "    train, test = ds.load_nursery()\n",
    "    query_code = [0,-1,-1,-1,-1,-1,0,0,1]\n",
    "    \n",
    "    imputator = Imputer(missing_values='NaN',\n",
    "                    strategy='most_frequent',\n",
    "                    axis=0)\n",
    "    imputator.fit(train)\n",
    "    \n",
    "    # Actual test\n",
    "    obs = perform_imputation(test, query_code, imputator)\n",
    "    \n",
    "    assert test.shape == obs.shape\n",
    "    assert isinstance(obs, np.ndarray)\n",
    "    \n",
    "    boolean_missing = missing_attribute_encoding\n",
    "    \n",
    "    for row in obs[:,boolean_missing].T:\n",
    "        assert len(np.unique(x)) == 1"
   ]
  },
  {
   "cell_type": "markdown",
   "metadata": {
    "heading_collapsed": true
   },
   "source": [
    "### Init_predictions"
   ]
  },
  {
   "cell_type": "code",
   "execution_count": 18,
   "metadata": {
    "collapsed": true,
    "hidden": true
   },
   "outputs": [],
   "source": [
    "obs = init_predictions(10, 5, type=np.float64)"
   ]
  },
  {
   "cell_type": "code",
   "execution_count": 19,
   "metadata": {
    "hidden": true
   },
   "outputs": [
    {
     "data": {
      "text/plain": [
       "(10, 5)"
      ]
     },
     "execution_count": 19,
     "metadata": {},
     "output_type": "execute_result"
    }
   ],
   "source": [
    "obs.shape"
   ]
  },
  {
   "cell_type": "code",
   "execution_count": 20,
   "metadata": {
    "hidden": true
   },
   "outputs": [
    {
     "data": {
      "text/plain": [
       "True"
      ]
     },
     "execution_count": 20,
     "metadata": {},
     "output_type": "execute_result"
    }
   ],
   "source": [
    "obs.dtype == np.float64"
   ]
  },
  {
   "cell_type": "code",
   "execution_count": 21,
   "metadata": {
    "collapsed": true,
    "hidden": true
   },
   "outputs": [],
   "source": [
    "assert isinstance(obs[0,0], np.float64)"
   ]
  },
  {
   "cell_type": "code",
   "execution_count": 22,
   "metadata": {
    "collapsed": true,
    "hidden": true
   },
   "outputs": [],
   "source": [
    "act_att_idx = [4,5,6]"
   ]
  },
  {
   "cell_type": "code",
   "execution_count": 23,
   "metadata": {
    "hidden": true
   },
   "outputs": [
    {
     "data": {
      "text/plain": [
       "6"
      ]
     },
     "execution_count": 23,
     "metadata": {},
     "output_type": "execute_result"
    }
   ],
   "source": [
    "np.max(act_att_idx)"
   ]
  },
  {
   "cell_type": "code",
   "execution_count": 24,
   "metadata": {
    "hidden": true
   },
   "outputs": [
    {
     "data": {
      "text/plain": [
       "5"
      ]
     },
     "execution_count": 24,
     "metadata": {},
     "output_type": "execute_result"
    }
   ],
   "source": [
    "obs.shape[1]"
   ]
  },
  {
   "cell_type": "markdown",
   "metadata": {
    "heading_collapsed": true
   },
   "source": [
    "### Update_X"
   ]
  },
  {
   "cell_type": "code",
   "execution_count": 25,
   "metadata": {
    "collapsed": true,
    "hidden": true,
    "scrolled": true
   },
   "outputs": [],
   "source": [
    "X = np.zeros((100, 4), dtype=np.float64)\n",
    "Y = np.random.rand(100,2)\n",
    "act_att_idx = [1,2]"
   ]
  },
  {
   "cell_type": "code",
   "execution_count": 26,
   "metadata": {
    "hidden": true,
    "scrolled": true
   },
   "outputs": [
    {
     "data": {
      "text/plain": [
       "array([[0.        , 0.74065535, 0.10389852, 0.        ],\n",
       "       [0.        , 0.97966293, 0.84509483, 0.        ],\n",
       "       [0.        , 0.38775502, 0.22492773, 0.        ],\n",
       "       [0.        , 0.69416776, 0.12077078, 0.        ],\n",
       "       [0.        , 0.03069462, 0.67194367, 0.        ],\n",
       "       [0.        , 0.39686875, 0.24681048, 0.        ],\n",
       "       [0.        , 0.50689292, 0.65792995, 0.        ],\n",
       "       [0.        , 0.97053075, 0.09334438, 0.        ],\n",
       "       [0.        , 0.0629153 , 0.22118842, 0.        ],\n",
       "       [0.        , 0.2819322 , 0.72296691, 0.        ],\n",
       "       [0.        , 0.95484094, 0.0665382 , 0.        ],\n",
       "       [0.        , 0.0894555 , 0.13572269, 0.        ],\n",
       "       [0.        , 0.64514576, 0.04806034, 0.        ],\n",
       "       [0.        , 0.46015432, 0.44688079, 0.        ],\n",
       "       [0.        , 0.87551357, 0.99074728, 0.        ],\n",
       "       [0.        , 0.14627225, 0.9309965 , 0.        ],\n",
       "       [0.        , 0.06040654, 0.26502823, 0.        ],\n",
       "       [0.        , 0.03905386, 0.60144515, 0.        ],\n",
       "       [0.        , 0.73106274, 0.21789914, 0.        ],\n",
       "       [0.        , 0.72579955, 0.73564976, 0.        ],\n",
       "       [0.        , 0.77168611, 0.31362764, 0.        ],\n",
       "       [0.        , 0.47783833, 0.7921584 , 0.        ],\n",
       "       [0.        , 0.14659668, 0.02387234, 0.        ],\n",
       "       [0.        , 0.60760236, 0.93969005, 0.        ],\n",
       "       [0.        , 0.81939113, 0.17902158, 0.        ],\n",
       "       [0.        , 0.67947593, 0.5005209 , 0.        ],\n",
       "       [0.        , 0.09478346, 0.25115186, 0.        ],\n",
       "       [0.        , 0.28502462, 0.04750973, 0.        ],\n",
       "       [0.        , 0.17712331, 0.01887804, 0.        ],\n",
       "       [0.        , 0.59577155, 0.0575535 , 0.        ],\n",
       "       [0.        , 0.16672504, 0.10043899, 0.        ],\n",
       "       [0.        , 0.92386619, 0.7792507 , 0.        ],\n",
       "       [0.        , 0.31084351, 0.05225663, 0.        ],\n",
       "       [0.        , 0.66661789, 0.69226174, 0.        ],\n",
       "       [0.        , 0.8079807 , 0.98858122, 0.        ],\n",
       "       [0.        , 0.2976068 , 0.83323917, 0.        ],\n",
       "       [0.        , 0.08425332, 0.58459259, 0.        ],\n",
       "       [0.        , 0.97764543, 0.89258609, 0.        ],\n",
       "       [0.        , 0.30395475, 0.99171895, 0.        ],\n",
       "       [0.        , 0.30155692, 0.82957772, 0.        ],\n",
       "       [0.        , 0.02873078, 0.16814309, 0.        ],\n",
       "       [0.        , 0.67982924, 0.09874108, 0.        ],\n",
       "       [0.        , 0.38632695, 0.3953146 , 0.        ],\n",
       "       [0.        , 0.41134114, 0.47681979, 0.        ],\n",
       "       [0.        , 0.06231462, 0.26509562, 0.        ],\n",
       "       [0.        , 0.59291323, 0.72508058, 0.        ],\n",
       "       [0.        , 0.46838659, 0.76428283, 0.        ],\n",
       "       [0.        , 0.17788296, 0.01085192, 0.        ],\n",
       "       [0.        , 0.69195412, 0.43303461, 0.        ],\n",
       "       [0.        , 0.86638969, 0.04623588, 0.        ],\n",
       "       [0.        , 0.33629095, 0.774678  , 0.        ],\n",
       "       [0.        , 0.6925047 , 0.88668896, 0.        ],\n",
       "       [0.        , 0.22599455, 0.04280346, 0.        ],\n",
       "       [0.        , 0.20932427, 0.05970759, 0.        ],\n",
       "       [0.        , 0.1769149 , 0.8939338 , 0.        ],\n",
       "       [0.        , 0.56183547, 0.84980551, 0.        ],\n",
       "       [0.        , 0.67321466, 0.41632598, 0.        ],\n",
       "       [0.        , 0.18253665, 0.6544633 , 0.        ],\n",
       "       [0.        , 0.78645469, 0.79573367, 0.        ],\n",
       "       [0.        , 0.93371538, 0.09725889, 0.        ],\n",
       "       [0.        , 0.24182865, 0.50720165, 0.        ],\n",
       "       [0.        , 0.20156353, 0.92849057, 0.        ],\n",
       "       [0.        , 0.50724646, 0.16007827, 0.        ],\n",
       "       [0.        , 0.82100622, 0.28737971, 0.        ],\n",
       "       [0.        , 0.54575593, 0.54209841, 0.        ],\n",
       "       [0.        , 0.31065487, 0.63177669, 0.        ],\n",
       "       [0.        , 0.22280686, 0.02258762, 0.        ],\n",
       "       [0.        , 0.38701527, 0.18908349, 0.        ],\n",
       "       [0.        , 0.56066409, 0.6421611 , 0.        ],\n",
       "       [0.        , 0.34671325, 0.55144742, 0.        ],\n",
       "       [0.        , 0.13351818, 0.1061289 , 0.        ],\n",
       "       [0.        , 0.64644699, 0.30530207, 0.        ],\n",
       "       [0.        , 0.70713908, 0.27812633, 0.        ],\n",
       "       [0.        , 0.24530566, 0.31091564, 0.        ],\n",
       "       [0.        , 0.78316194, 0.00617112, 0.        ],\n",
       "       [0.        , 0.51892908, 0.81373537, 0.        ],\n",
       "       [0.        , 0.57371945, 0.48360855, 0.        ],\n",
       "       [0.        , 0.56871316, 0.1052614 , 0.        ],\n",
       "       [0.        , 0.73218876, 0.97745992, 0.        ],\n",
       "       [0.        , 0.21435141, 0.60079831, 0.        ],\n",
       "       [0.        , 0.5594573 , 0.33619963, 0.        ],\n",
       "       [0.        , 0.31128265, 0.70288956, 0.        ],\n",
       "       [0.        , 0.62243803, 0.81685487, 0.        ],\n",
       "       [0.        , 0.36174613, 0.86184762, 0.        ],\n",
       "       [0.        , 0.62825171, 0.98771845, 0.        ],\n",
       "       [0.        , 0.7550627 , 0.63475243, 0.        ],\n",
       "       [0.        , 0.94995426, 0.32708023, 0.        ],\n",
       "       [0.        , 0.31573926, 0.45978234, 0.        ],\n",
       "       [0.        , 0.31150873, 0.0443966 , 0.        ],\n",
       "       [0.        , 0.39939652, 0.47741395, 0.        ],\n",
       "       [0.        , 0.02895203, 0.58470872, 0.        ],\n",
       "       [0.        , 0.80116258, 0.07664595, 0.        ],\n",
       "       [0.        , 0.16951964, 0.24601267, 0.        ],\n",
       "       [0.        , 0.77098473, 0.88771913, 0.        ],\n",
       "       [0.        , 0.95008247, 0.92659434, 0.        ],\n",
       "       [0.        , 0.7041803 , 0.82903374, 0.        ],\n",
       "       [0.        , 0.3787765 , 0.22354017, 0.        ],\n",
       "       [0.        , 0.22464846, 0.09626299, 0.        ],\n",
       "       [0.        , 0.76394334, 0.05427393, 0.        ],\n",
       "       [0.        , 0.69822432, 0.18781767, 0.        ]])"
      ]
     },
     "execution_count": 26,
     "metadata": {},
     "output_type": "execute_result"
    }
   ],
   "source": [
    "obs = update_X(X, Y, act_att_idx)\n",
    "obs"
   ]
  },
  {
   "cell_type": "code",
   "execution_count": 27,
   "metadata": {
    "collapsed": true,
    "hidden": true
   },
   "outputs": [],
   "source": [
    "test_col_0 = obs[:,act_att_idx[0]] == Y.T[0]\n",
    "test_col_1 = obs[:,act_att_idx[1]] == Y.T[1]\n",
    "\n",
    "assert obs.shape == X.shape\n",
    "assert test_col_0.all()\n",
    "assert test_col_1.all()\n"
   ]
  },
  {
   "cell_type": "markdown",
   "metadata": {},
   "source": [
    "### predict_values_from_numer"
   ]
  },
  {
   "cell_type": "code",
   "execution_count": 28,
   "metadata": {
    "collapsed": true
   },
   "outputs": [],
   "source": [
    "nb_atts=4\n",
    "numer_res = [None]*nb_atts\n",
    "\n",
    "for i in range(nb_atts):\n",
    "    numer_res[i]=np.random.rand(100,1)\n",
    "    \n",
    "counts = np.random.randint(1,10, size=(nb_atts))\n",
    "\n",
    "obs = predict_values_from_numer(numer_res, counts)\n",
    "\n",
    "assert obs.shape[0] == numer_res[0].shape[0]\n",
    "assert obs.shape[1] == nb_atts\n",
    "assert isinstance(obs, np.ndarray)"
   ]
  },
  {
   "cell_type": "markdown",
   "metadata": {},
   "source": [
    "### predict_values_from_proba"
   ]
  },
  {
   "cell_type": "code",
   "execution_count": 29,
   "metadata": {
    "collapsed": true
   },
   "outputs": [],
   "source": [
    "nb_atts = 5\n",
    "nb_classes = 3\n",
    "nb_samples = 100\n",
    "proba_res = [None]*nb_atts\n",
    "lab_res = [None]*nb_atts\n",
    "\n",
    "for i in range(nb_atts):\n",
    "    proba_res[i]=np.random.rand(nb_samples, nb_classes)\n",
    "    \n",
    "for i in range(nb_atts):\n",
    "    lab_res[i]=np.random.choice(10, size=nb_classes, replace=False) "
   ]
  },
  {
   "cell_type": "code",
   "execution_count": 30,
   "metadata": {},
   "outputs": [
    {
     "data": {
      "text/plain": [
       "[array([7, 2, 9]),\n",
       " array([9, 2, 1]),\n",
       " array([4, 7, 6]),\n",
       " array([3, 4, 2]),\n",
       " array([9, 2, 5])]"
      ]
     },
     "execution_count": 30,
     "metadata": {},
     "output_type": "execute_result"
    }
   ],
   "source": [
    "lab_res"
   ]
  },
  {
   "cell_type": "code",
   "execution_count": 31,
   "metadata": {
    "collapsed": true
   },
   "outputs": [],
   "source": [
    "obs = predict_values_from_proba(proba_res, lab_res)\n",
    "\n",
    "assert obs.shape == (nb_samples, nb_atts)\n",
    "\n",
    "for a in range(nb_atts):\n",
    "    assert np.array_equal(np.unique(obs[:,a]),np.unique(lab_res[a]))"
   ]
  },
  {
   "cell_type": "markdown",
   "metadata": {},
   "source": [
    "### merge_numer"
   ]
  },
  {
   "cell_type": "code",
   "execution_count": 32,
   "metadata": {
    "collapsed": true
   },
   "outputs": [],
   "source": [
    "nb_samples = 100\n",
    "nb_targ_res = 6\n",
    "numer_res = [None]*nb_targ_res\n",
    "\n",
    "for i in range(nb_targ_res):\n",
    "    numer_res[i] = np.random.rand(nb_samples, 1)"
   ]
  },
  {
   "cell_type": "code",
   "execution_count": 33,
   "metadata": {
    "collapsed": true
   },
   "outputs": [],
   "source": [
    "# Multi-target sklearn output\n",
    "nb_targ_mod_a = 3\n",
    "numer_mod_a = np.random.rand(nb_samples, nb_targ_mod_a)\n",
    "\n",
    "# Single-target sklearn output\n",
    "nb_targ_mod_b = 1\n",
    "numer_mod_b = np.random.rand(nb_samples, nb_targ_mod_b) \n",
    "numer_mod_b = np.squeeze(numer_mod_b) \n",
    "\n",
    "# Our own output format\n",
    "nb_targ_mod_c = 2\n",
    "numer_mod_c = [None]*nb_targ_mod_c\n",
    "for i in range(nb_targ_mod_c):\n",
    "    numer_mod_c[i] = np.random.rand(100, 1)"
   ]
  },
  {
   "cell_type": "code",
   "execution_count": 34,
   "metadata": {
    "collapsed": true
   },
   "outputs": [],
   "source": [
    "t_idx_res = 2\n",
    "t_idx_mod = 0"
   ]
  },
  {
   "cell_type": "code",
   "execution_count": 35,
   "metadata": {},
   "outputs": [],
   "source": [
    "for numer_mod in [numer_mod_a, numer_mod_b, numer_mod_c]:\n",
    "    obs = merge_numer(numer_res, numer_mod, t_idx_res, t_idx_mod)\n",
    "    \n",
    "    assert isinstance(obs, list)\n",
    "    assert len(obs) == nb_targ_res"
   ]
  },
  {
   "cell_type": "markdown",
   "metadata": {},
   "source": [
    "### merge_proba"
   ]
  },
  {
   "cell_type": "code",
   "execution_count": 36,
   "metadata": {},
   "outputs": [],
   "source": [
    "nb_samples = 100\n",
    "nb_targ_res = 6\n",
    "nb_classes = 3\n",
    "proba_res = [None]*nb_targ_res\n",
    "lab_res = [None]*nb_targ_res\n",
    "\n",
    "for i in range(nb_targ_res):\n",
    "    proba_res[i] = np.random.rand(nb_samples, nb_classes)\n",
    "    \n",
    "for i in range(nb_targ_res):\n",
    "    lab_res[i]=np.random.choice(10, size=nb_classes, replace=False) "
   ]
  },
  {
   "cell_type": "code",
   "execution_count": 37,
   "metadata": {},
   "outputs": [
    {
     "data": {
      "text/plain": [
       "array([7, 0, 5])"
      ]
     },
     "execution_count": 37,
     "metadata": {},
     "output_type": "execute_result"
    }
   ],
   "source": [
    "lab_res[2]"
   ]
  },
  {
   "cell_type": "code",
   "execution_count": 38,
   "metadata": {},
   "outputs": [],
   "source": [
    "# list (our own output or multi-target sklearn)\n",
    "mutual_targets_a = [0,2,4]\n",
    "nb_targ_mod_a = 3\n",
    "assert len(mutual_targets_a) == nb_targ_mod_a\n",
    "\n",
    "nb_classes_mod_a = 2\n",
    "proba_mod_a = [None]*nb_targ_mod_a\n",
    "lab_mod_a = [None]*nb_targ_mod_a\n",
    "\n",
    "for i in range(nb_targ_mod_a):\n",
    "    proba_mod_a[i] = np.random.rand(nb_samples, nb_classes_mod_a)\n",
    "\n",
    "lab_mod_a = [lab_res[idx][0:nb_classes_mod_a] for idx in mutual_targets_a]"
   ]
  },
  {
   "cell_type": "code",
   "execution_count": 39,
   "metadata": {},
   "outputs": [
    {
     "data": {
      "text/plain": [
       "[array([2, 0, 6]),\n",
       " array([7, 3, 8]),\n",
       " array([7, 0, 5]),\n",
       " array([3, 7, 1]),\n",
       " array([3, 5, 2]),\n",
       " array([2, 1, 3])]"
      ]
     },
     "execution_count": 39,
     "metadata": {},
     "output_type": "execute_result"
    }
   ],
   "source": [
    "lab_res"
   ]
  },
  {
   "cell_type": "code",
   "execution_count": 40,
   "metadata": {},
   "outputs": [
    {
     "data": {
      "text/plain": [
       "[array([2, 0]), array([7, 0]), array([3, 5])]"
      ]
     },
     "execution_count": 40,
     "metadata": {},
     "output_type": "execute_result"
    }
   ],
   "source": [
    "lab_mod_a"
   ]
  },
  {
   "cell_type": "code",
   "execution_count": 41,
   "metadata": {},
   "outputs": [],
   "source": [
    "# np.ndarray (single-target sklearn)\n",
    "mutual_targets_b = [4]\n",
    "nb_targ_mod_b = 1\n",
    "assert len(mutual_targets_b) == nb_targ_mod_b\n",
    "\n",
    "nb_classes_mod_b = 2\n",
    "\n",
    "proba_mod_b = np.random.rand(nb_samples, nb_classes_mod_b)\n",
    "\n",
    "lab_mod_b = [lab_res[idx][-nb_classes_mod_b:] for idx in mutual_targets_b]"
   ]
  },
  {
   "cell_type": "code",
   "execution_count": 42,
   "metadata": {},
   "outputs": [
    {
     "data": {
      "text/plain": [
       "[array([5, 2])]"
      ]
     },
     "execution_count": 42,
     "metadata": {},
     "output_type": "execute_result"
    }
   ],
   "source": [
    "lab_mod_b"
   ]
  },
  {
   "cell_type": "code",
   "execution_count": 48,
   "metadata": {
    "scrolled": true
   },
   "outputs": [
    {
     "data": {
      "text/plain": [
       "array([[0.93851448, 0.64181947, 0.17731285],\n",
       "       [1.81341204, 0.51798434, 0.41828327],\n",
       "       [0.53609   , 1.52948709, 0.62482418],\n",
       "       [0.86260705, 0.74097469, 0.93238353],\n",
       "       [1.07154474, 1.3332534 , 0.449467  ],\n",
       "       [1.05084136, 1.20853829, 0.77735493],\n",
       "       [0.42967804, 0.46215878, 0.50575157],\n",
       "       [0.59074589, 1.79009754, 0.74696919],\n",
       "       [1.11813727, 0.32338991, 0.9421114 ],\n",
       "       [1.94640916, 1.51038603, 0.53561217],\n",
       "       [0.50839095, 1.41475447, 0.02442977],\n",
       "       [0.93037037, 0.93439186, 0.71430654],\n",
       "       [1.04903896, 1.320502  , 0.5644284 ],\n",
       "       [0.9967985 , 0.49347106, 0.29116058],\n",
       "       [0.89598674, 0.83628399, 0.60534455],\n",
       "       [1.30518613, 0.38575015, 0.79700773],\n",
       "       [0.72958338, 1.19893214, 0.33440094],\n",
       "       [1.14736499, 1.20136355, 0.61739676],\n",
       "       [1.46826376, 0.21837325, 0.36105468],\n",
       "       [0.72125009, 1.18997503, 0.4643777 ],\n",
       "       [0.66075215, 0.80808175, 0.93600208],\n",
       "       [0.91047429, 0.70409591, 0.07936861],\n",
       "       [1.04808785, 1.08704758, 0.36845551],\n",
       "       [0.56741212, 1.41597726, 0.48430295],\n",
       "       [1.46083516, 1.41998184, 0.50360135],\n",
       "       [0.72838835, 0.6856394 , 0.11465793],\n",
       "       [1.33656789, 1.13462538, 0.86256169],\n",
       "       [1.89324684, 1.55858523, 0.69038504],\n",
       "       [1.42624682, 0.78082672, 0.39910276],\n",
       "       [0.94112623, 1.17337783, 0.55220323],\n",
       "       [0.81137772, 1.14513207, 0.44307909],\n",
       "       [1.10919213, 0.87426643, 0.89761915],\n",
       "       [1.22087317, 1.38741135, 0.47502142],\n",
       "       [0.7627496 , 1.75561276, 0.17903374],\n",
       "       [1.83191649, 1.01146001, 0.0699949 ],\n",
       "       [1.28435686, 0.59853728, 0.2239772 ],\n",
       "       [1.54640407, 1.15020871, 0.15135874],\n",
       "       [1.89208878, 0.60892669, 0.09228053],\n",
       "       [1.04251402, 0.49553263, 0.7105639 ],\n",
       "       [0.7880229 , 1.16549645, 0.38914024],\n",
       "       [0.9733261 , 1.57029176, 0.81442758],\n",
       "       [0.43369749, 0.20256668, 0.59018042],\n",
       "       [0.80984616, 0.85536055, 0.6622685 ],\n",
       "       [0.82292589, 0.47523705, 0.93472849],\n",
       "       [0.67343057, 0.9911037 , 0.36114411],\n",
       "       [0.94472745, 0.94713665, 0.91987349],\n",
       "       [0.88751306, 1.14153668, 0.88661888],\n",
       "       [0.53576571, 1.21391526, 0.99735151],\n",
       "       [0.95538908, 0.99756186, 0.90837517],\n",
       "       [0.79261512, 0.68187101, 0.37462961],\n",
       "       [0.39520882, 1.62042824, 0.11255723],\n",
       "       [0.59476067, 0.36027293, 0.20538278],\n",
       "       [0.55370934, 0.23448054, 0.0056247 ],\n",
       "       [0.57121245, 0.79518457, 0.36610589],\n",
       "       [0.59814483, 0.80552419, 0.55264284],\n",
       "       [1.2430537 , 1.06585461, 0.40632235],\n",
       "       [0.58138554, 0.94531402, 0.94746695],\n",
       "       [0.5889824 , 0.2515095 , 0.58172825],\n",
       "       [0.97798467, 1.04865736, 0.30001994],\n",
       "       [0.17079019, 1.27998753, 0.26171959],\n",
       "       [1.22750752, 1.48003695, 0.53524107],\n",
       "       [1.61678441, 0.26537905, 0.79218229],\n",
       "       [0.10167358, 0.50163873, 0.16124228],\n",
       "       [1.53181263, 0.99927437, 0.894885  ],\n",
       "       [1.64213557, 1.40796082, 0.22236855],\n",
       "       [1.46856662, 0.7479694 , 0.01254119],\n",
       "       [1.47110782, 0.85218462, 0.14162727],\n",
       "       [0.73167602, 0.55437047, 0.53959155],\n",
       "       [1.66489974, 0.52287352, 0.63238061],\n",
       "       [0.82705959, 0.97918506, 0.9478347 ],\n",
       "       [0.65543941, 0.70323886, 0.06149892],\n",
       "       [1.24517039, 1.32675537, 0.2928329 ],\n",
       "       [1.30826585, 1.01340641, 0.26701902],\n",
       "       [1.166333  , 1.34556114, 0.46150162],\n",
       "       [1.09978128, 0.74620199, 0.20649293],\n",
       "       [0.94143119, 0.25627259, 0.37284438],\n",
       "       [0.25745477, 1.34714345, 0.81935469],\n",
       "       [0.89494053, 1.55402907, 0.74570254],\n",
       "       [1.01613741, 0.94556473, 0.18510744],\n",
       "       [0.79761776, 1.00760522, 0.55536972],\n",
       "       [1.23615253, 1.66135546, 0.23576042],\n",
       "       [0.81010736, 1.06029223, 0.50005545],\n",
       "       [1.02676304, 0.96725666, 0.23452761],\n",
       "       [1.06478785, 1.16697153, 0.44456355],\n",
       "       [0.66667174, 1.21821931, 0.4694528 ],\n",
       "       [0.90299668, 0.70610883, 0.73990043],\n",
       "       [1.05200864, 1.2856866 , 0.18565519],\n",
       "       [1.54233846, 1.0268718 , 0.51145102],\n",
       "       [0.48986853, 1.14661507, 0.14869475],\n",
       "       [1.40770229, 1.16095312, 0.66489793],\n",
       "       [0.72099104, 1.32884353, 0.19360092],\n",
       "       [0.71735216, 1.47890034, 0.43201485],\n",
       "       [1.25868329, 1.53238946, 0.74046109],\n",
       "       [1.35699345, 0.96662374, 0.13183982],\n",
       "       [1.12343606, 0.62445986, 0.41628001],\n",
       "       [0.90186547, 1.81119104, 0.91009637],\n",
       "       [1.74340014, 0.85903556, 0.70767659],\n",
       "       [0.28101287, 1.31067726, 0.64130538],\n",
       "       [1.24672245, 0.85220381, 0.99149997],\n",
       "       [0.72595782, 1.49713437, 0.97203651]])"
      ]
     },
     "execution_count": 48,
     "metadata": {},
     "output_type": "execute_result"
    }
   ],
   "source": [
    "proba_res[0]"
   ]
  },
  {
   "cell_type": "code",
   "execution_count": 44,
   "metadata": {
    "scrolled": true
   },
   "outputs": [
    {
     "data": {
      "text/plain": [
       "array([[0.01098234, 0.41361379],\n",
       "       [0.88676695, 0.02552948],\n",
       "       [0.51421082, 0.85077256],\n",
       "       [0.3472294 , 0.57519507],\n",
       "       [0.99159677, 0.40536494],\n",
       "       [0.37546948, 0.63445867],\n",
       "       [0.38783987, 0.46032035],\n",
       "       [0.05746638, 0.95459376],\n",
       "       [0.40401123, 0.04961554],\n",
       "       [0.9530196 , 0.6299169 ],\n",
       "       [0.13160144, 0.73449018],\n",
       "       [0.36117616, 0.70098249],\n",
       "       [0.42485567, 0.70853248],\n",
       "       [0.12608448, 0.32585432],\n",
       "       [0.28133918, 0.03864884],\n",
       "       [0.80066515, 0.12941358],\n",
       "       [0.28759482, 0.37909461],\n",
       "       [0.56587943, 0.32947324],\n",
       "       [0.50071569, 0.18944879],\n",
       "       [0.31227447, 0.22177257],\n",
       "       [0.63236039, 0.22170186],\n",
       "       [0.28694635, 0.03469799],\n",
       "       [0.42774277, 0.3323028 ],\n",
       "       [0.37765727, 0.79346203],\n",
       "       [0.54355188, 0.90213794],\n",
       "       [0.09908222, 0.55207693],\n",
       "       [0.77358196, 0.14559181],\n",
       "       [0.9573476 , 0.69331137],\n",
       "       [0.84654035, 0.64367139],\n",
       "       [0.25306192, 0.44426332],\n",
       "       [0.09948143, 0.21073809],\n",
       "       [0.47605607, 0.1982825 ],\n",
       "       [0.96312886, 0.51513913],\n",
       "       [0.12797312, 0.77570542],\n",
       "       [0.86842266, 0.6852494 ],\n",
       "       [0.82328886, 0.54402537],\n",
       "       [0.77565675, 0.55205083],\n",
       "       [0.92415359, 0.11222079],\n",
       "       [0.32944624, 0.49441981],\n",
       "       [0.28486088, 0.51322347],\n",
       "       [0.77701521, 0.87799332],\n",
       "       [0.17366803, 0.19892826],\n",
       "       [0.5922238 , 0.382465  ],\n",
       "       [0.73404827, 0.28910173],\n",
       "       [0.05524646, 0.1610219 ],\n",
       "       [0.5047044 , 0.79829413],\n",
       "       [0.32587863, 0.28534299],\n",
       "       [0.37874742, 0.97181418],\n",
       "       [0.32699576, 0.76184367],\n",
       "       [0.10354689, 0.4513112 ],\n",
       "       [0.05329445, 0.65197011],\n",
       "       [0.54377987, 0.26603366],\n",
       "       [0.08210941, 0.03256969],\n",
       "       [0.33718893, 0.22942964],\n",
       "       [0.07871681, 0.58608257],\n",
       "       [0.4317376 , 0.99875796],\n",
       "       [0.4781298 , 0.2135473 ],\n",
       "       [0.50192305, 0.10885183],\n",
       "       [0.0957356 , 0.82225233],\n",
       "       [0.06147239, 0.34680316],\n",
       "       [0.71238304, 0.94170116],\n",
       "       [0.86027718, 0.19048906],\n",
       "       [0.07776085, 0.27007833],\n",
       "       [0.89364666, 0.47642367],\n",
       "       [0.88713879, 0.64198793],\n",
       "       [0.50060415, 0.47025935],\n",
       "       [0.81685546, 0.40044944],\n",
       "       [0.66721608, 0.24850004],\n",
       "       [0.75990521, 0.43804158],\n",
       "       [0.62389914, 0.01909239],\n",
       "       [0.4633559 , 0.04068204],\n",
       "       [0.68666108, 0.78397961],\n",
       "       [0.75484331, 0.74092125],\n",
       "       [0.6553711 , 0.60336851],\n",
       "       [0.37986241, 0.10732614],\n",
       "       [0.7461644 , 0.24165803],\n",
       "       [0.19148054, 0.8716836 ],\n",
       "       [0.58990655, 0.86510345],\n",
       "       [0.16763798, 0.21318863],\n",
       "       [0.64821322, 0.81582482],\n",
       "       [0.42765723, 0.87023173],\n",
       "       [0.66765388, 0.11923176],\n",
       "       [0.06859102, 0.10354516],\n",
       "       [0.08927251, 0.6349735 ],\n",
       "       [0.55217325, 0.46473046],\n",
       "       [0.7364644 , 0.54705996],\n",
       "       [0.64365416, 0.74204119],\n",
       "       [0.8038238 , 0.17987094],\n",
       "       [0.04029385, 0.593414  ],\n",
       "       [0.56327222, 0.79129759],\n",
       "       [0.70491114, 0.51997301],\n",
       "       [0.37381682, 0.58057056],\n",
       "       [0.55239124, 0.96533349],\n",
       "       [0.81141671, 0.12449643],\n",
       "       [0.28807792, 0.33389981],\n",
       "       [0.06325422, 0.94955939],\n",
       "       [0.78889713, 0.10859412],\n",
       "       [0.14163685, 0.44585522],\n",
       "       [0.64307257, 0.5379628 ],\n",
       "       [0.4910018 , 0.55685244]])"
      ]
     },
     "execution_count": 44,
     "metadata": {},
     "output_type": "execute_result"
    }
   ],
   "source": [
    "proba_mod_a[0]"
   ]
  },
  {
   "cell_type": "code",
   "execution_count": 45,
   "metadata": {},
   "outputs": [
    {
     "name": "stdout",
     "output_type": "stream",
     "text": [
      "0\n"
     ]
    }
   ],
   "source": [
    "t_idx_mod = 0\n",
    "t_idx_res = mutual_targets_a[t_idx_mod]\n",
    "print(t_idx_res)\n",
    "obs = merge_proba(proba_res, proba_mod_a, lab_res, lab_mod_a, t_idx_res, t_idx_mod)\n",
    "\n",
    "\n",
    "for x in obs:\n",
    "    assert isinstance(x,np.ndarray)\n",
    "    assert x.shape == (nb_samples, nb_classes)"
   ]
  },
  {
   "cell_type": "code",
   "execution_count": 52,
   "metadata": {},
   "outputs": [
    {
     "name": "stdout",
     "output_type": "stream",
     "text": [
      "4\n"
     ]
    }
   ],
   "source": [
    "t_idx_mod = 0\n",
    "t_idx_res = mutual_targets_b[t_idx_mod]\n",
    "print(t_idx_res)\n",
    "obs = merge_proba(proba_res, proba_mod_b, lab_res, lab_mod_b, t_idx_res, t_idx_mod)\n",
    "\n",
    "\n",
    "for x in obs:\n",
    "    assert isinstance(x,np.ndarray)\n",
    "    assert x.shape == (nb_samples, nb_classes)"
   ]
  }
 ],
 "metadata": {
  "kernelspec": {
   "display_name": "Python [default]",
   "language": "python",
   "name": "python3"
  },
  "language_info": {
   "codemirror_mode": {
    "name": "ipython",
    "version": 3
   },
   "file_extension": ".py",
   "mimetype": "text/x-python",
   "name": "python",
   "nbconvert_exporter": "python",
   "pygments_lexer": "ipython3",
   "version": "3.6.1"
  },
  "toc": {
   "nav_menu": {},
   "number_sections": true,
   "sideBar": true,
   "skip_h1_title": true,
   "toc_cell": false,
   "toc_position": {},
   "toc_section_display": "block",
   "toc_window_display": true
  }
 },
 "nbformat": 4,
 "nbformat_minor": 2
}
