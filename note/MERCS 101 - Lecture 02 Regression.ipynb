{
 "cells": [
  {
   "cell_type": "markdown",
   "metadata": {},
   "source": [
    "# MERCS 101 - Lecture 02: Regression\n",
    "\n",
    "This is the first part of the tutorial, focusing on MERCS as a simple classifier."
   ]
  },
  {
   "cell_type": "markdown",
   "metadata": {},
   "source": [
    "## Preliminaries"
   ]
  },
  {
   "cell_type": "markdown",
   "metadata": {},
   "source": [
    "### External Imports"
   ]
  },
  {
   "cell_type": "code",
   "execution_count": 1,
   "metadata": {},
   "outputs": [],
   "source": [
    "import numpy as np\n",
    "import os\n",
    "import sys\n",
    "from sklearn.metrics import (mean_absolute_error,\n",
    "                             mean_squared_error,\n",
    "                             mean_squared_log_error)\n",
    "import pandas as pd"
   ]
  },
  {
   "cell_type": "markdown",
   "metadata": {
    "heading_collapsed": true
   },
   "source": [
    "### MERCS imports"
   ]
  },
  {
   "cell_type": "code",
   "execution_count": 2,
   "metadata": {
    "hidden": true
   },
   "outputs": [],
   "source": [
    "sys.path.insert(0, '..') # We add the parent dir to the path\n",
    "from src.mercs.core import MERCS\n",
    "from src.mercs.utils import *\n",
    "\n",
    "import src.datasets as datasets"
   ]
  },
  {
   "cell_type": "markdown",
   "metadata": {},
   "source": [
    "## Induction"
   ]
  },
  {
   "cell_type": "markdown",
   "metadata": {},
   "source": [
    "### Importing Data"
   ]
  },
  {
   "cell_type": "markdown",
   "metadata": {},
   "source": [
    "First, we import the nursery dataset."
   ]
  },
  {
   "cell_type": "code",
   "execution_count": 3,
   "metadata": {},
   "outputs": [
    {
     "name": "stdout",
     "output_type": "stream",
     "text": [
      "load_example_dataset is loading fname: ../resc/data/slump_train.csv\n",
      "\n",
      "load_example_dataset is loading fname: ../resc/data/slump_test.csv\n",
      "\n"
     ]
    }
   ],
   "source": [
    "train, test = datasets.load_slump()"
   ]
  },
  {
   "cell_type": "markdown",
   "metadata": {},
   "source": [
    "This is a fully numerical dataset"
   ]
  },
  {
   "cell_type": "code",
   "execution_count": 4,
   "metadata": {},
   "outputs": [
    {
     "data": {
      "text/html": [
       "<div>\n",
       "<style scoped>\n",
       "    .dataframe tbody tr th:only-of-type {\n",
       "        vertical-align: middle;\n",
       "    }\n",
       "\n",
       "    .dataframe tbody tr th {\n",
       "        vertical-align: top;\n",
       "    }\n",
       "\n",
       "    .dataframe thead th {\n",
       "        text-align: right;\n",
       "    }\n",
       "</style>\n",
       "<table border=\"1\" class=\"dataframe\">\n",
       "  <thead>\n",
       "    <tr style=\"text-align: right;\">\n",
       "      <th></th>\n",
       "      <th>Var0</th>\n",
       "      <th>Var1</th>\n",
       "      <th>Var2</th>\n",
       "      <th>Var3</th>\n",
       "      <th>Var4</th>\n",
       "      <th>Var5</th>\n",
       "      <th>Var6</th>\n",
       "      <th>Var7</th>\n",
       "      <th>Var8</th>\n",
       "      <th>Var9</th>\n",
       "    </tr>\n",
       "  </thead>\n",
       "  <tbody>\n",
       "    <tr>\n",
       "      <th>0</th>\n",
       "      <td>0.573840</td>\n",
       "      <td>0.424870</td>\n",
       "      <td>0.403846</td>\n",
       "      <td>0.6250</td>\n",
       "      <td>0.315068</td>\n",
       "      <td>0.573267</td>\n",
       "      <td>0.150727</td>\n",
       "      <td>0.793103</td>\n",
       "      <td>0.724138</td>\n",
       "      <td>0.430576</td>\n",
       "    </tr>\n",
       "    <tr>\n",
       "      <th>1</th>\n",
       "      <td>0.109705</td>\n",
       "      <td>0.772021</td>\n",
       "      <td>0.734615</td>\n",
       "      <td>0.2500</td>\n",
       "      <td>0.520548</td>\n",
       "      <td>0.394852</td>\n",
       "      <td>0.403213</td>\n",
       "      <td>0.000000</td>\n",
       "      <td>0.000000</td>\n",
       "      <td>0.579342</td>\n",
       "    </tr>\n",
       "    <tr>\n",
       "      <th>2</th>\n",
       "      <td>0.105485</td>\n",
       "      <td>0.766839</td>\n",
       "      <td>0.734615</td>\n",
       "      <td>0.2375</td>\n",
       "      <td>0.794521</td>\n",
       "      <td>0.386078</td>\n",
       "      <td>0.391737</td>\n",
       "      <td>0.034483</td>\n",
       "      <td>0.000000</td>\n",
       "      <td>0.595549</td>\n",
       "    </tr>\n",
       "    <tr>\n",
       "      <th>3</th>\n",
       "      <td>0.105485</td>\n",
       "      <td>0.766839</td>\n",
       "      <td>0.730769</td>\n",
       "      <td>0.2375</td>\n",
       "      <td>1.000000</td>\n",
       "      <td>0.380228</td>\n",
       "      <td>0.384086</td>\n",
       "      <td>0.103448</td>\n",
       "      <td>0.025862</td>\n",
       "      <td>0.602080</td>\n",
       "    </tr>\n",
       "    <tr>\n",
       "      <th>4</th>\n",
       "      <td>0.071730</td>\n",
       "      <td>0.580311</td>\n",
       "      <td>0.553846</td>\n",
       "      <td>0.7500</td>\n",
       "      <td>0.383562</td>\n",
       "      <td>0.628839</td>\n",
       "      <td>0.066565</td>\n",
       "      <td>0.689655</td>\n",
       "      <td>0.758621</td>\n",
       "      <td>0.232946</td>\n",
       "    </tr>\n",
       "  </tbody>\n",
       "</table>\n",
       "</div>"
      ],
      "text/plain": [
       "       Var0      Var1      Var2    Var3      Var4      Var5      Var6  \\\n",
       "0  0.573840  0.424870  0.403846  0.6250  0.315068  0.573267  0.150727   \n",
       "1  0.109705  0.772021  0.734615  0.2500  0.520548  0.394852  0.403213   \n",
       "2  0.105485  0.766839  0.734615  0.2375  0.794521  0.386078  0.391737   \n",
       "3  0.105485  0.766839  0.730769  0.2375  1.000000  0.380228  0.384086   \n",
       "4  0.071730  0.580311  0.553846  0.7500  0.383562  0.628839  0.066565   \n",
       "\n",
       "       Var7      Var8      Var9  \n",
       "0  0.793103  0.724138  0.430576  \n",
       "1  0.000000  0.000000  0.579342  \n",
       "2  0.034483  0.000000  0.595549  \n",
       "3  0.103448  0.025862  0.602080  \n",
       "4  0.689655  0.758621  0.232946  "
      ]
     },
     "execution_count": 4,
     "metadata": {},
     "output_type": "execute_result"
    }
   ],
   "source": [
    "train.head()"
   ]
  },
  {
   "cell_type": "code",
   "execution_count": 5,
   "metadata": {},
   "outputs": [
    {
     "data": {
      "text/html": [
       "<div>\n",
       "<style scoped>\n",
       "    .dataframe tbody tr th:only-of-type {\n",
       "        vertical-align: middle;\n",
       "    }\n",
       "\n",
       "    .dataframe tbody tr th {\n",
       "        vertical-align: top;\n",
       "    }\n",
       "\n",
       "    .dataframe thead th {\n",
       "        text-align: right;\n",
       "    }\n",
       "</style>\n",
       "<table border=\"1\" class=\"dataframe\">\n",
       "  <thead>\n",
       "    <tr style=\"text-align: right;\">\n",
       "      <th></th>\n",
       "      <th>Var0</th>\n",
       "      <th>Var1</th>\n",
       "      <th>Var2</th>\n",
       "      <th>Var3</th>\n",
       "      <th>Var4</th>\n",
       "      <th>Var5</th>\n",
       "      <th>Var6</th>\n",
       "      <th>Var7</th>\n",
       "      <th>Var8</th>\n",
       "      <th>Var9</th>\n",
       "    </tr>\n",
       "  </thead>\n",
       "  <tbody>\n",
       "    <tr>\n",
       "      <th>0</th>\n",
       "      <td>0.586498</td>\n",
       "      <td>0.466321</td>\n",
       "      <td>0.446154</td>\n",
       "      <td>0.2500</td>\n",
       "      <td>0.315068</td>\n",
       "      <td>0.473823</td>\n",
       "      <td>0.487376</td>\n",
       "      <td>0.000000</td>\n",
       "      <td>0.000000</td>\n",
       "      <td>0.650460</td>\n",
       "    </tr>\n",
       "    <tr>\n",
       "      <th>1</th>\n",
       "      <td>0.742616</td>\n",
       "      <td>0.580311</td>\n",
       "      <td>0.000000</td>\n",
       "      <td>0.7500</td>\n",
       "      <td>0.383562</td>\n",
       "      <td>0.251536</td>\n",
       "      <td>0.567712</td>\n",
       "      <td>0.793103</td>\n",
       "      <td>0.655172</td>\n",
       "      <td>0.265360</td>\n",
       "    </tr>\n",
       "    <tr>\n",
       "      <th>2</th>\n",
       "      <td>0.780591</td>\n",
       "      <td>0.601036</td>\n",
       "      <td>0.000000</td>\n",
       "      <td>0.4500</td>\n",
       "      <td>0.383562</td>\n",
       "      <td>0.321732</td>\n",
       "      <td>0.659526</td>\n",
       "      <td>0.879310</td>\n",
       "      <td>0.810345</td>\n",
       "      <td>0.304306</td>\n",
       "    </tr>\n",
       "    <tr>\n",
       "      <th>3</th>\n",
       "      <td>0.662447</td>\n",
       "      <td>0.549223</td>\n",
       "      <td>0.523077</td>\n",
       "      <td>0.5875</td>\n",
       "      <td>0.109589</td>\n",
       "      <td>0.114068</td>\n",
       "      <td>0.525631</td>\n",
       "      <td>0.827586</td>\n",
       "      <td>0.465517</td>\n",
       "      <td>0.582487</td>\n",
       "    </tr>\n",
       "    <tr>\n",
       "      <th>4</th>\n",
       "      <td>0.037975</td>\n",
       "      <td>0.549223</td>\n",
       "      <td>0.526923</td>\n",
       "      <td>0.6125</td>\n",
       "      <td>0.109589</td>\n",
       "      <td>0.488447</td>\n",
       "      <td>0.475899</td>\n",
       "      <td>0.827586</td>\n",
       "      <td>0.810345</td>\n",
       "      <td>0.258829</td>\n",
       "    </tr>\n",
       "  </tbody>\n",
       "</table>\n",
       "</div>"
      ],
      "text/plain": [
       "       Var0      Var1      Var2    Var3      Var4      Var5      Var6  \\\n",
       "0  0.586498  0.466321  0.446154  0.2500  0.315068  0.473823  0.487376   \n",
       "1  0.742616  0.580311  0.000000  0.7500  0.383562  0.251536  0.567712   \n",
       "2  0.780591  0.601036  0.000000  0.4500  0.383562  0.321732  0.659526   \n",
       "3  0.662447  0.549223  0.523077  0.5875  0.109589  0.114068  0.525631   \n",
       "4  0.037975  0.549223  0.526923  0.6125  0.109589  0.488447  0.475899   \n",
       "\n",
       "       Var7      Var8      Var9  \n",
       "0  0.000000  0.000000  0.650460  \n",
       "1  0.793103  0.655172  0.265360  \n",
       "2  0.879310  0.810345  0.304306  \n",
       "3  0.827586  0.465517  0.582487  \n",
       "4  0.827586  0.810345  0.258829  "
      ]
     },
     "execution_count": 5,
     "metadata": {},
     "output_type": "execute_result"
    }
   ],
   "source": [
    "test.head()"
   ]
  },
  {
   "cell_type": "markdown",
   "metadata": {},
   "source": [
    "### Training"
   ]
  },
  {
   "cell_type": "code",
   "execution_count": 6,
   "metadata": {},
   "outputs": [],
   "source": [
    "model = MERCS()"
   ]
  },
  {
   "cell_type": "code",
   "execution_count": 7,
   "metadata": {},
   "outputs": [],
   "source": [
    "ind_parameters = {'ind_type':           'RF',\n",
    "                  'ind_n_estimators':   10,\n",
    "                  'ind_max_depth':      4}\n",
    "\n",
    "sel_parameters = {'sel_type':           'Base',\n",
    "                  'sel_its':            4,\n",
    "                  'sel_param':          1}"
   ]
  },
  {
   "cell_type": "code",
   "execution_count": 8,
   "metadata": {},
   "outputs": [
    {
     "name": "stderr",
     "output_type": "stream",
     "text": [
      "/home/zissou/anaconda3/lib/python3.6/site-packages/numpy/core/numeric.py:2397: FutureWarning: elementwise comparison failed; returning scalar instead, but in the future will perform elementwise comparison\n",
      "  return bool(asarray(a1 == a2).all())\n"
     ]
    }
   ],
   "source": [
    "model.fit(train, **ind_parameters, **sel_parameters)"
   ]
  },
  {
   "cell_type": "markdown",
   "metadata": {},
   "source": [
    "## Inference"
   ]
  },
  {
   "cell_type": "markdown",
   "metadata": {},
   "source": [
    "### Prediction"
   ]
  },
  {
   "cell_type": "code",
   "execution_count": 9,
   "metadata": {},
   "outputs": [],
   "source": [
    "code = [0, 0, 0, 0, 0, 0, 0, 0, 1, 1]\n",
    "\n",
    "target_boolean = np.array(code) == 1\n",
    "y_true = test[test.columns.values[target_boolean]].values"
   ]
  },
  {
   "cell_type": "code",
   "execution_count": 10,
   "metadata": {
    "scrolled": true
   },
   "outputs": [
    {
     "data": {
      "text/plain": [
       "array([[0.        , 0.6504596 ],\n",
       "       [0.65517241, 0.26536043],\n",
       "       [0.81034483, 0.30430576],\n",
       "       [0.46551724, 0.5824867 ],\n",
       "       [0.81034483, 0.25882922],\n",
       "       [0.6637931 , 0.27842283],\n",
       "       [0.32758621, 0.37203677],\n",
       "       [0.75      , 0.4109821 ],\n",
       "       [0.18965517, 0.32994678],\n",
       "       [0.56896552, 0.32027092],\n",
       "       [0.63793103, 0.22327044],\n",
       "       [0.75862069, 0.21988389],\n",
       "       [0.94827586, 0.45960329],\n",
       "       [0.44827586, 0.46274794],\n",
       "       [0.56034483, 0.40130624],\n",
       "       [0.68965517, 0.33333333],\n",
       "       [0.60344828, 0.2394775 ],\n",
       "       [1.        , 0.51451379],\n",
       "       [0.12931034, 0.50145138],\n",
       "       [0.28448276, 0.50798258],\n",
       "       [0.37068966, 0.44339623],\n",
       "       [0.12068966, 0.37856797],\n",
       "       [1.        , 0.66013546],\n",
       "       [0.        , 0.5890179 ],\n",
       "       [0.        , 0.59554911],\n",
       "       [0.        , 0.57619739],\n",
       "       [0.75862069, 0.53072085],\n",
       "       [0.98275862, 0.6504596 ],\n",
       "       [0.        , 0.79293662],\n",
       "       [0.        , 0.79922593],\n",
       "       [0.        , 0.80575714],\n",
       "       [0.81034483, 0.77358491],\n",
       "       [1.        , 0.76390905]])"
      ]
     },
     "execution_count": 10,
     "metadata": {},
     "output_type": "execute_result"
    }
   ],
   "source": [
    "y_true"
   ]
  },
  {
   "cell_type": "code",
   "execution_count": 11,
   "metadata": {},
   "outputs": [],
   "source": [
    "pred_parameters = {'pred_type':     'IT',\n",
    "                   'pred_param':    0.1,\n",
    "                   'pred_its':      4}"
   ]
  },
  {
   "cell_type": "code",
   "execution_count": 12,
   "metadata": {},
   "outputs": [
    {
     "name": "stdout",
     "output_type": "stream",
     "text": [
      "SETTINGS.PY: I AM READING A SINGLE QUERY CODE, I.E: [0, 0, 0, 0, 0, 0, 0, 0, 1, 1]\n",
      "Predicting q_code: [0, 0, 0, 0, 0, 0, 0, 0, 1, 1]\n",
      "Type of numer_res: <class 'list'> \n",
      "And type of numer_res[0]: <class 'numpy.ndarray'>\n",
      "And shape of numer_res[0]: (33, 1)\n",
      "\n",
      "\n",
      "Type of numer_res: <class 'list'> \n",
      "And type of numer_res[0]: <class 'numpy.ndarray'>\n",
      "And shape of numer_res[0]: (33, 1)\n",
      "\n",
      "\n",
      "Type of numer_res: <class 'list'> \n",
      "And type of numer_res[0]: <class 'numpy.ndarray'>\n",
      "And shape of numer_res[0]: (33, 1)\n",
      "\n",
      "\n",
      "Type of numer_res: <class 'list'> \n",
      "And type of numer_res[0]: <class 'numpy.ndarray'>\n",
      "And shape of numer_res[0]: (33, 1)\n",
      "\n",
      "\n",
      "Type of numer_res: <class 'list'> \n",
      "And type of numer_res[0]: <class 'numpy.ndarray'>\n",
      "And shape of numer_res[0]: (33, 1)\n",
      "\n",
      "\n",
      "Type of numer_res: <class 'list'> \n",
      "And type of numer_res[0]: <class 'numpy.ndarray'>\n",
      "And shape of numer_res[0]: (33, 1)\n",
      "\n",
      "\n",
      "Type of numer_res: <class 'list'> \n",
      "And type of numer_res[0]: <class 'numpy.ndarray'>\n",
      "And shape of numer_res[0]: (33, 1)\n",
      "\n",
      "\n",
      "Type of numer_res: <class 'list'> \n",
      "And type of numer_res[0]: <class 'numpy.ndarray'>\n",
      "And shape of numer_res[0]: (33, 1)\n",
      "\n",
      "\n"
     ]
    }
   ],
   "source": [
    "y_pred = model.predict(test,\n",
    "                       **pred_parameters,\n",
    "                       qry_code=code)"
   ]
  },
  {
   "cell_type": "code",
   "execution_count": 13,
   "metadata": {},
   "outputs": [
    {
     "data": {
      "text/plain": [
       "array([[0.06163793, 0.44132801],\n",
       "       [0.7362069 , 0.35675496],\n",
       "       [0.69185345, 0.40109458],\n",
       "       [0.79112069, 0.53217223],\n",
       "       [0.75556034, 0.28793541],\n",
       "       [0.6475    , 0.30042937],\n",
       "       [0.25396552, 0.42712869],\n",
       "       [0.62905172, 0.39920779],\n",
       "       [0.43103448, 0.39887518],\n",
       "       [0.61935345, 0.36513062],\n",
       "       [0.67232759, 0.35948234],\n",
       "       [0.65094828, 0.33841316],\n",
       "       [0.77349138, 0.39605104],\n",
       "       [0.54586207, 0.39646831],\n",
       "       [0.61375   , 0.38619376],\n",
       "       [0.65866379, 0.35250363],\n",
       "       [0.70383621, 0.30587808],\n",
       "       [0.80581897, 0.48883648],\n",
       "       [0.18146552, 0.32245404],\n",
       "       [0.26982759, 0.33459724],\n",
       "       [0.21918103, 0.34804669],\n",
       "       [0.3299569 , 0.49918965],\n",
       "       [0.82314655, 0.55646468],\n",
       "       [0.03232759, 0.58577649],\n",
       "       [0.03232759, 0.58577649],\n",
       "       [0.03232759, 0.52259918],\n",
       "       [0.75905172, 0.52040397],\n",
       "       [0.82142241, 0.55646468],\n",
       "       [0.0737069 , 0.62743106],\n",
       "       [0.0737069 , 0.62257499],\n",
       "       [0.0737069 , 0.58348452],\n",
       "       [0.72400862, 0.55345307],\n",
       "       [0.80931035, 0.73246251]])"
      ]
     },
     "execution_count": 13,
     "metadata": {},
     "output_type": "execute_result"
    }
   ],
   "source": [
    "y_pred"
   ]
  },
  {
   "cell_type": "markdown",
   "metadata": {},
   "source": [
    "### Evaluation "
   ]
  },
  {
   "cell_type": "code",
   "execution_count": 14,
   "metadata": {},
   "outputs": [],
   "source": [
    "y_true = test[test.columns.values[np.array(code)==1]].values"
   ]
  },
  {
   "cell_type": "code",
   "execution_count": 15,
   "metadata": {},
   "outputs": [],
   "source": [
    "obs_1 = mean_absolute_error(y_true, y_pred)\n",
    "obs_2 = mean_squared_error(y_true, y_pred)\n",
    "obs_3 = mean_squared_log_error(y_true, y_pred)\n",
    "\n",
    "obs = [obs_1, obs_2, obs_3]\n",
    "\n",
    "for o in obs:\n",
    "    assert isinstance(o, (int, float))\n",
    "    assert 0 <= o "
   ]
  },
  {
   "cell_type": "code",
   "execution_count": 16,
   "metadata": {},
   "outputs": [
    {
     "data": {
      "text/plain": [
       "0.0059014208413006464"
      ]
     },
     "execution_count": 16,
     "metadata": {},
     "output_type": "execute_result"
    }
   ],
   "source": [
    "obs_3"
   ]
  }
 ],
 "metadata": {
  "kernelspec": {
   "display_name": "Python 3",
   "language": "python",
   "name": "python3"
  },
  "language_info": {
   "codemirror_mode": {
    "name": "ipython",
    "version": 3
   },
   "file_extension": ".py",
   "mimetype": "text/x-python",
   "name": "python",
   "nbconvert_exporter": "python",
   "pygments_lexer": "ipython3",
   "version": "3.6.4"
  },
  "toc": {
   "nav_menu": {},
   "number_sections": true,
   "sideBar": true,
   "skip_h1_title": true,
   "title_cell": "Table of Contents",
   "title_sidebar": "Contents",
   "toc_cell": false,
   "toc_position": {},
   "toc_section_display": "block",
   "toc_window_display": true
  }
 },
 "nbformat": 4,
 "nbformat_minor": 2
}
