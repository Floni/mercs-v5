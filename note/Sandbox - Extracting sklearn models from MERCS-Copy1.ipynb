{
 "cells": [
  {
   "cell_type": "markdown",
   "metadata": {},
   "source": [
    "# Sandbox: Extract Codes and mas and aas\n",
    "\n",
    "Playing around with other important entities in MERCS"
   ]
  },
  {
   "cell_type": "markdown",
   "metadata": {},
   "source": [
    "## Preliminaries"
   ]
  },
  {
   "cell_type": "markdown",
   "metadata": {
    "heading_collapsed": true
   },
   "source": [
    "### External Imports"
   ]
  },
  {
   "cell_type": "code",
   "execution_count": 1,
   "metadata": {
    "collapsed": true,
    "hidden": true
   },
   "outputs": [],
   "source": [
    "import numpy as np\n",
    "import os\n",
    "import sys\n",
    "from sklearn.metrics import (mean_absolute_error,\n",
    "                             mean_squared_error,\n",
    "                             mean_squared_log_error)\n",
    "import pandas as pd"
   ]
  },
  {
   "cell_type": "markdown",
   "metadata": {
    "heading_collapsed": true
   },
   "source": [
    "### MERCS imports"
   ]
  },
  {
   "cell_type": "code",
   "execution_count": 2,
   "metadata": {
    "hidden": true
   },
   "outputs": [
    {
     "name": "stderr",
     "output_type": "stream",
     "text": [
      "/home/elia/Software/anaconda3/lib/python3.6/site-packages/sklearn/ensemble/weight_boosting.py:29: DeprecationWarning: numpy.core.umath_tests is an internal NumPy module and should not be imported. It will be removed in a future NumPy release.\n",
      "  from numpy.core.umath_tests import inner1d\n"
     ]
    }
   ],
   "source": [
    "sys.path.insert(0, '..') # We add the parent dir to the path\n",
    "from src.mercs.core import MERCS\n",
    "from src.mercs.utils import *\n",
    "\n",
    "import src.datasets as datasets"
   ]
  },
  {
   "cell_type": "markdown",
   "metadata": {},
   "source": [
    "## Induction"
   ]
  },
  {
   "cell_type": "markdown",
   "metadata": {},
   "source": [
    "### Importing Data"
   ]
  },
  {
   "cell_type": "markdown",
   "metadata": {},
   "source": [
    "First, we import the nursery dataset."
   ]
  },
  {
   "cell_type": "code",
   "execution_count": 3,
   "metadata": {},
   "outputs": [
    {
     "name": "stdout",
     "output_type": "stream",
     "text": [
      "load_example_dataset is loading fname: ../resc/data/slump_train.csv\n",
      "\n",
      "load_example_dataset is loading fname: ../resc/data/slump_test.csv\n",
      "\n"
     ]
    }
   ],
   "source": [
    "train, test = datasets.load_slump()"
   ]
  },
  {
   "cell_type": "markdown",
   "metadata": {},
   "source": [
    "This is a fully numerical dataset"
   ]
  },
  {
   "cell_type": "code",
   "execution_count": 4,
   "metadata": {},
   "outputs": [
    {
     "data": {
      "text/html": [
       "<div>\n",
       "<style scoped>\n",
       "    .dataframe tbody tr th:only-of-type {\n",
       "        vertical-align: middle;\n",
       "    }\n",
       "\n",
       "    .dataframe tbody tr th {\n",
       "        vertical-align: top;\n",
       "    }\n",
       "\n",
       "    .dataframe thead th {\n",
       "        text-align: right;\n",
       "    }\n",
       "</style>\n",
       "<table border=\"1\" class=\"dataframe\">\n",
       "  <thead>\n",
       "    <tr style=\"text-align: right;\">\n",
       "      <th></th>\n",
       "      <th>Var0</th>\n",
       "      <th>Var1</th>\n",
       "      <th>Var2</th>\n",
       "      <th>Var3</th>\n",
       "      <th>Var4</th>\n",
       "      <th>Var5</th>\n",
       "      <th>Var6</th>\n",
       "      <th>Var7</th>\n",
       "      <th>Var8</th>\n",
       "      <th>Var9</th>\n",
       "    </tr>\n",
       "  </thead>\n",
       "  <tbody>\n",
       "    <tr>\n",
       "      <th>0</th>\n",
       "      <td>0.573840</td>\n",
       "      <td>0.424870</td>\n",
       "      <td>0.403846</td>\n",
       "      <td>0.6250</td>\n",
       "      <td>0.315068</td>\n",
       "      <td>0.573267</td>\n",
       "      <td>0.150727</td>\n",
       "      <td>0.793103</td>\n",
       "      <td>0.724138</td>\n",
       "      <td>0.430576</td>\n",
       "    </tr>\n",
       "    <tr>\n",
       "      <th>1</th>\n",
       "      <td>0.109705</td>\n",
       "      <td>0.772021</td>\n",
       "      <td>0.734615</td>\n",
       "      <td>0.2500</td>\n",
       "      <td>0.520548</td>\n",
       "      <td>0.394852</td>\n",
       "      <td>0.403213</td>\n",
       "      <td>0.000000</td>\n",
       "      <td>0.000000</td>\n",
       "      <td>0.579342</td>\n",
       "    </tr>\n",
       "    <tr>\n",
       "      <th>2</th>\n",
       "      <td>0.105485</td>\n",
       "      <td>0.766839</td>\n",
       "      <td>0.734615</td>\n",
       "      <td>0.2375</td>\n",
       "      <td>0.794521</td>\n",
       "      <td>0.386078</td>\n",
       "      <td>0.391737</td>\n",
       "      <td>0.034483</td>\n",
       "      <td>0.000000</td>\n",
       "      <td>0.595549</td>\n",
       "    </tr>\n",
       "    <tr>\n",
       "      <th>3</th>\n",
       "      <td>0.105485</td>\n",
       "      <td>0.766839</td>\n",
       "      <td>0.730769</td>\n",
       "      <td>0.2375</td>\n",
       "      <td>1.000000</td>\n",
       "      <td>0.380228</td>\n",
       "      <td>0.384086</td>\n",
       "      <td>0.103448</td>\n",
       "      <td>0.025862</td>\n",
       "      <td>0.602080</td>\n",
       "    </tr>\n",
       "    <tr>\n",
       "      <th>4</th>\n",
       "      <td>0.071730</td>\n",
       "      <td>0.580311</td>\n",
       "      <td>0.553846</td>\n",
       "      <td>0.7500</td>\n",
       "      <td>0.383562</td>\n",
       "      <td>0.628839</td>\n",
       "      <td>0.066565</td>\n",
       "      <td>0.689655</td>\n",
       "      <td>0.758621</td>\n",
       "      <td>0.232946</td>\n",
       "    </tr>\n",
       "  </tbody>\n",
       "</table>\n",
       "</div>"
      ],
      "text/plain": [
       "       Var0      Var1      Var2    Var3      Var4      Var5      Var6  \\\n",
       "0  0.573840  0.424870  0.403846  0.6250  0.315068  0.573267  0.150727   \n",
       "1  0.109705  0.772021  0.734615  0.2500  0.520548  0.394852  0.403213   \n",
       "2  0.105485  0.766839  0.734615  0.2375  0.794521  0.386078  0.391737   \n",
       "3  0.105485  0.766839  0.730769  0.2375  1.000000  0.380228  0.384086   \n",
       "4  0.071730  0.580311  0.553846  0.7500  0.383562  0.628839  0.066565   \n",
       "\n",
       "       Var7      Var8      Var9  \n",
       "0  0.793103  0.724138  0.430576  \n",
       "1  0.000000  0.000000  0.579342  \n",
       "2  0.034483  0.000000  0.595549  \n",
       "3  0.103448  0.025862  0.602080  \n",
       "4  0.689655  0.758621  0.232946  "
      ]
     },
     "execution_count": 4,
     "metadata": {},
     "output_type": "execute_result"
    }
   ],
   "source": [
    "train.head()"
   ]
  },
  {
   "cell_type": "code",
   "execution_count": 5,
   "metadata": {},
   "outputs": [
    {
     "data": {
      "text/html": [
       "<div>\n",
       "<style scoped>\n",
       "    .dataframe tbody tr th:only-of-type {\n",
       "        vertical-align: middle;\n",
       "    }\n",
       "\n",
       "    .dataframe tbody tr th {\n",
       "        vertical-align: top;\n",
       "    }\n",
       "\n",
       "    .dataframe thead th {\n",
       "        text-align: right;\n",
       "    }\n",
       "</style>\n",
       "<table border=\"1\" class=\"dataframe\">\n",
       "  <thead>\n",
       "    <tr style=\"text-align: right;\">\n",
       "      <th></th>\n",
       "      <th>Var0</th>\n",
       "      <th>Var1</th>\n",
       "      <th>Var2</th>\n",
       "      <th>Var3</th>\n",
       "      <th>Var4</th>\n",
       "      <th>Var5</th>\n",
       "      <th>Var6</th>\n",
       "      <th>Var7</th>\n",
       "      <th>Var8</th>\n",
       "      <th>Var9</th>\n",
       "    </tr>\n",
       "  </thead>\n",
       "  <tbody>\n",
       "    <tr>\n",
       "      <th>0</th>\n",
       "      <td>0.586498</td>\n",
       "      <td>0.466321</td>\n",
       "      <td>0.446154</td>\n",
       "      <td>0.2500</td>\n",
       "      <td>0.315068</td>\n",
       "      <td>0.473823</td>\n",
       "      <td>0.487376</td>\n",
       "      <td>0.000000</td>\n",
       "      <td>0.000000</td>\n",
       "      <td>0.650460</td>\n",
       "    </tr>\n",
       "    <tr>\n",
       "      <th>1</th>\n",
       "      <td>0.742616</td>\n",
       "      <td>0.580311</td>\n",
       "      <td>0.000000</td>\n",
       "      <td>0.7500</td>\n",
       "      <td>0.383562</td>\n",
       "      <td>0.251536</td>\n",
       "      <td>0.567712</td>\n",
       "      <td>0.793103</td>\n",
       "      <td>0.655172</td>\n",
       "      <td>0.265360</td>\n",
       "    </tr>\n",
       "    <tr>\n",
       "      <th>2</th>\n",
       "      <td>0.780591</td>\n",
       "      <td>0.601036</td>\n",
       "      <td>0.000000</td>\n",
       "      <td>0.4500</td>\n",
       "      <td>0.383562</td>\n",
       "      <td>0.321732</td>\n",
       "      <td>0.659526</td>\n",
       "      <td>0.879310</td>\n",
       "      <td>0.810345</td>\n",
       "      <td>0.304306</td>\n",
       "    </tr>\n",
       "    <tr>\n",
       "      <th>3</th>\n",
       "      <td>0.662447</td>\n",
       "      <td>0.549223</td>\n",
       "      <td>0.523077</td>\n",
       "      <td>0.5875</td>\n",
       "      <td>0.109589</td>\n",
       "      <td>0.114068</td>\n",
       "      <td>0.525631</td>\n",
       "      <td>0.827586</td>\n",
       "      <td>0.465517</td>\n",
       "      <td>0.582487</td>\n",
       "    </tr>\n",
       "    <tr>\n",
       "      <th>4</th>\n",
       "      <td>0.037975</td>\n",
       "      <td>0.549223</td>\n",
       "      <td>0.526923</td>\n",
       "      <td>0.6125</td>\n",
       "      <td>0.109589</td>\n",
       "      <td>0.488447</td>\n",
       "      <td>0.475899</td>\n",
       "      <td>0.827586</td>\n",
       "      <td>0.810345</td>\n",
       "      <td>0.258829</td>\n",
       "    </tr>\n",
       "  </tbody>\n",
       "</table>\n",
       "</div>"
      ],
      "text/plain": [
       "       Var0      Var1      Var2    Var3      Var4      Var5      Var6  \\\n",
       "0  0.586498  0.466321  0.446154  0.2500  0.315068  0.473823  0.487376   \n",
       "1  0.742616  0.580311  0.000000  0.7500  0.383562  0.251536  0.567712   \n",
       "2  0.780591  0.601036  0.000000  0.4500  0.383562  0.321732  0.659526   \n",
       "3  0.662447  0.549223  0.523077  0.5875  0.109589  0.114068  0.525631   \n",
       "4  0.037975  0.549223  0.526923  0.6125  0.109589  0.488447  0.475899   \n",
       "\n",
       "       Var7      Var8      Var9  \n",
       "0  0.000000  0.000000  0.650460  \n",
       "1  0.793103  0.655172  0.265360  \n",
       "2  0.879310  0.810345  0.304306  \n",
       "3  0.827586  0.465517  0.582487  \n",
       "4  0.827586  0.810345  0.258829  "
      ]
     },
     "execution_count": 5,
     "metadata": {},
     "output_type": "execute_result"
    }
   ],
   "source": [
    "test.head()"
   ]
  },
  {
   "cell_type": "markdown",
   "metadata": {},
   "source": [
    "### Training"
   ]
  },
  {
   "cell_type": "code",
   "execution_count": 6,
   "metadata": {
    "collapsed": true
   },
   "outputs": [],
   "source": [
    "model = MERCS()"
   ]
  },
  {
   "cell_type": "code",
   "execution_count": 7,
   "metadata": {
    "collapsed": true
   },
   "outputs": [],
   "source": [
    "ind_parameters = {'ind_type':           'RF',\n",
    "                  'ind_n_estimators':   10,\n",
    "                  'ind_max_depth':      4}\n",
    "\n",
    "sel_parameters = {'sel_type':           'Base',\n",
    "                  'sel_its':            4,\n",
    "                  'sel_param':          2}"
   ]
  },
  {
   "cell_type": "code",
   "execution_count": 8,
   "metadata": {},
   "outputs": [
    {
     "name": "stderr",
     "output_type": "stream",
     "text": [
      "/home/elia/Software/anaconda3/lib/python3.6/site-packages/numpy/core/numeric.py:2428: FutureWarning: elementwise comparison failed; returning scalar instead, but in the future will perform elementwise comparison\n",
      "  return bool(asarray(a1 == a2).all())\n"
     ]
    }
   ],
   "source": [
    "model.fit(train, **ind_parameters, **sel_parameters)"
   ]
  },
  {
   "cell_type": "code",
   "execution_count": 9,
   "metadata": {},
   "outputs": [],
   "source": [
    "codes = model.m_codes"
   ]
  },
  {
   "cell_type": "code",
   "execution_count": 10,
   "metadata": {
    "collapsed": true
   },
   "outputs": [],
   "source": [
    "code = [0, 0, 0, 0, 0, 0, 0, 0, 0, 1]"
   ]
  },
  {
   "cell_type": "code",
   "execution_count": 14,
   "metadata": {},
   "outputs": [
    {
     "name": "stdout",
     "output_type": "stream",
     "text": [
      "Predicting q_code: [0, 0, 0, 0, 0, 0, 0, 0, 0, 1]\n",
      "Type of numer_res: <class 'list'> \n",
      "And type of numer_res[0]: <class 'numpy.ndarray'>\n",
      "And shape of numer_res[0]: (33, 1)\n",
      "\n",
      "\n",
      "Type of numer_res: <class 'list'> \n",
      "And type of numer_res[0]: <class 'numpy.ndarray'>\n",
      "And shape of numer_res[0]: (33, 1)\n",
      "\n",
      "\n",
      "Type of numer_res: <class 'list'> \n",
      "And type of numer_res[0]: <class 'numpy.ndarray'>\n",
      "And shape of numer_res[0]: (33, 1)\n",
      "\n",
      "\n",
      "Type of numer_res: <class 'list'> \n",
      "And type of numer_res[0]: <class 'numpy.ndarray'>\n",
      "And shape of numer_res[0]: (33, 1)\n",
      "\n",
      "\n"
     ]
    }
   ],
   "source": [
    "y_pred = model.predict(test)"
   ]
  },
  {
   "cell_type": "code",
   "execution_count": 49,
   "metadata": {},
   "outputs": [
    {
     "data": {
      "text/plain": [
       "array([[1, 0, 1, 0, 0, 0, 0, 0, 0, 0],\n",
       "       [0, 0, 0, 0, 0, 0, 0, 1, 0, 1],\n",
       "       [0, 1, 0, 0, 0, 0, 1, 0, 0, 0],\n",
       "       [0, 0, 0, 1, 1, 0, 0, 0, 0, 0],\n",
       "       [0, 0, 0, 0, 0, 1, 0, 0, 1, 0],\n",
       "       [1, 0, 0, 0, 0, 0, 1, 0, 0, 0],\n",
       "       [0, 0, 0, 0, 0, 0, 0, 1, 1, 0],\n",
       "       [0, 0, 0, 0, 1, 0, 0, 0, 0, 1],\n",
       "       [0, 1, 0, 1, 0, 0, 0, 0, 0, 0],\n",
       "       [0, 0, 1, 0, 0, 1, 0, 0, 0, 0],\n",
       "       [0, 0, 0, 0, 0, 0, 0, 0, 1, 1],\n",
       "       [0, 1, 0, 0, 1, 0, 0, 0, 0, 0],\n",
       "       [1, 0, 1, 0, 0, 0, 0, 0, 0, 0],\n",
       "       [0, 0, 0, 0, 0, 0, 1, 1, 0, 0],\n",
       "       [0, 0, 0, 1, 0, 1, 0, 0, 0, 0],\n",
       "       [0, 0, 0, 1, 0, 1, 0, 0, 0, 0],\n",
       "       [1, 1, 0, 0, 0, 0, 0, 0, 0, 0],\n",
       "       [0, 0, 0, 0, 1, 0, 1, 0, 0, 0],\n",
       "       [0, 0, 0, 0, 0, 0, 0, 0, 1, 1],\n",
       "       [0, 0, 1, 0, 0, 0, 0, 1, 0, 0]])"
      ]
     },
     "execution_count": 49,
     "metadata": {},
     "output_type": "execute_result"
    }
   ],
   "source": [
    "codes"
   ]
  },
  {
   "cell_type": "code",
   "execution_count": 20,
   "metadata": {},
   "outputs": [
    {
     "data": {
      "text/plain": [
       "(20, 10)"
      ]
     },
     "execution_count": 20,
     "metadata": {},
     "output_type": "execute_result"
    }
   ],
   "source": [
    "codes.shape"
   ]
  },
  {
   "cell_type": "code",
   "execution_count": 113,
   "metadata": {},
   "outputs": [],
   "source": [
    "mas = np.full(codes.shape[0], 0, dtype=np.int)\n",
    "mas[0]=1\n",
    "mas[1]=1\n",
    "mas[4]=1"
   ]
  },
  {
   "cell_type": "code",
   "execution_count": 114,
   "metadata": {},
   "outputs": [
    {
     "data": {
      "text/plain": [
       "array([1, 1, 0, 0, 1, 0, 0, 0, 0, 0, 0, 0, 0, 0, 0, 0, 0, 0, 0, 0])"
      ]
     },
     "execution_count": 114,
     "metadata": {},
     "output_type": "execute_result"
    }
   ],
   "source": [
    "mas"
   ]
  },
  {
   "cell_type": "code",
   "execution_count": 105,
   "metadata": {
    "collapsed": true
   },
   "outputs": [],
   "source": [
    "q_targ = [7,8,9]"
   ]
  },
  {
   "cell_type": "code",
   "execution_count": 106,
   "metadata": {},
   "outputs": [
    {
     "data": {
      "text/plain": [
       "array([[0, 0, 0],\n",
       "       [1, 0, 1],\n",
       "       [0, 1, 0]])"
      ]
     },
     "execution_count": 106,
     "metadata": {},
     "output_type": "execute_result"
    }
   ],
   "source": [
    "q_targ_attributes_in_selected_models = codes[mas==1,:][:,q_targ]\n",
    "q_targ_attributes_in_selected_models"
   ]
  },
  {
   "cell_type": "code",
   "execution_count": 107,
   "metadata": {},
   "outputs": [
    {
     "data": {
      "text/plain": [
       "array([0, 1, 2])"
      ]
     },
     "execution_count": 107,
     "metadata": {},
     "output_type": "execute_result"
    }
   ],
   "source": [
    "check = np.where(q_targ_attributes_in_selected_models==1)\n",
    "q_targ_ok = np.unique(check[1])\n",
    "q_targ_ok"
   ]
  },
  {
   "cell_type": "code",
   "execution_count": 109,
   "metadata": {},
   "outputs": [
    {
     "data": {
      "text/plain": [
       "True"
      ]
     },
     "execution_count": 109,
     "metadata": {},
     "output_type": "execute_result"
    }
   ],
   "source": [
    "len(q_targ_ok) == len(q_targ)"
   ]
  },
  {
   "cell_type": "code",
   "execution_count": 116,
   "metadata": {},
   "outputs": [],
   "source": [
    "mas_1 = np.array([1,1,0])\n",
    "mas_2 = np.array([0,1,0])"
   ]
  },
  {
   "cell_type": "code",
   "execution_count": 122,
   "metadata": {},
   "outputs": [
    {
     "data": {
      "text/plain": [
       "array([0, 1])"
      ]
     },
     "execution_count": 122,
     "metadata": {},
     "output_type": "execute_result"
    }
   ],
   "source": [
    "np.where((mas_1 + mas_2)>0)[0]"
   ]
  },
  {
   "cell_type": "code",
   "execution_count": 123,
   "metadata": {},
   "outputs": [
    {
     "data": {
      "text/plain": [
       "array([1, 1, 0, 0, 1, 0, 0, 0, 0, 0, 0, 0, 0, 0, 0, 0, 0, 0, 0, 0])"
      ]
     },
     "execution_count": 123,
     "metadata": {},
     "output_type": "execute_result"
    }
   ],
   "source": [
    "mas"
   ]
  },
  {
   "cell_type": "code",
   "execution_count": 124,
   "metadata": {
    "collapsed": true
   },
   "outputs": [],
   "source": [
    "mas = np.array([1,1,0,0])"
   ]
  },
  {
   "cell_type": "code",
   "execution_count": 128,
   "metadata": {
    "collapsed": true
   },
   "outputs": [],
   "source": [
    "mas_2 = np.array([0,0,0,1])"
   ]
  },
  {
   "cell_type": "code",
   "execution_count": 129,
   "metadata": {
    "collapsed": true
   },
   "outputs": [],
   "source": [
    "mas_2 = [0,0,0,1]"
   ]
  },
  {
   "cell_type": "code",
   "execution_count": 130,
   "metadata": {},
   "outputs": [
    {
     "ename": "TypeError",
     "evalue": "'>' not supported between instances of 'list' and 'int'",
     "output_type": "error",
     "traceback": [
      "\u001b[0;31m---------------------------------------------------------------------------\u001b[0m",
      "\u001b[0;31mTypeError\u001b[0m                                 Traceback (most recent call last)",
      "\u001b[0;32m<ipython-input-130-8892dd57adf2>\u001b[0m in \u001b[0;36m<module>\u001b[0;34m()\u001b[0m\n\u001b[0;32m----> 1\u001b[0;31m \u001b[0mmas\u001b[0m\u001b[0;34m[\u001b[0m\u001b[0mmas_2\u001b[0m\u001b[0;34m>\u001b[0m\u001b[0;36m0\u001b[0m\u001b[0;34m]\u001b[0m\u001b[0;34m=\u001b[0m\u001b[0;36m1\u001b[0m\u001b[0;34m\u001b[0m\u001b[0m\n\u001b[0m",
      "\u001b[0;31mTypeError\u001b[0m: '>' not supported between instances of 'list' and 'int'"
     ]
    }
   ],
   "source": [
    "mas[mas_2>0]=1"
   ]
  },
  {
   "cell_type": "code",
   "execution_count": 127,
   "metadata": {},
   "outputs": [
    {
     "data": {
      "text/plain": [
       "array([1, 1, 0, 1])"
      ]
     },
     "execution_count": 127,
     "metadata": {},
     "output_type": "execute_result"
    }
   ],
   "source": [
    "mas"
   ]
  }
 ],
 "metadata": {
  "kernelspec": {
   "display_name": "Python [default]",
   "language": "python",
   "name": "python3"
  },
  "language_info": {
   "codemirror_mode": {
    "name": "ipython",
    "version": 3
   },
   "file_extension": ".py",
   "mimetype": "text/x-python",
   "name": "python",
   "nbconvert_exporter": "python",
   "pygments_lexer": "ipython3",
   "version": "3.6.1"
  },
  "toc": {
   "nav_menu": {},
   "number_sections": true,
   "sideBar": true,
   "skip_h1_title": true,
   "toc_cell": false,
   "toc_position": {},
   "toc_section_display": "block",
   "toc_window_display": true
  }
 },
 "nbformat": 4,
 "nbformat_minor": 2
}
