{
 "cells": [
  {
   "cell_type": "markdown",
   "metadata": {},
   "source": [
    "# MERCS 101 - Lecture 03: Mix Classification & Regression\n",
    "\n",
    "This is the third part of the tutorial, combining classification and regression"
   ]
  },
  {
   "cell_type": "markdown",
   "metadata": {},
   "source": [
    "## Preliminaries"
   ]
  },
  {
   "cell_type": "markdown",
   "metadata": {},
   "source": [
    "### External Imports"
   ]
  },
  {
   "cell_type": "code",
   "execution_count": 1,
   "metadata": {
    "collapsed": true
   },
   "outputs": [],
   "source": [
    "import numpy as np\n",
    "import os\n",
    "import sys\n",
    "from sklearn.metrics import (mean_absolute_error,\n",
    "                             mean_squared_error,\n",
    "                             mean_squared_log_error,\n",
    "                             f1_score)\n",
    "import pandas as pd"
   ]
  },
  {
   "cell_type": "markdown",
   "metadata": {},
   "source": [
    "### MERCS imports"
   ]
  },
  {
   "cell_type": "code",
   "execution_count": 2,
   "metadata": {},
   "outputs": [
    {
     "name": "stderr",
     "output_type": "stream",
     "text": [
      "/home/elia/Software/anaconda3/lib/python3.6/site-packages/sklearn/ensemble/weight_boosting.py:29: DeprecationWarning: numpy.core.umath_tests is an internal NumPy module and should not be imported. It will be removed in a future NumPy release.\n",
      "  from numpy.core.umath_tests import inner1d\n"
     ]
    }
   ],
   "source": [
    "sys.path.insert(0, '..') # We add the parent dir to the path\n",
    "from src.mercs.core import MERCS\n",
    "from src.mercs.utils import *\n",
    "\n",
    "import src.datasets as datasets"
   ]
  },
  {
   "cell_type": "markdown",
   "metadata": {},
   "source": [
    "## Induction"
   ]
  },
  {
   "cell_type": "markdown",
   "metadata": {},
   "source": [
    "### Importing Data"
   ]
  },
  {
   "cell_type": "markdown",
   "metadata": {},
   "source": [
    "First, we import the fertility dataset."
   ]
  },
  {
   "cell_type": "code",
   "execution_count": 3,
   "metadata": {},
   "outputs": [],
   "source": [
    "train, test = datasets.load_fertility()"
   ]
  },
  {
   "cell_type": "code",
   "execution_count": 4,
   "metadata": {},
   "outputs": [
    {
     "data": {
      "text/html": [
       "<div>\n",
       "<style scoped>\n",
       "    .dataframe tbody tr th:only-of-type {\n",
       "        vertical-align: middle;\n",
       "    }\n",
       "\n",
       "    .dataframe tbody tr th {\n",
       "        vertical-align: top;\n",
       "    }\n",
       "\n",
       "    .dataframe thead th {\n",
       "        text-align: right;\n",
       "    }\n",
       "</style>\n",
       "<table border=\"1\" class=\"dataframe\">\n",
       "  <thead>\n",
       "    <tr style=\"text-align: right;\">\n",
       "      <th></th>\n",
       "      <th>season</th>\n",
       "      <th>age</th>\n",
       "      <th>child_diseases</th>\n",
       "      <th>accident</th>\n",
       "      <th>surgical_intervention</th>\n",
       "      <th>high_fever</th>\n",
       "      <th>alco</th>\n",
       "      <th>smoking</th>\n",
       "      <th>h_seating</th>\n",
       "      <th>diagnosis</th>\n",
       "    </tr>\n",
       "  </thead>\n",
       "  <tbody>\n",
       "    <tr>\n",
       "      <th>0</th>\n",
       "      <td>-0.33</td>\n",
       "      <td>0.69</td>\n",
       "      <td>0</td>\n",
       "      <td>1</td>\n",
       "      <td>1</td>\n",
       "      <td>0</td>\n",
       "      <td>0.8</td>\n",
       "      <td>0</td>\n",
       "      <td>0.88</td>\n",
       "      <td>1</td>\n",
       "    </tr>\n",
       "    <tr>\n",
       "      <th>1</th>\n",
       "      <td>-0.33</td>\n",
       "      <td>0.94</td>\n",
       "      <td>1</td>\n",
       "      <td>0</td>\n",
       "      <td>1</td>\n",
       "      <td>0</td>\n",
       "      <td>0.8</td>\n",
       "      <td>1</td>\n",
       "      <td>0.31</td>\n",
       "      <td>0</td>\n",
       "    </tr>\n",
       "    <tr>\n",
       "      <th>2</th>\n",
       "      <td>-0.33</td>\n",
       "      <td>0.50</td>\n",
       "      <td>1</td>\n",
       "      <td>0</td>\n",
       "      <td>0</td>\n",
       "      <td>0</td>\n",
       "      <td>1.0</td>\n",
       "      <td>-1</td>\n",
       "      <td>0.50</td>\n",
       "      <td>1</td>\n",
       "    </tr>\n",
       "    <tr>\n",
       "      <th>3</th>\n",
       "      <td>-0.33</td>\n",
       "      <td>0.75</td>\n",
       "      <td>0</td>\n",
       "      <td>1</td>\n",
       "      <td>1</td>\n",
       "      <td>0</td>\n",
       "      <td>1.0</td>\n",
       "      <td>-1</td>\n",
       "      <td>0.38</td>\n",
       "      <td>1</td>\n",
       "    </tr>\n",
       "    <tr>\n",
       "      <th>4</th>\n",
       "      <td>-0.33</td>\n",
       "      <td>0.67</td>\n",
       "      <td>1</td>\n",
       "      <td>1</td>\n",
       "      <td>0</td>\n",
       "      <td>0</td>\n",
       "      <td>0.8</td>\n",
       "      <td>-1</td>\n",
       "      <td>0.50</td>\n",
       "      <td>0</td>\n",
       "    </tr>\n",
       "  </tbody>\n",
       "</table>\n",
       "</div>"
      ],
      "text/plain": [
       "   season   age  child_diseases  accident  surgical_intervention  high_fever  \\\n",
       "0   -0.33  0.69               0         1                      1           0   \n",
       "1   -0.33  0.94               1         0                      1           0   \n",
       "2   -0.33  0.50               1         0                      0           0   \n",
       "3   -0.33  0.75               0         1                      1           0   \n",
       "4   -0.33  0.67               1         1                      0           0   \n",
       "\n",
       "   alco  smoking  h_seating  diagnosis  \n",
       "0   0.8        0       0.88          1  \n",
       "1   0.8        1       0.31          0  \n",
       "2   1.0       -1       0.50          1  \n",
       "3   1.0       -1       0.38          1  \n",
       "4   0.8       -1       0.50          0  "
      ]
     },
     "execution_count": 4,
     "metadata": {},
     "output_type": "execute_result"
    }
   ],
   "source": [
    "train.head()"
   ]
  },
  {
   "cell_type": "markdown",
   "metadata": {},
   "source": [
    "We observe that some attributes are nominal, whereas others appear numerical. MERCS can handle both, but nevertheless has to somehow figure out which attributes are which.\n",
    "\n",
    "This is, in general, very hard to do correctly and an A.I. problem in its own right (type inference). \n",
    "\n",
    "So we won't get into that. MERCS obeys a very, very simple policy, i.e.: sklearn assumptions. Let us demonstrate."
   ]
  },
  {
   "cell_type": "code",
   "execution_count": 6,
   "metadata": {},
   "outputs": [
    {
     "name": "stdout",
     "output_type": "stream",
     "text": [
      "\n",
      "        metadata of our model is: {'is_nominal': array([0, 0, 1, 1, 1, 1, 0, 1, 0, 1]), 'nb_atts': 10, 'nb_tuples': 70, 'nb_values': array([ 3, 14,  2,  2,  2,  3,  5,  3, 13,  2])}\n",
      "        \n",
      "\n"
     ]
    },
    {
     "name": "stderr",
     "output_type": "stream",
     "text": [
      "../src/mercs/utils/debug.py:21: UserWarning: New_labels are: None\n",
      "Type new_labels is: <class 'NoneType'>\n",
      "\n",
      "\n",
      "  warnings.warn(msg+\"\\n\")\n",
      "../src/mercs/utils/debug.py:21: UserWarning: Old_labels are: ['default']\n",
      "Type old_labels is: <class 'list'>\n",
      "\n",
      "\n",
      "  warnings.warn(msg+\"\\n\")\n"
     ]
    },
    {
     "ename": "AssertionError",
     "evalue": "",
     "output_type": "error",
     "traceback": [
      "\u001b[0;31m---------------------------------------------------------------------------\u001b[0m",
      "\u001b[0;31mAssertionError\u001b[0m                            Traceback (most recent call last)",
      "\u001b[0;32m<ipython-input-6-767c490ade54>\u001b[0m in \u001b[0;36m<module>\u001b[0;34m()\u001b[0m\n\u001b[1;32m      1\u001b[0m \u001b[0mmodel\u001b[0m \u001b[0;34m=\u001b[0m \u001b[0mMERCS\u001b[0m\u001b[0;34m(\u001b[0m\u001b[0;34m)\u001b[0m\u001b[0;34m\u001b[0m\u001b[0m\n\u001b[0;32m----> 2\u001b[0;31m \u001b[0mmodel\u001b[0m\u001b[0;34m.\u001b[0m\u001b[0mfit\u001b[0m\u001b[0;34m(\u001b[0m\u001b[0mtrain\u001b[0m\u001b[0;34m)\u001b[0m\u001b[0;34m\u001b[0m\u001b[0m\n\u001b[0m",
      "\u001b[0;32m/cw/dtailocal/Files/git/mercs-v5/src/mercs/core/MERCS.py\u001b[0m in \u001b[0;36mfit\u001b[0;34m(self, X, **kwargs)\u001b[0m\n\u001b[1;32m     87\u001b[0m         \u001b[0;31m# 3. Post processing\u001b[0m\u001b[0;34m\u001b[0m\u001b[0;34m\u001b[0m\u001b[0m\n\u001b[1;32m     88\u001b[0m         \u001b[0mtock\u001b[0m \u001b[0;34m=\u001b[0m \u001b[0mdefault_timer\u001b[0m\u001b[0;34m(\u001b[0m\u001b[0;34m)\u001b[0m\u001b[0;34m\u001b[0m\u001b[0m\n\u001b[0;32m---> 89\u001b[0;31m         \u001b[0mself\u001b[0m\u001b[0;34m.\u001b[0m\u001b[0mupdate_settings\u001b[0m\u001b[0;34m(\u001b[0m\u001b[0mmode\u001b[0m\u001b[0;34m=\u001b[0m\u001b[0;34m'metadata'\u001b[0m\u001b[0;34m)\u001b[0m   \u001b[0;31m# Save info on learned models\u001b[0m\u001b[0;34m\u001b[0m\u001b[0m\n\u001b[0m\u001b[1;32m     90\u001b[0m         \u001b[0mself\u001b[0m\u001b[0;34m.\u001b[0m\u001b[0mupdate_settings\u001b[0m\u001b[0;34m(\u001b[0m\u001b[0mmode\u001b[0m\u001b[0;34m=\u001b[0m\u001b[0;34m'model_data'\u001b[0m\u001b[0;34m,\u001b[0m \u001b[0mmod_ind_time\u001b[0m\u001b[0;34m=\u001b[0m\u001b[0mtock\u001b[0m\u001b[0;34m-\u001b[0m\u001b[0mtick\u001b[0m\u001b[0;34m)\u001b[0m\u001b[0;34m\u001b[0m\u001b[0m\n\u001b[1;32m     91\u001b[0m \u001b[0;34m\u001b[0m\u001b[0m\n",
      "\u001b[0;32m/cw/dtailocal/Files/git/mercs-v5/src/mercs/core/MERCS.py\u001b[0m in \u001b[0;36mupdate_settings\u001b[0;34m(self, mode, delimiter, **kwargs)\u001b[0m\n\u001b[1;32m    299\u001b[0m             self.s['metadata'] = update_meta_data(self.s['metadata'],\n\u001b[1;32m    300\u001b[0m                                                   \u001b[0mself\u001b[0m\u001b[0;34m.\u001b[0m\u001b[0mm_list\u001b[0m\u001b[0;34m,\u001b[0m\u001b[0;34m\u001b[0m\u001b[0m\n\u001b[0;32m--> 301\u001b[0;31m                                                   self.m_codes)\n\u001b[0m\u001b[1;32m    302\u001b[0m         \u001b[0;32melif\u001b[0m \u001b[0mmode\u001b[0m \u001b[0;32min\u001b[0m \u001b[0;34m{\u001b[0m\u001b[0;34m'model_data'\u001b[0m\u001b[0;34m}\u001b[0m\u001b[0;34m:\u001b[0m\u001b[0;34m\u001b[0m\u001b[0m\n\u001b[1;32m    303\u001b[0m             self.s['model_data'] = filter_kwargs_update_settings(self.s['model_data'],\n",
      "\u001b[0;32m/cw/dtailocal/Files/git/mercs-v5/src/mercs/settings/settings.py\u001b[0m in \u001b[0;36mupdate_meta_data\u001b[0;34m(s, m_list, m_codes)\u001b[0m\n\u001b[1;32m     48\u001b[0m     \"\"\"\n\u001b[1;32m     49\u001b[0m \u001b[0;34m\u001b[0m\u001b[0m\n\u001b[0;32m---> 50\u001b[0;31m     \u001b[0ms\u001b[0m\u001b[0;34m[\u001b[0m\u001b[0;34m'clf_labels'\u001b[0m\u001b[0;34m]\u001b[0m \u001b[0;34m=\u001b[0m \u001b[0mcollect_and_verify_clf_classlabels\u001b[0m\u001b[0;34m(\u001b[0m\u001b[0mm_list\u001b[0m\u001b[0;34m,\u001b[0m \u001b[0mm_codes\u001b[0m\u001b[0;34m)\u001b[0m\u001b[0;34m\u001b[0m\u001b[0m\n\u001b[0m\u001b[1;32m     51\u001b[0m     \u001b[0ms\u001b[0m\u001b[0;34m[\u001b[0m\u001b[0;34m'FI'\u001b[0m\u001b[0;34m]\u001b[0m \u001b[0;34m=\u001b[0m \u001b[0mcollect_FI\u001b[0m\u001b[0;34m(\u001b[0m\u001b[0mm_list\u001b[0m\u001b[0;34m,\u001b[0m \u001b[0mm_codes\u001b[0m\u001b[0;34m)\u001b[0m\u001b[0;34m\u001b[0m\u001b[0m\n\u001b[1;32m     52\u001b[0m \u001b[0;34m\u001b[0m\u001b[0m\n",
      "\u001b[0;32m/cw/dtailocal/Files/git/mercs-v5/src/mercs/utils/utils.py\u001b[0m in \u001b[0;36mcollect_and_verify_clf_classlabels\u001b[0;34m(m_list, m_codes)\u001b[0m\n\u001b[1;32m    181\u001b[0m \u001b[0;34m\u001b[0m\u001b[0m\n\u001b[1;32m    182\u001b[0m         \u001b[0;31m# Verify all the classlabels\u001b[0m\u001b[0;34m\u001b[0m\u001b[0;34m\u001b[0m\u001b[0m\n\u001b[0;32m--> 183\u001b[0;31m         \u001b[0mclf_labels\u001b[0m \u001b[0;34m=\u001b[0m \u001b[0mupdate_clf_labels\u001b[0m\u001b[0;34m(\u001b[0m\u001b[0mclf_labels\u001b[0m\u001b[0;34m,\u001b[0m \u001b[0mm_classlabels\u001b[0m\u001b[0;34m,\u001b[0m \u001b[0mm_targ\u001b[0m\u001b[0;34m[\u001b[0m\u001b[0mm_idx\u001b[0m\u001b[0;34m]\u001b[0m\u001b[0;34m)\u001b[0m\u001b[0;34m\u001b[0m\u001b[0m\n\u001b[0m\u001b[1;32m    184\u001b[0m \u001b[0;34m\u001b[0m\u001b[0m\n\u001b[1;32m    185\u001b[0m     \u001b[0;32mreturn\u001b[0m \u001b[0mclf_labels\u001b[0m\u001b[0;34m\u001b[0m\u001b[0m\n",
      "\u001b[0;32m/cw/dtailocal/Files/git/mercs-v5/src/mercs/utils/utils.py\u001b[0m in \u001b[0;36mupdate_clf_labels\u001b[0;34m(clf_labels, m_classlabels, m_targ)\u001b[0m\n\u001b[1;32m    282\u001b[0m \u001b[0;34m\u001b[0m\u001b[0m\n\u001b[1;32m    283\u001b[0m         \u001b[0;32massert\u001b[0m \u001b[0misinstance\u001b[0m\u001b[0;34m(\u001b[0m\u001b[0mold_labels\u001b[0m\u001b[0;34m,\u001b[0m \u001b[0;34m(\u001b[0m\u001b[0mlist\u001b[0m\u001b[0;34m,\u001b[0m \u001b[0mnp\u001b[0m\u001b[0;34m.\u001b[0m\u001b[0mndarray\u001b[0m\u001b[0;34m)\u001b[0m\u001b[0;34m)\u001b[0m\u001b[0;34m\u001b[0m\u001b[0m\n\u001b[0;32m--> 284\u001b[0;31m         \u001b[0;32massert\u001b[0m \u001b[0misinstance\u001b[0m\u001b[0;34m(\u001b[0m\u001b[0mnew_labels\u001b[0m\u001b[0;34m,\u001b[0m \u001b[0;34m(\u001b[0m\u001b[0mlist\u001b[0m\u001b[0;34m,\u001b[0m \u001b[0mnp\u001b[0m\u001b[0;34m.\u001b[0m\u001b[0mndarray\u001b[0m\u001b[0;34m)\u001b[0m\u001b[0;34m)\u001b[0m\u001b[0;34m\u001b[0m\u001b[0m\n\u001b[0m\u001b[1;32m    285\u001b[0m \u001b[0;34m\u001b[0m\u001b[0m\n\u001b[1;32m    286\u001b[0m         \u001b[0;32mif\u001b[0m \u001b[0misinstance\u001b[0m\u001b[0;34m(\u001b[0m\u001b[0mold_labels\u001b[0m\u001b[0;34m,\u001b[0m \u001b[0mlist\u001b[0m\u001b[0;34m)\u001b[0m\u001b[0;34m:\u001b[0m\u001b[0;34m\u001b[0m\u001b[0m\n",
      "\u001b[0;31mAssertionError\u001b[0m: "
     ]
    }
   ],
   "source": [
    "model = MERCS()\n",
    "model.fit(train)"
   ]
  },
  {
   "cell_type": "markdown",
   "metadata": {},
   "source": [
    "Let us see what happened here. MERCS remembers some useful things about the datasets it encounters. Amongst which, the classlabels. Since a numeric type has no classlabels in the real sense of the word, MERCS uses a placeholder there.\n",
    "\n",
    "Nevertheless, the classlabels-datastructure present in MERCS tells us all we need to know."
   ]
  },
  {
   "cell_type": "code",
   "execution_count": null,
   "metadata": {},
   "outputs": [],
   "source": [
    "model.s['metadata']['clf_labels']"
   ]
  },
  {
   "cell_type": "markdown",
   "metadata": {},
   "source": [
    "So, what about the assumptions? Well, 2 things:\n",
    "\n",
    "    1) They work\n",
    "        Training went well, without any issues. This tells us that MERCS at least makes assumptions that ensure the component models can handle the data that they are fed and the outputs that they are expected to provide\n",
    "    2) They're too simple\n",
    "        The assumptions do not really correspond to reality, as we will see.\n",
    "        \n",
    "        \n",
    "To see for ourselves how these assumptions compare to reality, let us simply look at reality. How many unique values are present in the DataFrame we provided?\n",
    "  "
   ]
  },
  {
   "cell_type": "code",
   "execution_count": null,
   "metadata": {},
   "outputs": [],
   "source": [
    "train.nunique()"
   ]
  },
  {
   "cell_type": "markdown",
   "metadata": {},
   "source": [
    "It seems like MERCS made a mistake in the first attribute, `season`. MERCS thinks it is numeric, but it really appears more of a nominal attribute. All the rest seems to correspond.\n",
    "\n",
    "How did this happen?\n",
    "\n",
    "Well, MERCS knowns about numeric and nominal, and makes it decisions in utils.py, in the method `get_metadata_df`. \n",
    "\n",
    "An attribute is `numeric`\n",
    "\n",
    "UNLESS:\n",
    "\n",
    "    1) Its type is `int` (necessary for sklearn)\n",
    "    2) It has 10 or less distinct values (this is a choice made by MERCS)"
   ]
  },
  {
   "cell_type": "markdown",
   "metadata": {},
   "source": [
    "We can solve this by simple preprocessing and converting season to ints."
   ]
  },
  {
   "cell_type": "code",
   "execution_count": null,
   "metadata": {},
   "outputs": [],
   "source": [
    "train['season'] = pd.factorize(train['season'])[0]\n",
    "train.head()"
   ]
  },
  {
   "cell_type": "code",
   "execution_count": null,
   "metadata": {},
   "outputs": [],
   "source": [
    "train.dtypes"
   ]
  },
  {
   "cell_type": "code",
   "execution_count": null,
   "metadata": {},
   "outputs": [],
   "source": [
    "model.fit(train)\n",
    "model.s['metadata']['clf_labels']"
   ]
  },
  {
   "cell_type": "markdown",
   "metadata": {},
   "source": [
    "### Preprocessing\n",
    "\n",
    "Let us take this again from the top."
   ]
  },
  {
   "cell_type": "code",
   "execution_count": null,
   "metadata": {
    "collapsed": true
   },
   "outputs": [],
   "source": [
    "train, test = datasets.load_fertility()\n",
    "\n",
    "train['season'] = pd.factorize(train['season'])[0]\n",
    "test['season'] = pd.factorize(test['season'])[0]"
   ]
  },
  {
   "cell_type": "markdown",
   "metadata": {},
   "source": [
    "### Training"
   ]
  },
  {
   "cell_type": "code",
   "execution_count": 7,
   "metadata": {
    "collapsed": true
   },
   "outputs": [],
   "source": [
    "model = MERCS()"
   ]
  },
  {
   "cell_type": "code",
   "execution_count": 8,
   "metadata": {
    "collapsed": true
   },
   "outputs": [],
   "source": [
    "ind_parameters = {'ind_type':           'RF',\n",
    "                  'ind_n_estimators':   10,\n",
    "                  'ind_max_depth':      4}\n",
    "\n",
    "sel_parameters = {'sel_type':           'Base',\n",
    "                  'sel_its':            8,\n",
    "                  'sel_param':          1}"
   ]
  },
  {
   "cell_type": "code",
   "execution_count": 9,
   "metadata": {},
   "outputs": [
    {
     "name": "stdout",
     "output_type": "stream",
     "text": [
      "\n",
      "        metadata of our model is: {'is_nominal': array([0, 0, 1, 1, 1, 1, 0, 1, 0, 1]), 'nb_atts': 10, 'nb_tuples': 70, 'nb_values': array([ 3, 14,  2,  2,  2,  3,  5,  3, 13,  2])}\n",
      "        \n",
      "\n"
     ]
    },
    {
     "name": "stderr",
     "output_type": "stream",
     "text": [
      "../src/mercs/utils/debug.py:21: UserWarning: New_labels are: [0. 1.]\n",
      "Type new_labels is: <class 'numpy.ndarray'>\n",
      "\n",
      "\n",
      "  warnings.warn(msg+\"\\n\")\n",
      "../src/mercs/utils/debug.py:21: UserWarning: Old_labels are: ['default']\n",
      "Type old_labels is: <class 'list'>\n",
      "\n",
      "\n",
      "  warnings.warn(msg+\"\\n\")\n",
      "../src/mercs/utils/debug.py:21: UserWarning: New_labels are: ['numeric']\n",
      "Type new_labels is: <class 'list'>\n",
      "\n",
      "\n",
      "  warnings.warn(msg+\"\\n\")\n",
      "../src/mercs/utils/debug.py:21: UserWarning: New_labels are: [-1.  0.  1.]\n",
      "Type new_labels is: <class 'numpy.ndarray'>\n",
      "\n",
      "\n",
      "  warnings.warn(msg+\"\\n\")\n",
      "../src/mercs/utils/debug.py:21: UserWarning: Old_labels are: [-1.  0.  1.]\n",
      "Type old_labels is: <class 'numpy.ndarray'>\n",
      "\n",
      "\n",
      "  warnings.warn(msg+\"\\n\")\n",
      "../src/mercs/utils/debug.py:21: UserWarning: Old_labels are: ['numeric']\n",
      "Type old_labels is: <class 'list'>\n",
      "\n",
      "\n",
      "  warnings.warn(msg+\"\\n\")\n",
      "../src/mercs/utils/debug.py:21: UserWarning: Old_labels are: [0. 1.]\n",
      "Type old_labels is: <class 'numpy.ndarray'>\n",
      "\n",
      "\n",
      "  warnings.warn(msg+\"\\n\")\n"
     ]
    }
   ],
   "source": [
    "model.fit(train, **ind_parameters, **sel_parameters)"
   ]
  },
  {
   "cell_type": "markdown",
   "metadata": {},
   "source": [
    "## Introspection"
   ]
  },
  {
   "cell_type": "markdown",
   "metadata": {},
   "source": [
    "### Identification of types\n",
    "\n",
    "MERCS makes some decisions regarding the attribute types automatically."
   ]
  },
  {
   "cell_type": "code",
   "execution_count": null,
   "metadata": {},
   "outputs": [],
   "source": [
    "model.s['metadata']['clf_labels']"
   ]
  },
  {
   "cell_type": "code",
   "execution_count": null,
   "metadata": {},
   "outputs": [],
   "source": [
    "model.s['metadata']['nb_values']"
   ]
  },
  {
   "cell_type": "markdown",
   "metadata": {},
   "source": [
    "## Inference"
   ]
  },
  {
   "cell_type": "markdown",
   "metadata": {},
   "source": [
    "### Prediction"
   ]
  },
  {
   "cell_type": "code",
   "execution_count": null,
   "metadata": {},
   "outputs": [],
   "source": [
    "code = [0]*nb_atts\n",
    "code[-2] = 1\n",
    "print(code)\n",
    "\n",
    "target_boolean = np.array(code) == 1\n",
    "y_true = test[test.columns.values[target_boolean]].values"
   ]
  },
  {
   "cell_type": "code",
   "execution_count": null,
   "metadata": {
    "collapsed": true
   },
   "outputs": [],
   "source": [
    "pred_parameters = {'pred_type':     'IT',\n",
    "                   'pred_param':    0.1,\n",
    "                   'pred_its':      4}"
   ]
  },
  {
   "cell_type": "code",
   "execution_count": null,
   "metadata": {},
   "outputs": [],
   "source": [
    "y_pred = model.predict(test,\n",
    "                       **pred_parameters,\n",
    "                       qry_code=code)"
   ]
  },
  {
   "cell_type": "code",
   "execution_count": null,
   "metadata": {
    "scrolled": true
   },
   "outputs": [],
   "source": [
    "y_pred"
   ]
  },
  {
   "cell_type": "markdown",
   "metadata": {},
   "source": [
    "### Evaluation "
   ]
  },
  {
   "cell_type": "code",
   "execution_count": null,
   "metadata": {},
   "outputs": [],
   "source": [
    "clf_labels_targets = [model.s['metadata']['clf_labels'][t]\n",
    "                      for t, check in enumerate(target_boolean)\n",
    "                      if check]\n",
    "\n",
    "clf_labels_targets "
   ]
  },
  {
   "cell_type": "code",
   "execution_count": null,
   "metadata": {
    "collapsed": true
   },
   "outputs": [],
   "source": [
    "def verify_numeric_prediction(y_true, y_pred):\n",
    "    obs_1 = mean_absolute_error(y_true, y_pred)\n",
    "    obs_2 = mean_squared_error(y_true, y_pred)\n",
    "    obs_3 = mean_squared_log_error(y_true, y_pred)\n",
    "\n",
    "    obs = [obs_1, obs_2, obs_3]\n",
    "\n",
    "    for o in obs:\n",
    "        assert isinstance(o, (int, float))\n",
    "        assert 0 <= o \n",
    "    return"
   ]
  },
  {
   "cell_type": "code",
   "execution_count": null,
   "metadata": {
    "collapsed": true
   },
   "outputs": [],
   "source": [
    "def verify_nominal_prediction(y_true, y_pred):\n",
    "    obs = f1_score(y_true, y_pred, average='macro')\n",
    "\n",
    "    assert isinstance(obs, (int, float))\n",
    "    assert 0 <= obs <= 1\n",
    "    return"
   ]
  },
  {
   "cell_type": "code",
   "execution_count": null,
   "metadata": {
    "collapsed": true
   },
   "outputs": [],
   "source": [
    "# Ensure every target is nominal\n",
    "for t_idx, clf_labels_targ in clf_labels_targets:\n",
    "    single_y_true = y_true[:][t_idx]\n",
    "    single_y_pred = y_pred[:][t_idx]\n",
    "    \n",
    "    if isinstance(clf_labels_targ, np.ndarray):\n",
    "        # Nominal target\n",
    "        verify_nominal_prediction(single_y_true, single_y_pred)\n",
    "    elif isinstance(clf_labels_targ, list):\n",
    "        # Numeric target\n",
    "        assert clf_labels_targ == ['numeric']\n",
    "        \n",
    "        verify_numeric_prediction(single_y_pred, single_y_pred)\n",
    "    else:\n",
    "        msg = \"\"\"clf_labels of MERCS are either:\\n\n",
    "        np.ndarray, shape (classlabels,)\\n\n",
    "        \\t for nominal attributes\\n\n",
    "        list, shape (1,)\\n\n",
    "        \\t ['numeric] for numeric attributes \\n\"\"\"\n",
    "        raise TypeError(msg)"
   ]
  }
 ],
 "metadata": {
  "kernelspec": {
   "display_name": "Python [default]",
   "language": "python",
   "name": "python3"
  },
  "language_info": {
   "codemirror_mode": {
    "name": "ipython",
    "version": 3
   },
   "file_extension": ".py",
   "mimetype": "text/x-python",
   "name": "python",
   "nbconvert_exporter": "python",
   "pygments_lexer": "ipython3",
   "version": "3.6.1"
  },
  "toc": {
   "nav_menu": {},
   "number_sections": true,
   "sideBar": true,
   "skip_h1_title": true,
   "toc_cell": false,
   "toc_position": {},
   "toc_section_display": "block",
   "toc_window_display": true
  }
 },
 "nbformat": 4,
 "nbformat_minor": 2
}
