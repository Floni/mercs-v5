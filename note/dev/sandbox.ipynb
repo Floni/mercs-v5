{
 "cells": [
  {
   "cell_type": "markdown",
   "metadata": {},
   "source": [
    "# Sandbox"
   ]
  },
  {
   "cell_type": "markdown",
   "metadata": {},
   "source": [
    "## Imports"
   ]
  },
  {
   "cell_type": "code",
   "execution_count": 3,
   "metadata": {
    "collapsed": true
   },
   "outputs": [],
   "source": [
    "import numpy as np"
   ]
  },
  {
   "cell_type": "code",
   "execution_count": 13,
   "metadata": {},
   "outputs": [
    {
     "data": {
      "text/plain": [
       "array([[0, 0, 0, 0, 1],\n",
       "       [0, 0, 0, 1, 0],\n",
       "       [1, 1, 1, 0, 0]])"
      ]
     },
     "execution_count": 13,
     "metadata": {},
     "output_type": "execute_result"
    }
   ],
   "source": [
    "nb_mods, nb_atts = 3, 5\n",
    "m_codes = np.full((nb_mods, nb_atts), 0)\n",
    "m_codes[0, -1] = 1\n",
    "m_codes[1, -2] = 1\n",
    "m_codes[2, 0:3] = 1\n",
    "m_codes"
   ]
  },
  {
   "cell_type": "code",
   "execution_count": 66,
   "metadata": {},
   "outputs": [
    {
     "data": {
      "text/plain": [
       "array([[0.60188505, 0.17107253, 0.47319722, 0.26040707, 0.        ],\n",
       "       [0.30522709, 0.35192279, 0.73936948, 0.        , 0.36505242],\n",
       "       [0.        , 0.        , 0.        , 0.60089963, 0.33067662]])"
      ]
     },
     "execution_count": 66,
     "metadata": {},
     "output_type": "execute_result"
    }
   ],
   "source": [
    "fi = np.random.rand(nb_mods, nb_atts)\n",
    "fi[m_codes != 0] = 0\n",
    "fi"
   ]
  },
  {
   "cell_type": "code",
   "execution_count": 69,
   "metadata": {},
   "outputs": [],
   "source": [
    "class Yolo():\n",
    "    def __init__(self):\n",
    "        self.first_name = 'Yorrick'\n",
    "        self.last_name = 'Lodewyckx'"
   ]
  },
  {
   "cell_type": "code",
   "execution_count": 70,
   "metadata": {
    "collapsed": true
   },
   "outputs": [],
   "source": [
    "yt = Yolo()"
   ]
  },
  {
   "cell_type": "code",
   "execution_count": 102,
   "metadata": {},
   "outputs": [
    {
     "ename": "NameError",
     "evalue": "name 'attributes' is not defined",
     "output_type": "error",
     "traceback": [
      "\u001b[0;31m---------------------------------------------------------------------------\u001b[0m",
      "\u001b[0;31mNameError\u001b[0m                                 Traceback (most recent call last)",
      "\u001b[0;32m<ipython-input-102-7ed7a14b6d03>\u001b[0m in \u001b[0;36m<module>\u001b[0;34m()\u001b[0m\n\u001b[0;32m----> 1\u001b[0;31m \u001b[0mattributes\u001b[0m\u001b[0;34m(\u001b[0m\u001b[0myt\u001b[0m\u001b[0;34m)\u001b[0m\u001b[0;34m\u001b[0m\u001b[0m\n\u001b[0m",
      "\u001b[0;31mNameError\u001b[0m: name 'attributes' is not defined"
     ]
    }
   ],
   "source": [
    "attributes(yt)"
   ]
  },
  {
   "cell_type": "code",
   "execution_count": 20,
   "metadata": {
    "collapsed": true
   },
   "outputs": [],
   "source": [
    "avl_m_codes = np.array([[0, 0, 1, 0, 0, 0, 0, 0, 0],\n",
    "                     [0, 1, 0, 0, 1, 0, 0, 0, 0],\n",
    "                     [0, 0, 0, 0, 0, 1, 1, 0, 0]])"
   ]
  },
  {
   "cell_type": "code",
   "execution_count": 34,
   "metadata": {},
   "outputs": [
    {
     "data": {
      "text/plain": [
       "array([0, 0])"
      ]
     },
     "execution_count": 34,
     "metadata": {},
     "output_type": "execute_result"
    }
   ],
   "source": [
    "filt_1 = avl_m_codes[[0,2], [0,2]]\n",
    "filt_1"
   ]
  },
  {
   "cell_type": "code",
   "execution_count": 35,
   "metadata": {},
   "outputs": [
    {
     "data": {
      "text/plain": [
       "array([[0, 1],\n",
       "       [0, 0]])"
      ]
     },
     "execution_count": 35,
     "metadata": {},
     "output_type": "execute_result"
    }
   ],
   "source": [
    "filt_2 = avl_m_codes[np.ix_([0,2],[1,2])]\n",
    "filt_2"
   ]
  },
  {
   "cell_type": "code",
   "execution_count": 38,
   "metadata": {},
   "outputs": [
    {
     "name": "stdout",
     "output_type": "stream",
     "text": [
      "1\n",
      "2\n",
      "3\n",
      "4\n",
      "5\n",
      "6\n",
      "7\n",
      "8\n",
      "9\n",
      "10\n"
     ]
    }
   ],
   "source": [
    "done = False\n",
    "x=0\n",
    "while not done:\n",
    "    x+=1\n",
    "    print(x)\n",
    "    done = x==10"
   ]
  },
  {
   "cell_type": "code",
   "execution_count": 18,
   "metadata": {},
   "outputs": [
    {
     "data": {
      "text/plain": [
       "[5, 4, 3, 2, 1]"
      ]
     },
     "execution_count": 18,
     "metadata": {},
     "output_type": "execute_result"
    }
   ],
   "source": [
    "steps = list(range(1,5+1))\n",
    "steps.reverse()\n",
    "steps"
   ]
  },
  {
   "cell_type": "code",
   "execution_count": 22,
   "metadata": {},
   "outputs": [
    {
     "data": {
      "text/plain": [
       "array([-1, -1, -1, -1])"
      ]
     },
     "execution_count": 22,
     "metadata": {},
     "output_type": "execute_result"
    }
   ],
   "source": [
    "mas = np.array([-1]*4)\n",
    "mas"
   ]
  },
  {
   "cell_type": "code",
   "execution_count": 26,
   "metadata": {},
   "outputs": [
    {
     "data": {
      "text/plain": [
       "array([ 0,  0, -1, -1])"
      ]
     },
     "execution_count": 26,
     "metadata": {},
     "output_type": "execute_result"
    }
   ],
   "source": [
    "mas[mas_mi==-1]=0\n",
    "mas[mas_mi==1]=-1\n",
    "mas"
   ]
  },
  {
   "cell_type": "code",
   "execution_count": 42,
   "metadata": {},
   "outputs": [
    {
     "data": {
      "text/plain": [
       "array([[ 0,  0,  1],\n",
       "       [ 0,  1,  1],\n",
       "       [ 0, -1,  1]])"
      ]
     },
     "execution_count": 42,
     "metadata": {},
     "output_type": "execute_result"
    }
   ],
   "source": [
    "avl_m_codes = [[0, 0,1],\n",
    "               [0, 1,1],\n",
    "               [0,-1,1]]\n",
    "avl_m_codes = np.array(avl_m_codes)\n",
    "avl_m_codes"
   ]
  },
  {
   "cell_type": "code",
   "execution_count": 57,
   "metadata": {},
   "outputs": [
    {
     "ename": "SyntaxError",
     "evalue": "invalid syntax (<ipython-input-57-f4f4e460e4e1>, line 2)",
     "output_type": "error",
     "traceback": [
      "\u001b[0;36m  File \u001b[0;32m\"<ipython-input-57-f4f4e460e4e1>\"\u001b[0;36m, line \u001b[0;32m2\u001b[0m\n\u001b[0;31m    3.tolist()\u001b[0m\n\u001b[0m           ^\u001b[0m\n\u001b[0;31mSyntaxError\u001b[0m\u001b[0;31m:\u001b[0m invalid syntax\n"
     ]
    }
   ],
   "source": []
  },
  {
   "cell_type": "code",
   "execution_count": 54,
   "metadata": {
    "collapsed": true
   },
   "outputs": [],
   "source": [
    "act_atts = np.array([0,1,2])\n",
    "targ_encoding = 0"
   ]
  },
  {
   "cell_type": "code",
   "execution_count": 55,
   "metadata": {},
   "outputs": [
    {
     "data": {
      "text/plain": [
       "2"
      ]
     },
     "execution_count": 55,
     "metadata": {},
     "output_type": "execute_result"
    }
   ],
   "source": [
    "np.sum(m_code[act_atts] == targ_encoding)"
   ]
  },
  {
   "cell_type": "code",
   "execution_count": 51,
   "metadata": {},
   "outputs": [
    {
     "data": {
      "text/plain": [
       "1"
      ]
     },
     "execution_count": 51,
     "metadata": {},
     "output_type": "execute_result"
    }
   ],
   "source": [
    "(m_code[act_atts] == targ_encoding).any().astype(int)"
   ]
  },
  {
   "cell_type": "code",
   "execution_count": 37,
   "metadata": {},
   "outputs": [
    {
     "data": {
      "text/plain": [
       "array([0, 0, 1, 2])"
      ]
     },
     "execution_count": 37,
     "metadata": {},
     "output_type": "execute_result"
    }
   ],
   "source": [
    "act_mods_idx = np.where(avl_m_codes[:, [0,1]] == 0)[0]\n",
    "act_mods_idx"
   ]
  },
  {
   "cell_type": "code",
   "execution_count": 39,
   "metadata": {
    "collapsed": true
   },
   "outputs": [],
   "source": [
    "unique, counts = np.unique(act_mods_idx, return_counts=True)"
   ]
  },
  {
   "cell_type": "code",
   "execution_count": 40,
   "metadata": {},
   "outputs": [
    {
     "data": {
      "text/plain": [
       "array([2, 1, 1])"
      ]
     },
     "execution_count": 40,
     "metadata": {},
     "output_type": "execute_result"
    }
   ],
   "source": [
    "counts"
   ]
  },
  {
   "cell_type": "code",
   "execution_count": 16,
   "metadata": {
    "collapsed": true
   },
   "outputs": [],
   "source": [
    "def mi_setup():\n",
    "    nb_mods, nb_atts = 3, 5\n",
    "    nb_qrys = nb_atts # One query per attribute\n",
    "\n",
    "    m_codes = np.full((nb_mods, nb_atts), 0)\n",
    "    m_codes[0, -1] = 1\n",
    "    m_codes[1, -2] = 1\n",
    "    m_codes[2, 0:3] = 1\n",
    "\n",
    "    q_codes = np.eye(nb_atts, dtype=int)\n",
    "\n",
    "    return nb_mods, nb_atts, nb_qrys, m_codes, q_codes"
   ]
  },
  {
   "cell_type": "code",
   "execution_count": 17,
   "metadata": {
    "collapsed": true
   },
   "outputs": [],
   "source": [
    "nb_mods, nb_atts, nb_qrys, m_codes, q_codes = mi_setup()"
   ]
  },
  {
   "cell_type": "code",
   "execution_count": 21,
   "metadata": {
    "code_folding": [
     0,
     20
    ],
    "collapsed": true
   },
   "outputs": [],
   "source": [
    "def mi_pred_algo(m_codes, q_codes):\n",
    "\n",
    "    assert isinstance(m_codes, np.ndarray)\n",
    "    assert isinstance(q_codes, np.ndarray)\n",
    "    assert m_codes.shape[1] == q_codes.shape[1]\n",
    "\n",
    "    # Preliminaries\n",
    "    nb_mods, nb_atts, nb_qrys, m_desc, m_targ, q_desc, q_targ = _pred_prelims(m_codes,\n",
    "                                                                              q_codes)\n",
    "    mas, aas = _init_mas_aas_np(nb_mods, nb_atts, nb_qrys)\n",
    "\n",
    "    for q_idx in range(nb_qrys):\n",
    "        aas[q_idx], mas[q_idx] = _mi_pred_algo_single_qry(aas[q_idx],\n",
    "                                                          mas[q_idx],\n",
    "                                                          q_desc[q_idx],\n",
    "                                                          q_targ[q_idx],\n",
    "                                                          m_codes)\n",
    "\n",
    "    return mas, aas\n",
    "\n",
    "def _pred_prelims(m_codes, q_codes):\n",
    "    \"\"\"\n",
    "    Extract some useful quantities every prediction strategy needs\n",
    "\n",
    "    Parameters\n",
    "    ----------\n",
    "    m_codes: np.ndarray, shape (nb_models, nb_atts)\n",
    "        Two-dimensional np.ndarray where each row encodes a model of the MERCS\n",
    "        ensemble.\n",
    "    q_codes: np.ndarray, shape (nb_queries, nb_atts)\n",
    "        Two-dimensional np.ndarray where each row encodes a query.\n",
    "\n",
    "    Returns\n",
    "    -------\n",
    "\n",
    "    \"\"\"\n",
    "\n",
    "    assert isinstance(m_codes, np.ndarray)\n",
    "    assert isinstance(q_codes, np.ndarray)\n",
    "\n",
    "    nb_models, nb_atts = m_codes.shape\n",
    "    nb_queries = q_codes.shape[0]\n",
    "\n",
    "    m_desc, m_targ, _ = codes_to_query(m_codes)\n",
    "    q_desc, q_targ, _ = codes_to_query(q_codes)\n",
    "\n",
    "    return nb_models, nb_atts, nb_queries, m_desc, m_targ, q_desc, q_targ"
   ]
  },
  {
   "cell_type": "code",
   "execution_count": 24,
   "metadata": {
    "code_folding": [],
    "collapsed": true
   },
   "outputs": [],
   "source": [
    "aas= np.array([-1,-1,-1,0,1])"
   ]
  },
  {
   "cell_type": "code",
   "execution_count": 39,
   "metadata": {},
   "outputs": [
    {
     "data": {
      "text/plain": [
       "array([3])"
      ]
     },
     "execution_count": 39,
     "metadata": {},
     "output_type": "execute_result"
    }
   ],
   "source": [
    "avl_atts = np.where((0<=aas)&(aas<1))[0]\n",
    "avl_atts"
   ]
  },
  {
   "cell_type": "code",
   "execution_count": 19,
   "metadata": {
    "code_folding": [],
    "collapsed": true
   },
   "outputs": [],
   "source": [
    "def _mi_pred_algo_single_qry(aas, mas, q_desc, q_targ, m_codes):\n",
    "    assert isinstance(aas, np.ndarray)\n",
    "    assert isinstance(mas, np.ndarray)\n",
    "    assert len(mas.shape) == len(aas.shape) == 1\n",
    "    \n",
    "    # Initialization\n",
    "    aas[q_desc] = 0\n",
    "    \n",
    "    # Attribute consideration\n",
    "    \n",
    "    \n",
    "    # Model consideration\n",
    "\n",
    "    # Model activation\n",
    "    relevant_models = np.where(m_codes[:, q_targ] == 1)[0]  # Models sharing target with queries\n",
    "    mas[relevant_models] = 1\n",
    "\n",
    "    # Att. activation\n",
    "    aas[q_targ] = 1  # Does not depend on model activation strategy\n",
    "\n",
    "    return aas, mas"
   ]
  },
  {
   "cell_type": "code",
   "execution_count": 23,
   "metadata": {},
   "outputs": [
    {
     "ename": "NameError",
     "evalue": "name 'codes_to_query' is not defined",
     "output_type": "error",
     "traceback": [
      "\u001b[0;31m---------------------------------------------------------------------------\u001b[0m",
      "\u001b[0;31mNameError\u001b[0m                                 Traceback (most recent call last)",
      "\u001b[0;32m<ipython-input-23-9379edebc405>\u001b[0m in \u001b[0;36m<module>\u001b[0;34m()\u001b[0m\n\u001b[0;32m----> 1\u001b[0;31m \u001b[0mmas\u001b[0m\u001b[0;34m,\u001b[0m \u001b[0maas\u001b[0m \u001b[0;34m=\u001b[0m \u001b[0mmi_pred_algo\u001b[0m\u001b[0;34m(\u001b[0m\u001b[0mm_codes\u001b[0m\u001b[0;34m,\u001b[0m \u001b[0mq_codes\u001b[0m\u001b[0;34m)\u001b[0m\u001b[0;34m\u001b[0m\u001b[0m\n\u001b[0m",
      "\u001b[0;32m<ipython-input-21-71ca428d7ef0>\u001b[0m in \u001b[0;36mmi_pred_algo\u001b[0;34m(m_codes, q_codes)\u001b[0m\n\u001b[1;32m      7\u001b[0m     \u001b[0;31m# Preliminaries\u001b[0m\u001b[0;34m\u001b[0m\u001b[0;34m\u001b[0m\u001b[0m\n\u001b[1;32m      8\u001b[0m     nb_mods, nb_atts, nb_qrys, m_desc, m_targ, q_desc, q_targ = _pred_prelims(m_codes,\n\u001b[0;32m----> 9\u001b[0;31m                                                                               q_codes)\n\u001b[0m\u001b[1;32m     10\u001b[0m     \u001b[0mmas\u001b[0m\u001b[0;34m,\u001b[0m \u001b[0maas\u001b[0m \u001b[0;34m=\u001b[0m \u001b[0m_init_mas_aas_np\u001b[0m\u001b[0;34m(\u001b[0m\u001b[0mnb_mods\u001b[0m\u001b[0;34m,\u001b[0m \u001b[0mnb_atts\u001b[0m\u001b[0;34m,\u001b[0m \u001b[0mnb_qrys\u001b[0m\u001b[0;34m)\u001b[0m\u001b[0;34m\u001b[0m\u001b[0m\n\u001b[1;32m     11\u001b[0m \u001b[0;34m\u001b[0m\u001b[0m\n",
      "\u001b[0;32m<ipython-input-22-fe923f19092b>\u001b[0m in \u001b[0;36m_pred_prelims\u001b[0;34m(m_codes, q_codes)\u001b[0m\n\u001b[1;32m     22\u001b[0m     \u001b[0mnb_queries\u001b[0m \u001b[0;34m=\u001b[0m \u001b[0mq_codes\u001b[0m\u001b[0;34m.\u001b[0m\u001b[0mshape\u001b[0m\u001b[0;34m[\u001b[0m\u001b[0;36m0\u001b[0m\u001b[0;34m]\u001b[0m\u001b[0;34m\u001b[0m\u001b[0m\n\u001b[1;32m     23\u001b[0m \u001b[0;34m\u001b[0m\u001b[0m\n\u001b[0;32m---> 24\u001b[0;31m     \u001b[0mm_desc\u001b[0m\u001b[0;34m,\u001b[0m \u001b[0mm_targ\u001b[0m\u001b[0;34m,\u001b[0m \u001b[0m_\u001b[0m \u001b[0;34m=\u001b[0m \u001b[0mcodes_to_query\u001b[0m\u001b[0;34m(\u001b[0m\u001b[0mm_codes\u001b[0m\u001b[0;34m)\u001b[0m\u001b[0;34m\u001b[0m\u001b[0m\n\u001b[0m\u001b[1;32m     25\u001b[0m     \u001b[0mq_desc\u001b[0m\u001b[0;34m,\u001b[0m \u001b[0mq_targ\u001b[0m\u001b[0;34m,\u001b[0m \u001b[0m_\u001b[0m \u001b[0;34m=\u001b[0m \u001b[0mcodes_to_query\u001b[0m\u001b[0;34m(\u001b[0m\u001b[0mq_codes\u001b[0m\u001b[0;34m)\u001b[0m\u001b[0;34m\u001b[0m\u001b[0m\n\u001b[1;32m     26\u001b[0m \u001b[0;34m\u001b[0m\u001b[0m\n",
      "\u001b[0;31mNameError\u001b[0m: name 'codes_to_query' is not defined"
     ]
    }
   ],
   "source": [
    "mas, aas = mi_pred_algo(m_codes, q_codes)"
   ]
  },
  {
   "cell_type": "code",
   "execution_count": null,
   "metadata": {
    "collapsed": true
   },
   "outputs": [],
   "source": []
  }
 ],
 "metadata": {
  "kernelspec": {
   "display_name": "Python [default]",
   "language": "python",
   "name": "python3"
  },
  "language_info": {
   "codemirror_mode": {
    "name": "ipython",
    "version": 3
   },
   "file_extension": ".py",
   "mimetype": "text/x-python",
   "name": "python",
   "nbconvert_exporter": "python",
   "pygments_lexer": "ipython3",
   "version": "3.6.1"
  },
  "toc": {
   "nav_menu": {},
   "number_sections": true,
   "sideBar": true,
   "skip_h1_title": true,
   "toc_cell": false,
   "toc_position": {},
   "toc_section_display": "block",
   "toc_window_display": false
  }
 },
 "nbformat": 4,
 "nbformat_minor": 2
}
